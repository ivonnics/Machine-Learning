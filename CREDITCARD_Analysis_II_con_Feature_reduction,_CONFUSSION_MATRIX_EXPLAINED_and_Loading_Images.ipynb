{
  "nbformat": 4,
  "nbformat_minor": 0,
  "metadata": {
    "colab": {
      "name": "CREDITCARD Analysis II con Feature reduction, CONFUSSION MATRIX EXPLAINED and Loading Images.ipynb",
      "provenance": [],
      "collapsed_sections": [],
      "include_colab_link": true
    },
    "kernelspec": {
      "name": "python3",
      "display_name": "Python 3"
    }
  },
  "cells": [
    {
      "cell_type": "markdown",
      "metadata": {
        "id": "view-in-github",
        "colab_type": "text"
      },
      "source": [
        "<a href=\"https://colab.research.google.com/github/ivonnics/Machine-Learning/blob/master/CREDITCARD_Analysis_II_con_Feature_reduction%2C_CONFUSSION_MATRIX_EXPLAINED_and_Loading_Images.ipynb\" target=\"_parent\"><img src=\"https://colab.research.google.com/assets/colab-badge.svg\" alt=\"Open In Colab\"/></a>"
      ]
    },
    {
      "cell_type": "code",
      "metadata": {
        "id": "U_LemWlojns9",
        "colab_type": "code",
        "colab": {}
      },
      "source": [
        "# main libraries\n",
        "import pandas as pd\n",
        "import numpy as np\n",
        "import time\n",
        "# visual libraries\n",
        "from matplotlib import pyplot as plt\n",
        "import seaborn as sns\n",
        "from mpl_toolkits.mplot3d import Axes3D \n",
        "plt.style.use('ggplot')\n",
        "# sklearn libraries\n",
        "from sklearn.neighbors import KNeighborsClassifier\n",
        "from sklearn.model_selection import train_test_split\n",
        "from sklearn.preprocessing import normalize\n",
        "from sklearn.metrics import confusion_matrix,accuracy_score,precision_score,recall_score,f1_score,matthews_corrcoef,classification_report,roc_curve\n",
        "from sklearn.externals import joblib\n",
        "from sklearn.preprocessing import StandardScaler\n",
        "from sklearn.decomposition import PCA"
      ],
      "execution_count": 0,
      "outputs": []
    },
    {
      "cell_type": "markdown",
      "metadata": {
        "id": "jlZuy5DqjsZu",
        "colab_type": "text"
      },
      "source": [
        "# Tomado de: https://towardsdatascience.com/data-pre-processing-techniques-you-should-know-8954662716d6"
      ]
    },
    {
      "cell_type": "code",
      "metadata": {
        "id": "83lwvpkujx_a",
        "colab_type": "code",
        "colab": {}
      },
      "source": [
        "# Read the data in the CSV file using pandas\n",
        "df = pd.read_csv('https://raw.githubusercontent.com/nsethi31/Kaggle-Data-Credit-Card-Fraud-Detection/master/creditcard.csv')\n",
        "print(df.shape)\n",
        "df.head()"
      ],
      "execution_count": 0,
      "outputs": []
    },
    {
      "cell_type": "code",
      "metadata": {
        "id": "IpnSWHhXkI6J",
        "colab_type": "code",
        "colab": {}
      },
      "source": [
        "df.isnull().any().sum()"
      ],
      "execution_count": 0,
      "outputs": []
    },
    {
      "cell_type": "code",
      "metadata": {
        "id": "fXKrxKgmkNJI",
        "colab_type": "code",
        "colab": {}
      },
      "source": [
        "All = df.shape[0]\n",
        "fraud = df[df['Class'] == 1]\n",
        "nonFraud = df[df['Class'] == 0]\n",
        "\n",
        "x = len(fraud)/All\n",
        "y = len(nonFraud)/All\n",
        "\n",
        "print('# of frauds :',len(fraud),'(',x*100,'%)')\n",
        "print('# of non frauds :',len(nonFraud),'(',y*100,'%)')"
      ],
      "execution_count": 0,
      "outputs": []
    },
    {
      "cell_type": "code",
      "metadata": {
        "id": "I02XwpZ7kR3A",
        "colab_type": "code",
        "colab": {}
      },
      "source": [
        "# Let's plot the Transaction class against the Frequency\n",
        "labels = ['non frauds','fraud']\n",
        "classes = pd.value_counts(df['Class'], sort = True)\n",
        "classes.plot(kind = 'bar', rot=0)\n",
        "plt.title(\"Transaction class distribution\")\n",
        "plt.xticks(range(2), labels)\n",
        "plt.xlabel(\"Class\")\n",
        "plt.ylabel(\"Frequency\")\n"
      ],
      "execution_count": 0,
      "outputs": []
    },
    {
      "cell_type": "code",
      "metadata": {
        "id": "JHdB-_UskWFI",
        "colab_type": "code",
        "colab": {}
      },
      "source": [
        "# distribution of Amount\n",
        "amount = [df['Amount'].values]\n",
        "sns.distplot(amount)"
      ],
      "execution_count": 0,
      "outputs": []
    },
    {
      "cell_type": "code",
      "metadata": {
        "id": "s5XsXueAkZuA",
        "colab_type": "code",
        "colab": {}
      },
      "source": [
        "# distribution of Time\n",
        "time = df['Time'].values\n",
        "sns.distplot(time)"
      ],
      "execution_count": 0,
      "outputs": []
    },
    {
      "cell_type": "code",
      "metadata": {
        "id": "Z6kSomN6kdl7",
        "colab_type": "code",
        "colab": {}
      },
      "source": [
        "# distribution of anomalous features\n",
        "import matplotlib.gridspec as gridspec\n",
        "anomalous_features = df.iloc[:,1:29].columns\n",
        "\n",
        "plt.figure(figsize=(12,28*4))\n",
        "gs = gridspec.GridSpec(28, 1)\n",
        "for i, cn in enumerate(df[anomalous_features]):\n",
        "    ax = plt.subplot(gs[i])\n",
        "    sns.distplot(df[cn][df.Class == 1], bins=50)\n",
        "    sns.distplot(df[cn][df.Class == 0], bins=50)\n",
        "    ax.set_xlabel('')\n",
        "    ax.set_title('histogram of feature: ' + str(cn))\n",
        "plt.show()"
      ],
      "execution_count": 0,
      "outputs": []
    },
    {
      "cell_type": "code",
      "metadata": {
        "id": "9bXiOxtllMOs",
        "colab_type": "code",
        "colab": {}
      },
      "source": [
        "# heat map of correlation of features\n",
        "correlation_matrix = df.corr()\n",
        "fig = plt.figure(figsize=(12,9))\n",
        "sns.heatmap(correlation_matrix,vmax=0.8,square = True)\n",
        "plt.show()"
      ],
      "execution_count": 0,
      "outputs": []
    },
    {
      "cell_type": "code",
      "metadata": {
        "id": "5TIjSJvllQhm",
        "colab_type": "code",
        "colab": {}
      },
      "source": [
        "# Standardizing the features\n",
        "df['Vamount'] = StandardScaler().fit_transform(df['Amount'].values.reshape(-1,1))\n",
        "df['Vtime'] = StandardScaler().fit_transform(df['Time'].values.reshape(-1,1))\n",
        "\n",
        "df = df.drop(['Time','Amount'], axis = 1)\n",
        "print(df.shape)\n",
        "df.head()"
      ],
      "execution_count": 0,
      "outputs": []
    },
    {
      "cell_type": "code",
      "metadata": {
        "id": "HAR4MDm1lVFG",
        "colab_type": "code",
        "colab": {}
      },
      "source": [
        "X = df.drop(['Class'], axis = 1)\n",
        "y = df['Class']"
      ],
      "execution_count": 0,
      "outputs": []
    },
    {
      "cell_type": "code",
      "metadata": {
        "id": "QzRELd4DCpcH",
        "colab_type": "code",
        "colab": {}
      },
      "source": [
        "from sklearn.ensemble import RandomForestClassifier"
      ],
      "execution_count": 0,
      "outputs": []
    },
    {
      "cell_type": "code",
      "metadata": {
        "id": "jpHBy3oIC20E",
        "colab_type": "code",
        "colab": {}
      },
      "source": [
        "# Train model\n",
        "\n",
        "X_train, X_test, y_train, y_test = train_test_split(X, y, stratify=y,test_size=0.05,\n",
        "                                                    random_state=42)\n",
        "\n",
        "clf_4 = RandomForestClassifier()\n",
        "clf_4.fit(X_train, y_train)\n",
        " \n",
        "# Predict on training set\n",
        "pred_y_4 = clf_4.predict(X_test)\n",
        " \n",
        "# Is our model still predicting just one class?\n",
        "print( np.unique( pred_y_4 ) )\n",
        "# [0 1]\n",
        " \n",
        "# How's our accuracy?\n",
        "print( accuracy_score(y_test, pred_y_4) )\n",
        "# 0.9744\n",
        " \n"
      ],
      "execution_count": 0,
      "outputs": []
    },
    {
      "cell_type": "code",
      "metadata": {
        "id": "pWWD4GyiEpog",
        "colab_type": "code",
        "colab": {}
      },
      "source": [
        "# What about AUROC?\n",
        "from sklearn.metrics import roc_auc_score\n",
        "\n",
        "prob_y_4 = clf_4.predict_proba(X)\n",
        "prob_y_4 = [p[1] for p in prob_y_4]\n",
        "print( roc_auc_score(y, prob_y_4) )\n",
        "# 0.999078798186"
      ],
      "execution_count": 0,
      "outputs": []
    },
    {
      "cell_type": "code",
      "metadata": {
        "id": "iRzlp5X-HJ6u",
        "colab_type": "code",
        "colab": {}
      },
      "source": [
        "from sklearn.metrics import confusion_matrix\n",
        "confmat = confusion_matrix(y_true=y_test, y_pred=pred_y_4)\n",
        "print(confmat)"
      ],
      "execution_count": 0,
      "outputs": []
    },
    {
      "cell_type": "code",
      "metadata": {
        "id": "RylIG16ZJAqK",
        "colab_type": "code",
        "colab": {}
      },
      "source": [
        "fig, ax = plt.subplots(figsize=(2.5, 2.5))\n",
        "ax.matshow(confmat, cmap=plt.cm.Blues, alpha=0.3)\n",
        "for i in range(confmat.shape[0]):\n",
        "    for j in range(confmat.shape[1]):\n",
        "        ax.text(x=j, y=i, s=confmat[i, j], va='center', ha='center')\n",
        "\n",
        "plt.xlabel('predicted label')\n",
        "plt.ylabel('true label')\n",
        "\n",
        "plt.tight_layout()\n",
        "# plt.savefig('./figures/confusion_matrix.png', dpi=300)\n",
        "plt.show()"
      ],
      "execution_count": 0,
      "outputs": []
    },
    {
      "cell_type": "code",
      "metadata": {
        "id": "I-S72ND4uZu3",
        "colab_type": "code",
        "colab": {}
      },
      "source": [
        "TP = confmat[0,0]\n",
        "FP = confmat[0,1]\n",
        "TN = confmat[1,0]\n",
        "FN = confmat[1,1]\n",
        "TP,FP,TN,FN"
      ],
      "execution_count": 0,
      "outputs": []
    },
    {
      "cell_type": "markdown",
      "metadata": {
        "id": "jQyDbMliLKiN",
        "colab_type": "text"
      },
      "source": [
        "From: https://towardsdatascience.com/the-2-step-guide-to-upload-images-in-google-colab-b51348e882e4\n",
        "\n",
        "and\n",
        "\n",
        "https://stackoverflow.com/questions/61704041/how-may-i-insert-an-image-from-my-github-repository-in-my-google-colab-notebook/61708045#61708045\n",
        "\n",
        "and\n",
        "\n",
        "https://www.geeksforgeeks.org/working-images-python/"
      ]
    },
    {
      "cell_type": "markdown",
      "metadata": {
        "id": "dugzLQiGI7pC",
        "colab_type": "text"
      },
      "source": [
        "## De mi Google Drive:\n",
        "![picture](https://drive.google.com/uc?id=10ag5oyoi5wbdXbYFE50XsWgG3VJhV16q)"
      ]
    },
    {
      "cell_type": "markdown",
      "metadata": {
        "id": "PHT1jcvd9ZYY",
        "colab_type": "text"
      },
      "source": [
        "## De mi Github:\n",
        "![](https://raw.githubusercontent.com/ivonnics/Machine-Learning/master/Tabla%20Confussion%20Matrix.png)"
      ]
    },
    {
      "cell_type": "markdown",
      "metadata": {
        "id": "1KnJYTKjJkOi",
        "colab_type": "text"
      },
      "source": [
        "![](https://raw.githubusercontent.com/ivonnics/Machine-Learning/master/St_benedict_medal-2006_04_24.png)"
      ]
    },
    {
      "cell_type": "markdown",
      "metadata": {
        "id": "QOT0r4oUCx4T",
        "colab_type": "text"
      },
      "source": [
        "## Cargando archivos directamente de donde sea:\n",
        "al directorio de trabajo de Google Colab..."
      ]
    },
    {
      "cell_type": "code",
      "metadata": {
        "id": "3PAlRb1ICv9I",
        "colab_type": "code",
        "colab": {}
      },
      "source": [
        " !wget https://raw.githubusercontent.com/ivonnics/Machine-Learning/master/St_benedict_medal-2006_04_24.png"
      ],
      "execution_count": 0,
      "outputs": []
    },
    {
      "cell_type": "code",
      "metadata": {
        "id": "uHYnwo_VJ0aa",
        "colab_type": "code",
        "colab": {}
      },
      "source": [
        "from PIL import Image \n",
        "img  = Image.open('St_benedict_medal-2006_04_24.png')\n",
        "img  "
      ],
      "execution_count": 0,
      "outputs": []
    },
    {
      "cell_type": "code",
      "metadata": {
        "id": "QwQQ3lUwIcW7",
        "colab_type": "code",
        "colab": {}
      },
      "source": [
        " !wget https://raw.githubusercontent.com/ivonnics/Machine-Learning/master/Graficando%20Figure_1.png"
      ],
      "execution_count": 0,
      "outputs": []
    },
    {
      "cell_type": "code",
      "metadata": {
        "id": "DbZyHXpiIDn6",
        "colab_type": "code",
        "colab": {}
      },
      "source": [
        "img  = Image.open('Graficando Figure_1.png')\n",
        "img  "
      ],
      "execution_count": 0,
      "outputs": []
    },
    {
      "cell_type": "code",
      "metadata": {
        "id": "fGP_g_Jf5jIW",
        "colab_type": "code",
        "colab": {}
      },
      "source": [
        "Accuracy=(TP+FN)/(TP+FP+TN+FN)\n",
        "Precision=TP/(TP+FP)\n",
        "NPV=FN/(TN+FN)\n",
        "Sensitivity=TP/(TP+TN)\n",
        "Specificity=FN/(FP+FN)\n",
        "print('Accuracy =',Accuracy)\n",
        "print('Precision =',Precision)\n",
        "print('NPV (or Precision for Negative values) =',NPV)\n",
        "print('Recall or Sensitivity =',Sensitivity)\n",
        "print('Specificity (or Recall for negative examples)=',Specificity)"
      ],
      "execution_count": 0,
      "outputs": []
    },
    {
      "cell_type": "code",
      "metadata": {
        "id": "UrkFsJ-mx1Xk",
        "colab_type": "code",
        "colab": {}
      },
      "source": [
        "y_true=y_test\n",
        "y_pred=pred_y_4\n",
        "from sklearn.metrics import classification_report\n",
        "target_names = ['Non Frauds', 'Frauds']\n",
        "print(classification_report(y_true, y_pred, target_names=target_names))"
      ],
      "execution_count": 0,
      "outputs": []
    },
    {
      "cell_type": "markdown",
      "metadata": {
        "id": "nP9OwMLQ3ItW",
        "colab_type": "text"
      },
      "source": [
        "##  Metodo de: Random Forest Regression Feature Importance\n",
        "Tomado de: https://machinelearningmastery.com/calculate-feature-importance-with-python/"
      ]
    },
    {
      "cell_type": "code",
      "metadata": {
        "id": "w8OXKq6a3goE",
        "colab_type": "code",
        "colab": {}
      },
      "source": [
        "# get importance\n",
        "importance = clf_4.feature_importances_\n",
        "# summarize feature importance\n",
        "for i,v in enumerate(importance):\n",
        "\tprint('Feature: %0d, Score: %.5f' % (i,v))\n",
        "# plot feature importance\n",
        "plt.bar([x for x in range(len(importance))], importance)\n",
        "plt.show()"
      ],
      "execution_count": 0,
      "outputs": []
    },
    {
      "cell_type": "code",
      "metadata": {
        "id": "QiIqr8x4-eVl",
        "colab_type": "code",
        "colab": {}
      },
      "source": [
        ""
      ],
      "execution_count": 0,
      "outputs": []
    },
    {
      "cell_type": "code",
      "metadata": {
        "colab_type": "code",
        "id": "xMQZuID4-ere",
        "colab": {}
      },
      "source": [
        "# From: https://stackoverflow.com/questions/41900387/mapping-column-names-to-random-forest-feature-importances\n",
        "feat_importances = pd.Series(clf_4.feature_importances_, index=X.columns)\n",
        "feat_importances.nlargest(15).plot(kind='barh')\n",
        "plt.title(\"Top 15 important features\")\n",
        "plt.show()"
      ],
      "execution_count": 0,
      "outputs": []
    },
    {
      "cell_type": "markdown",
      "metadata": {
        "id": "yRkguFxoSPQK",
        "colab_type": "text"
      },
      "source": [
        "## Embedded Method:"
      ]
    },
    {
      "cell_type": "code",
      "metadata": {
        "id": "N32jQ599R9Z_",
        "colab_type": "code",
        "colab": {}
      },
      "source": [
        "from sklearn.linear_model import RidgeCV, LassoCV, Ridge, Lasso\n",
        "reg = LassoCV()\n",
        "reg.fit(X, y)\n",
        "print(\"Best alpha using built-in LassoCV: %f\" % reg.alpha_)\n",
        "print(\"Best score using built-in LassoCV: %f\" %reg.score(X,y))\n",
        "coef = pd.Series(reg.coef_, index = X.columns)\n",
        "coef"
      ],
      "execution_count": 0,
      "outputs": []
    },
    {
      "cell_type": "code",
      "metadata": {
        "id": "qVup219qUAR2",
        "colab_type": "code",
        "colab": {}
      },
      "source": [
        "print(\"Lasso picked \" + str(sum(coef != 0)) + \" variables and eliminated the other \" +  str(sum(coef == 0)) + \" variables\")"
      ],
      "execution_count": 0,
      "outputs": []
    },
    {
      "cell_type": "code",
      "metadata": {
        "id": "thGvR-DclCrN",
        "colab_type": "code",
        "colab": {}
      },
      "source": [
        "Selvar= coef.loc[(coef!=0)]\n",
        "print(Selvar)\n",
        "Newfeat=list(Selvar.index)\n",
        "Newfeat"
      ],
      "execution_count": 0,
      "outputs": []
    },
    {
      "cell_type": "code",
      "metadata": {
        "id": "WEo1V74aUE1R",
        "colab_type": "code",
        "colab": {}
      },
      "source": [
        "imp_coef = coef.sort_values()\n",
        "import matplotlib\n",
        "matplotlib.rcParams['figure.figsize'] = (15.0, 20.0)\n",
        "imp_coef.plot(kind = \"barh\")\n",
        "plt.title(\"Feature importance using Lasso Model\")"
      ],
      "execution_count": 0,
      "outputs": []
    },
    {
      "cell_type": "code",
      "metadata": {
        "id": "3w7JJDiLmyit",
        "colab_type": "code",
        "colab": {}
      },
      "source": [
        "# From: https://pandas.pydata.org/docs/getting_started/intro_tutorials/03_subset_data.html\n",
        "titanic=df[Newfeat]\n",
        "titanic"
      ],
      "execution_count": 0,
      "outputs": []
    },
    {
      "cell_type": "code",
      "metadata": {
        "id": "9fJVQPdVnvs6",
        "colab_type": "code",
        "colab": {}
      },
      "source": [
        "# Train model\n",
        "\n",
        "X_train2, X_test2, y_train2, y_test2 = train_test_split(titanic, y, stratify=y,test_size=0.05,\n",
        "                                                    random_state=42)\n",
        "\n",
        "clf_5 = RandomForestClassifier()\n",
        "clf_5.fit(X_train2, y_train2)\n",
        " \n",
        "# Predict on training set\n",
        "pred_y_5 = clf_5.predict(X_test2)\n",
        " \n",
        "# Is our model still predicting just one class?\n",
        "print( np.unique( pred_y_5 ) )\n",
        "# [0 1]\n",
        " \n",
        "# How's our accuracy?\n",
        "print( accuracy_score(y_test2, pred_y_5) )\n",
        "# 0.9744\n",
        " \n"
      ],
      "execution_count": 0,
      "outputs": []
    },
    {
      "cell_type": "code",
      "metadata": {
        "id": "jyrCh72EqdXT",
        "colab_type": "code",
        "colab": {}
      },
      "source": [
        "confmat2 = confusion_matrix(y_true=y_test2, y_pred=pred_y_5)\n",
        "print(confmat2)"
      ],
      "execution_count": 0,
      "outputs": []
    },
    {
      "cell_type": "code",
      "metadata": {
        "id": "r4nm8WIaqsP-",
        "colab_type": "code",
        "colab": {}
      },
      "source": [
        "fig, ax = plt.subplots(figsize=(2.5, 2.5))\n",
        "ax.matshow(confmat2, cmap=plt.cm.Blues, alpha=0.3)\n",
        "for i in range(confmat.shape[0]):\n",
        "    for j in range(confmat2.shape[1]):\n",
        "        ax.text(x=j, y=i, s=confmat2[i, j], va='center', ha='center')\n",
        "\n",
        "plt.xlabel('predicted label')\n",
        "plt.ylabel('true label')\n",
        "\n",
        "plt.tight_layout()\n",
        "# plt.savefig('./figures/confusion_matrix.png', dpi=300)\n",
        "plt.show()"
      ],
      "execution_count": 0,
      "outputs": []
    },
    {
      "cell_type": "code",
      "metadata": {
        "id": "gssoz7qyut9v",
        "colab_type": "code",
        "colab": {}
      },
      "source": [
        "TP2 = confmat2[0,0]\n",
        "FP2 = confmat2[0,1]\n",
        "TN2 = confmat2[1,0]\n",
        "FN2 = confmat2[1,1]\n",
        "TP2,FP2,TN2,FN2"
      ],
      "execution_count": 0,
      "outputs": []
    },
    {
      "cell_type": "code",
      "metadata": {
        "id": "b6xfETAQ21OJ",
        "colab_type": "code",
        "colab": {}
      },
      "source": [
        "Accuracy=(TP2+FN2)/(TP2+FP2+TN2+FN2)\n",
        "Precision=TP2/(TP2+FP2)\n",
        "NPV=FN2/(TN2+FN2)\n",
        "Sensitivity=TP2/(TP2+TN2)\n",
        "Specificity=FN2/(FP2+FN2)\n",
        "print('Accuracy =',Accuracy)\n",
        "print('Precision =',Precision)\n",
        "print('NPV (or Precision for Negative values) =',NPV)\n",
        "print('Recall or Sensitivity =',Sensitivity)\n",
        "print('Specificity (or Recall for negative examples)=',Specificity)"
      ],
      "execution_count": 0,
      "outputs": []
    },
    {
      "cell_type": "code",
      "metadata": {
        "id": "Q0Vw8qxavsDY",
        "colab_type": "code",
        "colab": {}
      },
      "source": [
        "y_true=y_test2\n",
        "y_pred=pred_y_5\n",
        "from sklearn.metrics import classification_report\n",
        "target_names = ['Non Frauds', 'Frauds']\n",
        "print(classification_report(y_true, y_pred, target_names=target_names))"
      ],
      "execution_count": 0,
      "outputs": []
    },
    {
      "cell_type": "code",
      "metadata": {
        "id": "Hl9KrRIA15L_",
        "colab_type": "code",
        "colab": {}
      },
      "source": [
        "# Nuevamente de Random Forest Regression Feature Importance: https://machinelearningmastery.com/calculate-feature-importance-with-python/\n",
        "# get importance\n",
        "importance = clf_5.feature_importances_\n",
        "# summarize feature importance\n",
        "for i,v in enumerate(importance):\n",
        "\tprint('Feature: %0d, Score: %.5f' % (i,v))\n",
        "# plot feature importance\n",
        "plt.bar([x for x in range(len(importance))], importance)\n",
        "plt.show()"
      ],
      "execution_count": 0,
      "outputs": []
    },
    {
      "cell_type": "code",
      "metadata": {
        "id": "2A_Gp6jF-YOH",
        "colab_type": "code",
        "colab": {}
      },
      "source": [
        "# From: https://stackoverflow.com/questions/41900387/mapping-column-names-to-random-forest-feature-importances\n",
        "feat_importances = pd.Series(clf_5.feature_importances_, index=titanic.columns)\n",
        "feat_importances.nlargest(11).plot(kind='barh')\n",
        "plt.title(\"Top 15 important features\")\n",
        "plt.show()"
      ],
      "execution_count": 0,
      "outputs": []
    },
    {
      "cell_type": "markdown",
      "metadata": {
        "id": "xbzExPh0U5f5",
        "colab_type": "text"
      },
      "source": [
        "## RFE (Recursive Feature Elimination):"
      ]
    },
    {
      "cell_type": "code",
      "metadata": {
        "id": "K4QB_-VRU4u-",
        "colab_type": "code",
        "colab": {}
      },
      "source": [
        "import numpy as np\n",
        "from sklearn.model_selection import train_test_split\n",
        "from sklearn.linear_model import LinearRegression\n",
        "from sklearn.feature_selection import RFE\n",
        "#no of features\n",
        "nof_list=np.arange(1,len(df.columns))            \n",
        "high_score=0\n",
        "#Variable to store the optimum features\n",
        "nof=0           \n",
        "score_list =[]\n",
        "for n in range(len(nof_list)):\n",
        "    X_train, X_test, y_train, y_test = train_test_split(X,y, test_size = 0.3, random_state = 0)\n",
        "    model = LinearRegression()\n",
        "    rfe = RFE(model,nof_list[n])\n",
        "    X_train_rfe = rfe.fit_transform(X_train,y_train)\n",
        "    X_test_rfe = rfe.transform(X_test)\n",
        "    model.fit(X_train_rfe,y_train)\n",
        "    score = model.score(X_test_rfe,y_test)\n",
        "    score_list.append(score)\n",
        "    if(score>high_score):\n",
        "        high_score = score\n",
        "        nof = nof_list[n]\n",
        "print(\"Optimum number of features: %d\" %nof)\n",
        "print(\"Score with %d features: %f\" % (nof, high_score))"
      ],
      "execution_count": 0,
      "outputs": []
    },
    {
      "cell_type": "code",
      "metadata": {
        "id": "pI1vUv0fVpBb",
        "colab_type": "code",
        "colab": {}
      },
      "source": [
        "model = LinearRegression()\n",
        "#Initializing RFE model\n",
        "rfe = RFE(model, nof)\n",
        "#Transforming data using RFE\n",
        "X_rfe = rfe.fit_transform(X,y)  \n",
        "#Fitting the data to model\n",
        "model.fit(X_rfe,y)\n",
        "print(rfe.support_)\n",
        "print(rfe.ranking_)"
      ],
      "execution_count": 0,
      "outputs": []
    },
    {
      "cell_type": "code",
      "metadata": {
        "id": "HCZH5tzGVwJX",
        "colab_type": "code",
        "colab": {}
      },
      "source": [
        "cols = list(X.columns)\n",
        "model = LinearRegression()\n",
        "#Initializing RFE model\n",
        "rfe = RFE(model, nof)             \n",
        "#Transforming data using RFE\n",
        "X_rfe = rfe.fit_transform(X,y)  \n",
        "#Fitting the data to model\n",
        "model.fit(X_rfe,y)              \n",
        "temp = pd.Series(rfe.support_,index = cols)\n",
        "selected_features_rfe = temp[temp==True].index\n",
        "print(selected_features_rfe)"
      ],
      "execution_count": 0,
      "outputs": []
    }
  ]
}