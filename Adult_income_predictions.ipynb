{
  "nbformat": 4,
  "nbformat_minor": 0,
  "metadata": {
    "colab": {
      "name": "Adult_income_predictions.ipynb",
      "version": "0.3.2",
      "provenance": [],
      "include_colab_link": true
    },
    "language_info": {
      "codemirror_mode": {
        "name": "ipython",
        "version": 2
      },
      "file_extension": ".py",
      "mimetype": "text/x-python",
      "name": "python",
      "nbconvert_exporter": "python",
      "pygments_lexer": "ipython2",
      "version": "2.7.14"
    },
    "kernelspec": {
      "display_name": "Python 2",
      "language": "python",
      "name": "python2"
    }
  },
  "cells": [
    {
      "cell_type": "markdown",
      "metadata": {
        "id": "view-in-github",
        "colab_type": "text"
      },
      "source": [
        "<a href=\"https://colab.research.google.com/github/ivonnics/Machine-Learning/blob/master/Adult_income_predictions.ipynb\" target=\"_parent\"><img src=\"https://colab.research.google.com/assets/colab-badge.svg\" alt=\"Open In Colab\"/></a>"
      ]
    },
    {
      "cell_type": "markdown",
      "metadata": {
        "id": "spE_V5TLk5CV",
        "colab_type": "text"
      },
      "source": [
        "# Tomado de: https://medium.com/@julie.yin/use-one-hot-encoding-to-analyze-adult-income-data-and-some-bad-news-for-the-single-people-in-the-cef71f9d47b4\n",
        "\n",
        "y de: https://github.com/janeyin600/Machine_learning_projects/tree/master/adult_income_predictions\n",
        "\n",
        "### Use logistic regression to predict adult incomes\n",
        "### Data resource: Kaggle (https://www.kaggle.com/flyingwombat/logistic-regression-with-uci-adult-income/data)"
      ]
    },
    {
      "cell_type": "code",
      "metadata": {
        "id": "75W_-jKnjTck",
        "colab_type": "code",
        "colab": {}
      },
      "source": [
        "import numpy as np\n",
        "import pandas as pd\n",
        "import sklearn.preprocessing as preprocessing\n",
        "import seaborn as sns\n",
        "import matplotlib.pyplot as plt\n",
        "from sklearn.model_selection import train_test_split\n",
        "import sklearn.linear_model as linear_model\n",
        "from sklearn.metrics import accuracy_score\n",
        "from sklearn.preprocessing import OneHotEncoder\n",
        "from sklearn.ensemble import RandomForestRegressor, GradientBoostingRegressor"
      ],
      "execution_count": 0,
      "outputs": []
    },
    {
      "cell_type": "code",
      "metadata": {
        "id": "OAfWRZeajTco",
        "colab_type": "code",
        "outputId": "49e7fc35-1658-4666-cd00-2654d72f4787",
        "colab": {
          "base_uri": "https://localhost:8080/",
          "height": 71
        }
      },
      "source": [
        "# Load local csv data into pandas DataFrame\n",
        "income_df = pd.read_csv(\"https://raw.githubusercontent.com/janeyin600/Machine_learning_projects/master/adult_income_predictions/data/income_data.csv\")\n",
        "#income_df_list =  list(income_df)\n",
        "print list(income_df)\n",
        "print income_df.shape"
      ],
      "execution_count": 2,
      "outputs": [
        {
          "output_type": "stream",
          "text": [
            "['age', 'workclass', 'fnlwgt', 'education', 'educational-num', 'marital-status', 'occupation', 'relationship', 'race', 'gender', 'capital-gain', 'capital-loss', 'hours-per-week', 'native-country', 'income']\n",
            "(48842, 15)\n"
          ],
          "name": "stdout"
        }
      ]
    },
    {
      "cell_type": "code",
      "metadata": {
        "id": "Rrd5f1VdjTcy",
        "colab_type": "code",
        "outputId": "55bddc3c-ff45-4bcc-e010-5c53f4df92dd",
        "colab": {
          "base_uri": "https://localhost:8080/",
          "height": 306
        }
      },
      "source": [
        "income_df.sample(5)"
      ],
      "execution_count": 3,
      "outputs": [
        {
          "output_type": "execute_result",
          "data": {
            "text/html": [
              "<div>\n",
              "<style scoped>\n",
              "    .dataframe tbody tr th:only-of-type {\n",
              "        vertical-align: middle;\n",
              "    }\n",
              "\n",
              "    .dataframe tbody tr th {\n",
              "        vertical-align: top;\n",
              "    }\n",
              "\n",
              "    .dataframe thead th {\n",
              "        text-align: right;\n",
              "    }\n",
              "</style>\n",
              "<table border=\"1\" class=\"dataframe\">\n",
              "  <thead>\n",
              "    <tr style=\"text-align: right;\">\n",
              "      <th></th>\n",
              "      <th>age</th>\n",
              "      <th>workclass</th>\n",
              "      <th>fnlwgt</th>\n",
              "      <th>education</th>\n",
              "      <th>educational-num</th>\n",
              "      <th>marital-status</th>\n",
              "      <th>occupation</th>\n",
              "      <th>relationship</th>\n",
              "      <th>race</th>\n",
              "      <th>gender</th>\n",
              "      <th>capital-gain</th>\n",
              "      <th>capital-loss</th>\n",
              "      <th>hours-per-week</th>\n",
              "      <th>native-country</th>\n",
              "      <th>income</th>\n",
              "    </tr>\n",
              "  </thead>\n",
              "  <tbody>\n",
              "    <tr>\n",
              "      <th>32613</th>\n",
              "      <td>28</td>\n",
              "      <td>Private</td>\n",
              "      <td>334032</td>\n",
              "      <td>Assoc-voc</td>\n",
              "      <td>11</td>\n",
              "      <td>Never-married</td>\n",
              "      <td>Sales</td>\n",
              "      <td>Not-in-family</td>\n",
              "      <td>White</td>\n",
              "      <td>Male</td>\n",
              "      <td>0</td>\n",
              "      <td>0</td>\n",
              "      <td>50</td>\n",
              "      <td>United-States</td>\n",
              "      <td>&lt;=50K</td>\n",
              "    </tr>\n",
              "    <tr>\n",
              "      <th>27706</th>\n",
              "      <td>17</td>\n",
              "      <td>Private</td>\n",
              "      <td>226717</td>\n",
              "      <td>12th</td>\n",
              "      <td>8</td>\n",
              "      <td>Never-married</td>\n",
              "      <td>Handlers-cleaners</td>\n",
              "      <td>Own-child</td>\n",
              "      <td>White</td>\n",
              "      <td>Male</td>\n",
              "      <td>0</td>\n",
              "      <td>0</td>\n",
              "      <td>20</td>\n",
              "      <td>United-States</td>\n",
              "      <td>&lt;=50K</td>\n",
              "    </tr>\n",
              "    <tr>\n",
              "      <th>18595</th>\n",
              "      <td>40</td>\n",
              "      <td>Private</td>\n",
              "      <td>29841</td>\n",
              "      <td>Bachelors</td>\n",
              "      <td>13</td>\n",
              "      <td>Married-civ-spouse</td>\n",
              "      <td>Adm-clerical</td>\n",
              "      <td>Wife</td>\n",
              "      <td>White</td>\n",
              "      <td>Female</td>\n",
              "      <td>0</td>\n",
              "      <td>0</td>\n",
              "      <td>40</td>\n",
              "      <td>United-States</td>\n",
              "      <td>&lt;=50K</td>\n",
              "    </tr>\n",
              "    <tr>\n",
              "      <th>24334</th>\n",
              "      <td>29</td>\n",
              "      <td>?</td>\n",
              "      <td>189282</td>\n",
              "      <td>HS-grad</td>\n",
              "      <td>9</td>\n",
              "      <td>Married-civ-spouse</td>\n",
              "      <td>?</td>\n",
              "      <td>Not-in-family</td>\n",
              "      <td>White</td>\n",
              "      <td>Female</td>\n",
              "      <td>0</td>\n",
              "      <td>0</td>\n",
              "      <td>27</td>\n",
              "      <td>United-States</td>\n",
              "      <td>&lt;=50K</td>\n",
              "    </tr>\n",
              "    <tr>\n",
              "      <th>33346</th>\n",
              "      <td>22</td>\n",
              "      <td>Private</td>\n",
              "      <td>270436</td>\n",
              "      <td>HS-grad</td>\n",
              "      <td>9</td>\n",
              "      <td>Never-married</td>\n",
              "      <td>Other-service</td>\n",
              "      <td>Own-child</td>\n",
              "      <td>White</td>\n",
              "      <td>Male</td>\n",
              "      <td>0</td>\n",
              "      <td>0</td>\n",
              "      <td>40</td>\n",
              "      <td>United-States</td>\n",
              "      <td>&lt;=50K</td>\n",
              "    </tr>\n",
              "  </tbody>\n",
              "</table>\n",
              "</div>"
            ],
            "text/plain": [
              "       age workclass  fnlwgt  ... hours-per-week  native-country income\n",
              "32613   28   Private  334032  ...             50   United-States  <=50K\n",
              "27706   17   Private  226717  ...             20   United-States  <=50K\n",
              "18595   40   Private   29841  ...             40   United-States  <=50K\n",
              "24334   29         ?  189282  ...             27   United-States  <=50K\n",
              "33346   22   Private  270436  ...             40   United-States  <=50K\n",
              "\n",
              "[5 rows x 15 columns]"
            ]
          },
          "metadata": {
            "tags": []
          },
          "execution_count": 3
        }
      ]
    },
    {
      "cell_type": "code",
      "metadata": {
        "id": "g0RSScKCjTc5",
        "colab_type": "code",
        "outputId": "dd7fc754-4176-456e-9102-bf8dd892c969",
        "colab": {
          "base_uri": "https://localhost:8080/",
          "height": 3621
        }
      },
      "source": [
        "# get some basic ideas about the data\n",
        "def summerize_data(df):\n",
        "    for column in df.columns:\n",
        "        print column\n",
        "        if df.dtypes[column] == np.object: # Categorical data\n",
        "            print df[column].value_counts()\n",
        "        else:\n",
        "            print df[column].describe() \n",
        "            \n",
        "        print '\\n'\n",
        "    \n",
        "summerize_data(income_df) "
      ],
      "execution_count": 4,
      "outputs": [
        {
          "output_type": "stream",
          "text": [
            "age\n",
            "count    48842.000000\n",
            "mean        38.643585\n",
            "std         13.710510\n",
            "min         17.000000\n",
            "25%         28.000000\n",
            "50%         37.000000\n",
            "75%         48.000000\n",
            "max         90.000000\n",
            "Name: age, dtype: float64\n",
            "\n",
            "\n",
            "workclass\n",
            "Private             33906\n",
            "Self-emp-not-inc     3862\n",
            "Local-gov            3136\n",
            "?                    2799\n",
            "State-gov            1981\n",
            "Self-emp-inc         1695\n",
            "Federal-gov          1432\n",
            "Without-pay            21\n",
            "Never-worked           10\n",
            "Name: workclass, dtype: int64\n",
            "\n",
            "\n",
            "fnlwgt\n",
            "count    4.884200e+04\n",
            "mean     1.896641e+05\n",
            "std      1.056040e+05\n",
            "min      1.228500e+04\n",
            "25%      1.175505e+05\n",
            "50%      1.781445e+05\n",
            "75%      2.376420e+05\n",
            "max      1.490400e+06\n",
            "Name: fnlwgt, dtype: float64\n",
            "\n",
            "\n",
            "education\n",
            "HS-grad         15784\n",
            "Some-college    10878\n",
            "Bachelors        8025\n",
            "Masters          2657\n",
            "Assoc-voc        2061\n",
            "11th             1812\n",
            "Assoc-acdm       1601\n",
            "10th             1389\n",
            "7th-8th           955\n",
            "Prof-school       834\n",
            "9th               756\n",
            "12th              657\n",
            "Doctorate         594\n",
            "5th-6th           509\n",
            "1st-4th           247\n",
            "Preschool          83\n",
            "Name: education, dtype: int64\n",
            "\n",
            "\n",
            "educational-num\n",
            "count    48842.000000\n",
            "mean        10.078089\n",
            "std          2.570973\n",
            "min          1.000000\n",
            "25%          9.000000\n",
            "50%         10.000000\n",
            "75%         12.000000\n",
            "max         16.000000\n",
            "Name: educational-num, dtype: float64\n",
            "\n",
            "\n",
            "marital-status\n",
            "Married-civ-spouse       22379\n",
            "Never-married            16117\n",
            "Divorced                  6633\n",
            "Separated                 1530\n",
            "Widowed                   1518\n",
            "Married-spouse-absent      628\n",
            "Married-AF-spouse           37\n",
            "Name: marital-status, dtype: int64\n",
            "\n",
            "\n",
            "occupation\n",
            "Prof-specialty       6172\n",
            "Craft-repair         6112\n",
            "Exec-managerial      6086\n",
            "Adm-clerical         5611\n",
            "Sales                5504\n",
            "Other-service        4923\n",
            "Machine-op-inspct    3022\n",
            "?                    2809\n",
            "Transport-moving     2355\n",
            "Handlers-cleaners    2072\n",
            "Farming-fishing      1490\n",
            "Tech-support         1446\n",
            "Protective-serv       983\n",
            "Priv-house-serv       242\n",
            "Armed-Forces           15\n",
            "Name: occupation, dtype: int64\n",
            "\n",
            "\n",
            "relationship\n",
            "Husband           19716\n",
            "Not-in-family     12583\n",
            "Own-child          7581\n",
            "Unmarried          5125\n",
            "Wife               2331\n",
            "Other-relative     1506\n",
            "Name: relationship, dtype: int64\n",
            "\n",
            "\n",
            "race\n",
            "White                 41762\n",
            "Black                  4685\n",
            "Asian-Pac-Islander     1519\n",
            "Amer-Indian-Eskimo      470\n",
            "Other                   406\n",
            "Name: race, dtype: int64\n",
            "\n",
            "\n",
            "gender\n",
            "Male      32650\n",
            "Female    16192\n",
            "Name: gender, dtype: int64\n",
            "\n",
            "\n",
            "capital-gain\n",
            "count    48842.000000\n",
            "mean      1079.067626\n",
            "std       7452.019058\n",
            "min          0.000000\n",
            "25%          0.000000\n",
            "50%          0.000000\n",
            "75%          0.000000\n",
            "max      99999.000000\n",
            "Name: capital-gain, dtype: float64\n",
            "\n",
            "\n",
            "capital-loss\n",
            "count    48842.000000\n",
            "mean        87.502314\n",
            "std        403.004552\n",
            "min          0.000000\n",
            "25%          0.000000\n",
            "50%          0.000000\n",
            "75%          0.000000\n",
            "max       4356.000000\n",
            "Name: capital-loss, dtype: float64\n",
            "\n",
            "\n",
            "hours-per-week\n",
            "count    48842.000000\n",
            "mean        40.422382\n",
            "std         12.391444\n",
            "min          1.000000\n",
            "25%         40.000000\n",
            "50%         40.000000\n",
            "75%         45.000000\n",
            "max         99.000000\n",
            "Name: hours-per-week, dtype: float64\n",
            "\n",
            "\n",
            "native-country\n",
            "United-States                 43832\n",
            "Mexico                          951\n",
            "?                               857\n",
            "Philippines                     295\n",
            "Germany                         206\n",
            "Puerto-Rico                     184\n",
            "Canada                          182\n",
            "El-Salvador                     155\n",
            "India                           151\n",
            "Cuba                            138\n",
            "England                         127\n",
            "China                           122\n",
            "South                           115\n",
            "Jamaica                         106\n",
            "Italy                           105\n",
            "Dominican-Republic              103\n",
            "Japan                            92\n",
            "Guatemala                        88\n",
            "Poland                           87\n",
            "Vietnam                          86\n",
            "Columbia                         85\n",
            "Haiti                            75\n",
            "Portugal                         67\n",
            "Taiwan                           65\n",
            "Iran                             59\n",
            "Nicaragua                        49\n",
            "Greece                           49\n",
            "Peru                             46\n",
            "Ecuador                          45\n",
            "France                           38\n",
            "Ireland                          37\n",
            "Thailand                         30\n",
            "Hong                             30\n",
            "Cambodia                         28\n",
            "Trinadad&Tobago                  27\n",
            "Outlying-US(Guam-USVI-etc)       23\n",
            "Yugoslavia                       23\n",
            "Laos                             23\n",
            "Scotland                         21\n",
            "Honduras                         20\n",
            "Hungary                          19\n",
            "Holand-Netherlands                1\n",
            "Name: native-country, dtype: int64\n",
            "\n",
            "\n",
            "income\n",
            "<=50K    37155\n",
            ">50K     11687\n",
            "Name: income, dtype: int64\n",
            "\n",
            "\n"
          ],
          "name": "stdout"
        }
      ]
    },
    {
      "cell_type": "code",
      "metadata": {
        "id": "OFJA_DfJjTdG",
        "colab_type": "code",
        "outputId": "ae5ad3d7-eeaa-4959-f343-f60be063cba2",
        "colab": {
          "base_uri": "https://localhost:8080/",
          "height": 547
        }
      },
      "source": [
        "# Encode the categorical features as numbers\n",
        "def number_encode_features(df):\n",
        "    result = df.copy()\n",
        "    encoders = {}\n",
        "    for column in result.columns:\n",
        "        if result.dtypes[column] == np.object:\n",
        "            encoders[column] = preprocessing.LabelEncoder()\n",
        "            result[column] = encoders[column].fit_transform(result[column])\n",
        "    return result, encoders\n",
        "\n",
        "\n",
        "# Calculate the correlation and plot it\n",
        "encoded_data, _ = number_encode_features(income_df)\n",
        "sns.heatmap(encoded_data.corr(), square=True)\n",
        "plt.show()\n",
        "\n",
        "encoded_data.tail(5)"
      ],
      "execution_count": 5,
      "outputs": [
        {
          "output_type": "display_data",
          "data": {
            "image/png": "[encoded data removed]",
            "text/plain": [
              "<Figure size 432x288 with 2 Axes>"
            ]
          },
          "metadata": {
            "tags": []
          }
        },
        {
          "output_type": "execute_result",
          "data": {
            "text/html": [
              "<div>\n",
              "<style scoped>\n",
              "    .dataframe tbody tr th:only-of-type {\n",
              "        vertical-align: middle;\n",
              "    }\n",
              "\n",
              "    .dataframe tbody tr th {\n",
              "        vertical-align: top;\n",
              "    }\n",
              "\n",
              "    .dataframe thead th {\n",
              "        text-align: right;\n",
              "    }\n",
              "</style>\n",
              "<table border=\"1\" class=\"dataframe\">\n",
              "  <thead>\n",
              "    <tr style=\"text-align: right;\">\n",
              "      <th></th>\n",
              "      <th>age</th>\n",
              "      <th>workclass</th>\n",
              "      <th>fnlwgt</th>\n",
              "      <th>education</th>\n",
              "      <th>educational-num</th>\n",
              "      <th>marital-status</th>\n",
              "      <th>occupation</th>\n",
              "      <th>relationship</th>\n",
              "      <th>race</th>\n",
              "      <th>gender</th>\n",
              "      <th>capital-gain</th>\n",
              "      <th>capital-loss</th>\n",
              "      <th>hours-per-week</th>\n",
              "      <th>native-country</th>\n",
              "      <th>income</th>\n",
              "    </tr>\n",
              "  </thead>\n",
              "  <tbody>\n",
              "    <tr>\n",
              "      <th>48837</th>\n",
              "      <td>27</td>\n",
              "      <td>4</td>\n",
              "      <td>257302</td>\n",
              "      <td>7</td>\n",
              "      <td>12</td>\n",
              "      <td>2</td>\n",
              "      <td>13</td>\n",
              "      <td>5</td>\n",
              "      <td>4</td>\n",
              "      <td>0</td>\n",
              "      <td>0</td>\n",
              "      <td>0</td>\n",
              "      <td>38</td>\n",
              "      <td>39</td>\n",
              "      <td>0</td>\n",
              "    </tr>\n",
              "    <tr>\n",
              "      <th>48838</th>\n",
              "      <td>40</td>\n",
              "      <td>4</td>\n",
              "      <td>154374</td>\n",
              "      <td>11</td>\n",
              "      <td>9</td>\n",
              "      <td>2</td>\n",
              "      <td>7</td>\n",
              "      <td>0</td>\n",
              "      <td>4</td>\n",
              "      <td>1</td>\n",
              "      <td>0</td>\n",
              "      <td>0</td>\n",
              "      <td>40</td>\n",
              "      <td>39</td>\n",
              "      <td>1</td>\n",
              "    </tr>\n",
              "    <tr>\n",
              "      <th>48839</th>\n",
              "      <td>58</td>\n",
              "      <td>4</td>\n",
              "      <td>151910</td>\n",
              "      <td>11</td>\n",
              "      <td>9</td>\n",
              "      <td>6</td>\n",
              "      <td>1</td>\n",
              "      <td>4</td>\n",
              "      <td>4</td>\n",
              "      <td>0</td>\n",
              "      <td>0</td>\n",
              "      <td>0</td>\n",
              "      <td>40</td>\n",
              "      <td>39</td>\n",
              "      <td>0</td>\n",
              "    </tr>\n",
              "    <tr>\n",
              "      <th>48840</th>\n",
              "      <td>22</td>\n",
              "      <td>4</td>\n",
              "      <td>201490</td>\n",
              "      <td>11</td>\n",
              "      <td>9</td>\n",
              "      <td>4</td>\n",
              "      <td>1</td>\n",
              "      <td>3</td>\n",
              "      <td>4</td>\n",
              "      <td>1</td>\n",
              "      <td>0</td>\n",
              "      <td>0</td>\n",
              "      <td>20</td>\n",
              "      <td>39</td>\n",
              "      <td>0</td>\n",
              "    </tr>\n",
              "    <tr>\n",
              "      <th>48841</th>\n",
              "      <td>52</td>\n",
              "      <td>5</td>\n",
              "      <td>287927</td>\n",
              "      <td>11</td>\n",
              "      <td>9</td>\n",
              "      <td>2</td>\n",
              "      <td>4</td>\n",
              "      <td>5</td>\n",
              "      <td>4</td>\n",
              "      <td>0</td>\n",
              "      <td>15024</td>\n",
              "      <td>0</td>\n",
              "      <td>40</td>\n",
              "      <td>39</td>\n",
              "      <td>1</td>\n",
              "    </tr>\n",
              "  </tbody>\n",
              "</table>\n",
              "</div>"
            ],
            "text/plain": [
              "       age  workclass  fnlwgt  ...  hours-per-week  native-country  income\n",
              "48837   27          4  257302  ...              38              39       0\n",
              "48838   40          4  154374  ...              40              39       1\n",
              "48839   58          4  151910  ...              40              39       0\n",
              "48840   22          4  201490  ...              20              39       0\n",
              "48841   52          5  287927  ...              40              39       1\n",
              "\n",
              "[5 rows x 15 columns]"
            ]
          },
          "metadata": {
            "tags": []
          },
          "execution_count": 5
        }
      ]
    },
    {
      "cell_type": "code",
      "metadata": {
        "id": "4c4EyqhsjTdL",
        "colab_type": "code",
        "outputId": "c2da5fea-b64a-4cb6-c324-b02bc5942986",
        "colab": {
          "base_uri": "https://localhost:8080/",
          "height": 359
        }
      },
      "source": [
        "# Expore the strong correaltion between \"education\" and \"education-num\" revealed by the heatmap\n",
        "income_df[[\"education\", \"educational-num\"]].head(10)"
      ],
      "execution_count": 6,
      "outputs": [
        {
          "output_type": "execute_result",
          "data": {
            "text/html": [
              "<div>\n",
              "<style scoped>\n",
              "    .dataframe tbody tr th:only-of-type {\n",
              "        vertical-align: middle;\n",
              "    }\n",
              "\n",
              "    .dataframe tbody tr th {\n",
              "        vertical-align: top;\n",
              "    }\n",
              "\n",
              "    .dataframe thead th {\n",
              "        text-align: right;\n",
              "    }\n",
              "</style>\n",
              "<table border=\"1\" class=\"dataframe\">\n",
              "  <thead>\n",
              "    <tr style=\"text-align: right;\">\n",
              "      <th></th>\n",
              "      <th>education</th>\n",
              "      <th>educational-num</th>\n",
              "    </tr>\n",
              "  </thead>\n",
              "  <tbody>\n",
              "    <tr>\n",
              "      <th>0</th>\n",
              "      <td>11th</td>\n",
              "      <td>7</td>\n",
              "    </tr>\n",
              "    <tr>\n",
              "      <th>1</th>\n",
              "      <td>HS-grad</td>\n",
              "      <td>9</td>\n",
              "    </tr>\n",
              "    <tr>\n",
              "      <th>2</th>\n",
              "      <td>Assoc-acdm</td>\n",
              "      <td>12</td>\n",
              "    </tr>\n",
              "    <tr>\n",
              "      <th>3</th>\n",
              "      <td>Some-college</td>\n",
              "      <td>10</td>\n",
              "    </tr>\n",
              "    <tr>\n",
              "      <th>4</th>\n",
              "      <td>Some-college</td>\n",
              "      <td>10</td>\n",
              "    </tr>\n",
              "    <tr>\n",
              "      <th>5</th>\n",
              "      <td>10th</td>\n",
              "      <td>6</td>\n",
              "    </tr>\n",
              "    <tr>\n",
              "      <th>6</th>\n",
              "      <td>HS-grad</td>\n",
              "      <td>9</td>\n",
              "    </tr>\n",
              "    <tr>\n",
              "      <th>7</th>\n",
              "      <td>Prof-school</td>\n",
              "      <td>15</td>\n",
              "    </tr>\n",
              "    <tr>\n",
              "      <th>8</th>\n",
              "      <td>Some-college</td>\n",
              "      <td>10</td>\n",
              "    </tr>\n",
              "    <tr>\n",
              "      <th>9</th>\n",
              "      <td>7th-8th</td>\n",
              "      <td>4</td>\n",
              "    </tr>\n",
              "  </tbody>\n",
              "</table>\n",
              "</div>"
            ],
            "text/plain": [
              "      education  educational-num\n",
              "0          11th                7\n",
              "1       HS-grad                9\n",
              "2    Assoc-acdm               12\n",
              "3  Some-college               10\n",
              "4  Some-college               10\n",
              "5          10th                6\n",
              "6       HS-grad                9\n",
              "7   Prof-school               15\n",
              "8  Some-college               10\n",
              "9       7th-8th                4"
            ]
          },
          "metadata": {
            "tags": []
          },
          "execution_count": 6
        }
      ]
    },
    {
      "cell_type": "code",
      "metadata": {
        "id": "ZD-zE2f-jTdQ",
        "colab_type": "code",
        "colab": {}
      },
      "source": [
        "# \"education\" and \"education-num\" are essentially the same data, delete the numerical one\n",
        "del income_df[\"educational-num\"]"
      ],
      "execution_count": 0,
      "outputs": []
    },
    {
      "cell_type": "code",
      "metadata": {
        "id": "-LP8Q3aujTdU",
        "colab_type": "code",
        "outputId": "5a36abf5-1d4f-4d92-9166-7574ffa6815f",
        "colab": {
          "base_uri": "https://localhost:8080/",
          "height": 114
        }
      },
      "source": [
        "income_df.head(1) # Successfully deleted!"
      ],
      "execution_count": 8,
      "outputs": [
        {
          "output_type": "execute_result",
          "data": {
            "text/html": [
              "<div>\n",
              "<style scoped>\n",
              "    .dataframe tbody tr th:only-of-type {\n",
              "        vertical-align: middle;\n",
              "    }\n",
              "\n",
              "    .dataframe tbody tr th {\n",
              "        vertical-align: top;\n",
              "    }\n",
              "\n",
              "    .dataframe thead th {\n",
              "        text-align: right;\n",
              "    }\n",
              "</style>\n",
              "<table border=\"1\" class=\"dataframe\">\n",
              "  <thead>\n",
              "    <tr style=\"text-align: right;\">\n",
              "      <th></th>\n",
              "      <th>age</th>\n",
              "      <th>workclass</th>\n",
              "      <th>fnlwgt</th>\n",
              "      <th>education</th>\n",
              "      <th>marital-status</th>\n",
              "      <th>occupation</th>\n",
              "      <th>relationship</th>\n",
              "      <th>race</th>\n",
              "      <th>gender</th>\n",
              "      <th>capital-gain</th>\n",
              "      <th>capital-loss</th>\n",
              "      <th>hours-per-week</th>\n",
              "      <th>native-country</th>\n",
              "      <th>income</th>\n",
              "    </tr>\n",
              "  </thead>\n",
              "  <tbody>\n",
              "    <tr>\n",
              "      <th>0</th>\n",
              "      <td>25</td>\n",
              "      <td>Private</td>\n",
              "      <td>226802</td>\n",
              "      <td>11th</td>\n",
              "      <td>Never-married</td>\n",
              "      <td>Machine-op-inspct</td>\n",
              "      <td>Own-child</td>\n",
              "      <td>Black</td>\n",
              "      <td>Male</td>\n",
              "      <td>0</td>\n",
              "      <td>0</td>\n",
              "      <td>40</td>\n",
              "      <td>United-States</td>\n",
              "      <td>&lt;=50K</td>\n",
              "    </tr>\n",
              "  </tbody>\n",
              "</table>\n",
              "</div>"
            ],
            "text/plain": [
              "   age workclass  fnlwgt  ... hours-per-week native-country income\n",
              "0   25   Private  226802  ...             40  United-States  <=50K\n",
              "\n",
              "[1 rows x 14 columns]"
            ]
          },
          "metadata": {
            "tags": []
          },
          "execution_count": 8
        }
      ]
    },
    {
      "cell_type": "code",
      "metadata": {
        "id": "XWb8kdnbjTdZ",
        "colab_type": "code",
        "outputId": "4556bb71-2a89-4b30-92ba-6790077920f3",
        "colab": {
          "base_uri": "https://localhost:8080/",
          "height": 359
        }
      },
      "source": [
        "# Check the negative correlation between \"gender\" and \"relationship\"\n",
        "income_df[[\"gender\", \"relationship\"]].head(10)"
      ],
      "execution_count": 9,
      "outputs": [
        {
          "output_type": "execute_result",
          "data": {
            "text/html": [
              "<div>\n",
              "<style scoped>\n",
              "    .dataframe tbody tr th:only-of-type {\n",
              "        vertical-align: middle;\n",
              "    }\n",
              "\n",
              "    .dataframe tbody tr th {\n",
              "        vertical-align: top;\n",
              "    }\n",
              "\n",
              "    .dataframe thead th {\n",
              "        text-align: right;\n",
              "    }\n",
              "</style>\n",
              "<table border=\"1\" class=\"dataframe\">\n",
              "  <thead>\n",
              "    <tr style=\"text-align: right;\">\n",
              "      <th></th>\n",
              "      <th>gender</th>\n",
              "      <th>relationship</th>\n",
              "    </tr>\n",
              "  </thead>\n",
              "  <tbody>\n",
              "    <tr>\n",
              "      <th>0</th>\n",
              "      <td>Male</td>\n",
              "      <td>Own-child</td>\n",
              "    </tr>\n",
              "    <tr>\n",
              "      <th>1</th>\n",
              "      <td>Male</td>\n",
              "      <td>Husband</td>\n",
              "    </tr>\n",
              "    <tr>\n",
              "      <th>2</th>\n",
              "      <td>Male</td>\n",
              "      <td>Husband</td>\n",
              "    </tr>\n",
              "    <tr>\n",
              "      <th>3</th>\n",
              "      <td>Male</td>\n",
              "      <td>Husband</td>\n",
              "    </tr>\n",
              "    <tr>\n",
              "      <th>4</th>\n",
              "      <td>Female</td>\n",
              "      <td>Own-child</td>\n",
              "    </tr>\n",
              "    <tr>\n",
              "      <th>5</th>\n",
              "      <td>Male</td>\n",
              "      <td>Not-in-family</td>\n",
              "    </tr>\n",
              "    <tr>\n",
              "      <th>6</th>\n",
              "      <td>Male</td>\n",
              "      <td>Unmarried</td>\n",
              "    </tr>\n",
              "    <tr>\n",
              "      <th>7</th>\n",
              "      <td>Male</td>\n",
              "      <td>Husband</td>\n",
              "    </tr>\n",
              "    <tr>\n",
              "      <th>8</th>\n",
              "      <td>Female</td>\n",
              "      <td>Unmarried</td>\n",
              "    </tr>\n",
              "    <tr>\n",
              "      <th>9</th>\n",
              "      <td>Male</td>\n",
              "      <td>Husband</td>\n",
              "    </tr>\n",
              "  </tbody>\n",
              "</table>\n",
              "</div>"
            ],
            "text/plain": [
              "   gender   relationship\n",
              "0    Male      Own-child\n",
              "1    Male        Husband\n",
              "2    Male        Husband\n",
              "3    Male        Husband\n",
              "4  Female      Own-child\n",
              "5    Male  Not-in-family\n",
              "6    Male      Unmarried\n",
              "7    Male        Husband\n",
              "8  Female      Unmarried\n",
              "9    Male        Husband"
            ]
          },
          "metadata": {
            "tags": []
          },
          "execution_count": 9
        }
      ]
    },
    {
      "cell_type": "code",
      "metadata": {
        "id": "NmjJq5wUjTde",
        "colab_type": "code",
        "colab": {}
      },
      "source": [
        "# It looks like \"Female\" and \"wife\" and anti-correlated, so are \"Male\" and \"Husband\""
      ],
      "execution_count": 0,
      "outputs": []
    },
    {
      "cell_type": "code",
      "metadata": {
        "id": "D9ar9exZjTdi",
        "colab_type": "code",
        "colab": {}
      },
      "source": [
        "encoded_data, encoders = number_encode_features(income_df)\n",
        "new_series = encoded_data[\"income\"]"
      ],
      "execution_count": 0,
      "outputs": []
    },
    {
      "cell_type": "code",
      "metadata": {
        "id": "ERp0ZwhJjTdm",
        "colab_type": "code",
        "outputId": "31b97201-7eac-4c45-eee2-8ad49f06c8d3",
        "colab": {
          "base_uri": "https://localhost:8080/",
          "height": 173
        }
      },
      "source": [
        "# Split and scale the data\n",
        "X_train, X_test, y_train, y_test = train_test_split(encoded_data[encoded_data.columns.drop(\"income\")], new_series, train_size=0.70)\n",
        "scaler = preprocessing.StandardScaler()\n",
        "\n",
        "X_train = pd.DataFrame(scaler.fit_transform(X_train), columns=X_train.columns)\n",
        "X_test = scaler.transform(X_test)"
      ],
      "execution_count": 12,
      "outputs": [
        {
          "output_type": "stream",
          "text": [
            "/usr/local/lib/python2.7/dist-packages/sklearn/model_selection/_split.py:2179: FutureWarning: From version 0.21, test_size will always complement train_size unless both are specified.\n",
            "  FutureWarning)\n",
            "/usr/local/lib/python2.7/dist-packages/sklearn/preprocessing/data.py:645: DataConversionWarning: Data with input dtype int64 were all converted to float64 by StandardScaler.\n",
            "  return self.partial_fit(X, y)\n",
            "/usr/local/lib/python2.7/dist-packages/sklearn/base.py:464: DataConversionWarning: Data with input dtype int64 were all converted to float64 by StandardScaler.\n",
            "  return self.fit(X, **fit_params).transform(X)\n",
            "/usr/local/lib/python2.7/dist-packages/ipykernel_launcher.py:5: DataConversionWarning: Data with input dtype int64 were all converted to float64 by StandardScaler.\n",
            "  \"\"\"\n"
          ],
          "name": "stderr"
        }
      ]
    },
    {
      "cell_type": "code",
      "metadata": {
        "id": "fwlNmVtRjTdq",
        "colab_type": "code",
        "outputId": "97b5b27c-3df6-4000-bd0b-494a023b35d7",
        "colab": {
          "base_uri": "https://localhost:8080/",
          "height": 71
        }
      },
      "source": [
        "# logistic regression\n",
        "cls = linear_model.LogisticRegression()\n",
        "\n",
        "cls.fit(X_train, y_train)\n",
        "y_pred = cls.predict(X_test)"
      ],
      "execution_count": 13,
      "outputs": [
        {
          "output_type": "stream",
          "text": [
            "/usr/local/lib/python2.7/dist-packages/sklearn/linear_model/logistic.py:433: FutureWarning: Default solver will be changed to 'lbfgs' in 0.22. Specify a solver to silence this warning.\n",
            "  FutureWarning)\n"
          ],
          "name": "stderr"
        }
      ]
    },
    {
      "cell_type": "code",
      "metadata": {
        "id": "98SkwXOBjTdv",
        "colab_type": "code",
        "outputId": "c582eda2-e80d-4706-c1bc-b6aaf7110f08",
        "colab": {
          "base_uri": "https://localhost:8080/",
          "height": 34
        }
      },
      "source": [
        "print accuracy_score(y_test, y_pred)"
      ],
      "execution_count": 14,
      "outputs": [
        {
          "output_type": "stream",
          "text": [
            "0.8061830341909506\n"
          ],
          "name": "stdout"
        }
      ]
    },
    {
      "cell_type": "code",
      "metadata": {
        "id": "T_EERXq8jTd5",
        "colab_type": "code",
        "colab": {}
      },
      "source": [
        "# Function to calculate mean absolute error\n",
        "def mae(y_true, y_pred):\n",
        "    return np.mean(abs(y_true - y_pred))\n",
        "\n",
        "# Takes in a model, trains the model, and evaluates the model on the test set\n",
        "def fit_and_evaluate(model):\n",
        "    \n",
        "    # Train the model\n",
        "    model.fit(X_train, y_train)\n",
        "    \n",
        "    # Make predictions and evalute\n",
        "    model_pred = model.predict(X_test)\n",
        "    model_mae = mae(y_test, model_pred)\n",
        "    \n",
        "    # Return the performance metric\n",
        "    return model_mae"
      ],
      "execution_count": 0,
      "outputs": []
    },
    {
      "cell_type": "code",
      "metadata": {
        "id": "rEJG_n-PjTd_",
        "colab_type": "code",
        "outputId": "44384365-c0ea-4656-c6db-4eef1e2b781d",
        "colab": {
          "base_uri": "https://localhost:8080/",
          "height": 34
        }
      },
      "source": [
        "print fit_and_evaluate(cls)"
      ],
      "execution_count": 16,
      "outputs": [
        {
          "output_type": "stream",
          "text": [
            "0.19381696580904934\n"
          ],
          "name": "stdout"
        }
      ]
    },
    {
      "cell_type": "code",
      "metadata": {
        "id": "vAtpHg2PjTeE",
        "colab_type": "code",
        "colab": {}
      },
      "source": [
        "# Try random forest method\n",
        "random_forest = RandomForestRegressor(random_state=60)"
      ],
      "execution_count": 0,
      "outputs": []
    },
    {
      "cell_type": "code",
      "metadata": {
        "id": "a0LosDPcjTeM",
        "colab_type": "code",
        "outputId": "a903b076-5034-41d8-8f8b-8f0ad4fa8270",
        "colab": {
          "base_uri": "https://localhost:8080/",
          "height": 88
        }
      },
      "source": [
        "print fit_and_evaluate(random_forest)"
      ],
      "execution_count": 18,
      "outputs": [
        {
          "output_type": "stream",
          "text": [
            "/usr/local/lib/python2.7/dist-packages/sklearn/ensemble/forest.py:246: FutureWarning: The default value of n_estimators will change from 10 in version 0.20 to 100 in 0.22.\n",
            "  \"10 in version 0.20 to 100 in 0.22.\", FutureWarning)\n"
          ],
          "name": "stderr"
        },
        {
          "output_type": "stream",
          "text": [
            "0.18870310971587165\n"
          ],
          "name": "stdout"
        }
      ]
    },
    {
      "cell_type": "code",
      "metadata": {
        "id": "K1H5k-aqjTeW",
        "colab_type": "code",
        "outputId": "d1608d96-e1f2-46a6-b283-214a12352aba",
        "colab": {
          "base_uri": "https://localhost:8080/",
          "height": 643
        }
      },
      "source": [
        "coefs = pd.Series(cls.coef_[0], index=X_train.columns)\n",
        "print X_train.columns\n",
        "coefs = coefs.sort_values()\n",
        "plt.subplot(1,1,1)\n",
        "coefs.plot(kind=\"bar\")\n",
        "plt.show()\n",
        "print coefs.sort_values(ascending = False)"
      ],
      "execution_count": 19,
      "outputs": [
        {
          "output_type": "stream",
          "text": [
            "Index([u'age', u'workclass', u'fnlwgt', u'education', u'marital-status',\n",
            "       u'occupation', u'relationship', u'race', u'gender', u'capital-gain',\n",
            "       u'capital-loss', u'hours-per-week', u'native-country'],\n",
            "      dtype='object')\n"
          ],
          "name": "stdout"
        },
        {
          "output_type": "display_data",
          "data": {
            "image/png": "[encoded data removed]",
            "text/plain": [
              "<Figure size 432x288 with 1 Axes>"
            ]
          },
          "metadata": {
            "tags": []
          }
        },
        {
          "output_type": "stream",
          "text": [
            "capital-gain      2.337466\n",
            "age               0.422483\n",
            "hours-per-week    0.393855\n",
            "gender            0.314647\n",
            "capital-loss      0.297247\n",
            "education         0.220595\n",
            "occupation        0.125024\n",
            "race              0.106850\n",
            "fnlwgt            0.042094\n",
            "native-country   -0.007469\n",
            "workclass        -0.026643\n",
            "relationship     -0.261370\n",
            "marital-status   -0.329458\n",
            "dtype: float64\n"
          ],
          "name": "stdout"
        }
      ]
    },
    {
      "cell_type": "code",
      "metadata": {
        "id": "cAGaIWmejTeb",
        "colab_type": "code",
        "outputId": "a38f865b-bf20-476c-b537-ce3021689fbb",
        "colab": {
          "base_uri": "https://localhost:8080/",
          "height": 153
        }
      },
      "source": [
        "# Try one hot encoding\n",
        "\n",
        "# Copy the original data\n",
        "features = income_df.copy()\n",
        "\n",
        "# Select the numeric columns\n",
        "numeric_subset = income_df.select_dtypes('number')\n",
        "categorical_subset = income_df.select_dtypes('object')\n",
        "\n",
        "# One hot encode\n",
        "categorical_subset = pd.get_dummies(categorical_subset[categorical_subset.columns.drop(\"income\")])\n",
        "\n",
        "# Join the two dataframes using concat\n",
        "# Make sure to use axis = 1 to perform a column bind\n",
        "features = pd.concat([numeric_subset, categorical_subset], axis = 1)\n",
        "print features.head()"
      ],
      "execution_count": 20,
      "outputs": [
        {
          "output_type": "stream",
          "text": [
            "   age  fnlwgt  ...  native-country_Vietnam  native-country_Yugoslavia\n",
            "0   25  226802  ...                       0                          0\n",
            "1   38   89814  ...                       0                          0\n",
            "2   28  336951  ...                       0                          0\n",
            "3   44  160323  ...                       0                          0\n",
            "4   18  103497  ...                       0                          0\n",
            "\n",
            "[5 rows x 107 columns]\n"
          ],
          "name": "stdout"
        }
      ]
    },
    {
      "cell_type": "code",
      "metadata": {
        "id": "U9wuavHljTeg",
        "colab_type": "code",
        "outputId": "85c40001-d993-4909-de94-cc4da3bff910",
        "colab": {
          "base_uri": "https://localhost:8080/",
          "height": 139
        }
      },
      "source": [
        "# Replace the inf with nan\n",
        "features = features.replace({np.inf: np.nan, -np.inf: np.nan})\n",
        "\n",
        "# Drop na values\n",
        "features = features.dropna()\n",
        "\n",
        "# Split and scale the data\n",
        "X_train, X_test, y_train, y_test = train_test_split(features, new_series, train_size=0.70)\n",
        "scaler = preprocessing.StandardScaler()\n",
        "\n",
        "X_train = pd.DataFrame(scaler.fit_transform(X_train), columns=X_train.columns)\n",
        "X_test = scaler.transform(X_test)"
      ],
      "execution_count": 21,
      "outputs": [
        {
          "output_type": "stream",
          "text": [
            "/usr/local/lib/python2.7/dist-packages/sklearn/preprocessing/data.py:645: DataConversionWarning: Data with input dtype uint8, int64 were all converted to float64 by StandardScaler.\n",
            "  return self.partial_fit(X, y)\n",
            "/usr/local/lib/python2.7/dist-packages/sklearn/base.py:464: DataConversionWarning: Data with input dtype uint8, int64 were all converted to float64 by StandardScaler.\n",
            "  return self.fit(X, **fit_params).transform(X)\n",
            "/usr/local/lib/python2.7/dist-packages/ipykernel_launcher.py:11: DataConversionWarning: Data with input dtype uint8, int64 were all converted to float64 by StandardScaler.\n",
            "  # This is added back by InteractiveShellApp.init_path()\n"
          ],
          "name": "stderr"
        }
      ]
    },
    {
      "cell_type": "code",
      "metadata": {
        "id": "MIGcdiqQjTem",
        "colab_type": "code",
        "outputId": "ff914b76-93e2-4af9-9d02-baecb7a08bc9",
        "colab": {
          "base_uri": "https://localhost:8080/",
          "height": 34
        }
      },
      "source": [
        "cls = linear_model.LogisticRegression()\n",
        "\n",
        "cls.fit(X_train, y_train)\n",
        "y_pred = cls.predict(X_test)\n",
        "print accuracy_score(y_test, y_pred)"
      ],
      "execution_count": 22,
      "outputs": [
        {
          "output_type": "stream",
          "text": [
            "0.8515662321708866\n"
          ],
          "name": "stdout"
        }
      ]
    },
    {
      "cell_type": "code",
      "metadata": {
        "id": "pC86NQNSjTer",
        "colab_type": "code",
        "outputId": "96cff1aa-7155-4f7d-948e-4b7cf7faf1b0",
        "colab": {
          "base_uri": "https://localhost:8080/",
          "height": 34
        }
      },
      "source": [
        "print fit_and_evaluate(cls)"
      ],
      "execution_count": 23,
      "outputs": [
        {
          "output_type": "stream",
          "text": [
            "0.1484337678291135\n"
          ],
          "name": "stdout"
        }
      ]
    },
    {
      "cell_type": "code",
      "metadata": {
        "id": "VOmb--u2jTew",
        "colab_type": "code",
        "outputId": "0856b54e-e915-4a20-c234-cc8479dfc876",
        "colab": {
          "base_uri": "https://localhost:8080/",
          "height": 1071
        }
      },
      "source": [
        "coefs = pd.Series(cls.coef_[0], index=X_train.columns)\n",
        "print coefs.sort_values(ascending = False)"
      ],
      "execution_count": 24,
      "outputs": [
        {
          "output_type": "stream",
          "text": [
            "capital-gain                            2.257300\n",
            "marital-status_Married-civ-spouse       0.815612\n",
            "hours-per-week                          0.365734\n",
            "age                                     0.354989\n",
            "education_Bachelors                     0.297064\n",
            "education_Masters                       0.258185\n",
            "capital-loss                            0.254065\n",
            "occupation_Exec-managerial              0.239866\n",
            "education_Prof-school                   0.228063\n",
            "education_Doctorate                     0.204823\n",
            "relationship_Wife                       0.202591\n",
            "relationship_Not-in-family              0.185503\n",
            "gender_Male                             0.169968\n",
            "occupation_Prof-specialty               0.162656\n",
            "workclass_Federal-gov                   0.111335\n",
            "occupation_Tech-support                 0.099157\n",
            "occupation_Sales                        0.075585\n",
            "native-country_United-States            0.069986\n",
            "fnlwgt                                  0.066373\n",
            "relationship_Unmarried                  0.062707\n",
            "workclass_Private                       0.059920\n",
            "occupation_Protective-serv              0.056594\n",
            "marital-status_Married-AF-spouse        0.052315\n",
            "education_Assoc-acdm                    0.050565\n",
            "race_Asian-Pac-Islander                 0.049546\n",
            "native-country_Canada                   0.045052\n",
            "native-country_Ireland                  0.042932\n",
            "native-country_England                  0.040577\n",
            "workclass_Self-emp-inc                  0.038773\n",
            "native-country_Italy                    0.034755\n",
            "                                          ...   \n",
            "native-country_Dominican-Republic      -0.048268\n",
            "occupation_Machine-op-inspct           -0.059770\n",
            "workclass_Never-worked                 -0.064859\n",
            "marital-status_Married-spouse-absent   -0.064954\n",
            "native-country_Columbia                -0.068844\n",
            "workclass_?                            -0.071925\n",
            "education_12th                         -0.076181\n",
            "occupation_?                           -0.076298\n",
            "relationship_Husband                   -0.096565\n",
            "native-country_Mexico                  -0.099347\n",
            "workclass_Self-emp-not-inc             -0.122084\n",
            "occupation_Priv-house-serv             -0.122754\n",
            "relationship_Other-relative            -0.128064\n",
            "marital-status_Widowed                 -0.130056\n",
            "education_5th-6th                      -0.130516\n",
            "marital-status_Separated               -0.142679\n",
            "occupation_Handlers-cleaners           -0.145050\n",
            "education_HS-grad                      -0.150265\n",
            "education_1st-4th                      -0.158375\n",
            "occupation_Farming-fishing             -0.164189\n",
            "gender_Female                          -0.169968\n",
            "education_9th                          -0.171120\n",
            "relationship_Own-child                 -0.205652\n",
            "education_10th                         -0.206759\n",
            "education_11th                         -0.210401\n",
            "education_7th-8th                      -0.231054\n",
            "education_Preschool                    -0.234338\n",
            "marital-status_Divorced                -0.259705\n",
            "occupation_Other-service               -0.273260\n",
            "marital-status_Never-married           -0.558497\n",
            "Length: 107, dtype: float64\n"
          ],
          "name": "stdout"
        }
      ]
    },
    {
      "cell_type": "code",
      "metadata": {
        "id": "i4SFrxChjTe0",
        "colab_type": "code",
        "colab": {}
      },
      "source": [
        "# Further group numerical predictors such as \"age\" or \"hours-per-week\" to gain more insight!\n",
        "# Group the \"age\" column\n",
        "age_group = []\n",
        "for age in income_df[\"age\"]:\n",
        "    if age < 25:\n",
        "        age_group.append(\"<25\")\n",
        "    elif 25 <= age <= 34:\n",
        "        age_group.append(\"25-34\")\n",
        "    elif 34 < age <= 44:\n",
        "        age_group.append(\"35-44\")\n",
        "    elif 44 < age <= 54:\n",
        "        age_group.append(\"45-54\")\n",
        "    elif 54 < age <= 65:\n",
        "        age_group.append(\"55-64\")\n",
        "    else:\n",
        "        age_group.append(\"65 and over\")"
      ],
      "execution_count": 0,
      "outputs": []
    },
    {
      "cell_type": "code",
      "metadata": {
        "id": "5O6JFYg2jTe4",
        "colab_type": "code",
        "outputId": "5743716d-8bd2-4d4b-e53c-c46e10053677",
        "colab": {
          "base_uri": "https://localhost:8080/",
          "height": 114
        }
      },
      "source": [
        "new_income_df = income_df.copy()\n",
        "new_income_df[\"age_group\"] = age_group\n",
        "del new_income_df[\"age\"]\n",
        "\n",
        "# Same thing for \"hours-per-week\"\n",
        "work_hours_per_week = []\n",
        "for hours in income_df[\"hours-per-week\"]:\n",
        "    if hours < 16:\n",
        "        work_hours_per_week.append(\"<16\")\n",
        "    elif 16 <= hours <= 32:\n",
        "        work_hours_per_week.append(\"16-32\")\n",
        "    elif 32 < hours <= 48:\n",
        "        work_hours_per_week.append(\"32-48\")\n",
        "    elif 48 < hours <= 60:\n",
        "        work_hours_per_week.append(\"48-60\")\n",
        "    else:\n",
        "        work_hours_per_week.append(\"60 and over\")\n",
        "        \n",
        "new_income_df[\"work_hours_per_week\"] = work_hours_per_week\n",
        "del new_income_df[\"hours-per-week\"]\n",
        "\n",
        "new_income_df.head(1)"
      ],
      "execution_count": 26,
      "outputs": [
        {
          "output_type": "execute_result",
          "data": {
            "text/html": [
              "<div>\n",
              "<style scoped>\n",
              "    .dataframe tbody tr th:only-of-type {\n",
              "        vertical-align: middle;\n",
              "    }\n",
              "\n",
              "    .dataframe tbody tr th {\n",
              "        vertical-align: top;\n",
              "    }\n",
              "\n",
              "    .dataframe thead th {\n",
              "        text-align: right;\n",
              "    }\n",
              "</style>\n",
              "<table border=\"1\" class=\"dataframe\">\n",
              "  <thead>\n",
              "    <tr style=\"text-align: right;\">\n",
              "      <th></th>\n",
              "      <th>workclass</th>\n",
              "      <th>fnlwgt</th>\n",
              "      <th>education</th>\n",
              "      <th>marital-status</th>\n",
              "      <th>occupation</th>\n",
              "      <th>relationship</th>\n",
              "      <th>race</th>\n",
              "      <th>gender</th>\n",
              "      <th>capital-gain</th>\n",
              "      <th>capital-loss</th>\n",
              "      <th>native-country</th>\n",
              "      <th>income</th>\n",
              "      <th>age_group</th>\n",
              "      <th>work_hours_per_week</th>\n",
              "    </tr>\n",
              "  </thead>\n",
              "  <tbody>\n",
              "    <tr>\n",
              "      <th>0</th>\n",
              "      <td>Private</td>\n",
              "      <td>226802</td>\n",
              "      <td>11th</td>\n",
              "      <td>Never-married</td>\n",
              "      <td>Machine-op-inspct</td>\n",
              "      <td>Own-child</td>\n",
              "      <td>Black</td>\n",
              "      <td>Male</td>\n",
              "      <td>0</td>\n",
              "      <td>0</td>\n",
              "      <td>United-States</td>\n",
              "      <td>&lt;=50K</td>\n",
              "      <td>25-34</td>\n",
              "      <td>32-48</td>\n",
              "    </tr>\n",
              "  </tbody>\n",
              "</table>\n",
              "</div>"
            ],
            "text/plain": [
              "  workclass  fnlwgt education  ... income age_group work_hours_per_week\n",
              "0   Private  226802      11th  ...  <=50K     25-34               32-48\n",
              "\n",
              "[1 rows x 14 columns]"
            ]
          },
          "metadata": {
            "tags": []
          },
          "execution_count": 26
        }
      ]
    },
    {
      "cell_type": "code",
      "metadata": {
        "id": "lZnuxXB4jTe-",
        "colab_type": "code",
        "outputId": "b871cbf8-c274-4224-a448-08f9a32a9db6",
        "colab": {
          "base_uri": "https://localhost:8080/",
          "height": 153
        }
      },
      "source": [
        "# Apply one-hot-encoding to the new dataframe\n",
        "\n",
        "# Select the numeric columns\n",
        "numeric_subset = new_income_df.select_dtypes('number')\n",
        "categorical_subset = new_income_df.select_dtypes('object')\n",
        "\n",
        "# One hot encoding\n",
        "categorical_subset = pd.get_dummies(categorical_subset[categorical_subset.columns.drop(\"income\")])\n",
        "\n",
        "# Join the two dataframes using concat\n",
        "# Make sure to use axis = 1 to perform a column bind\n",
        "features = pd.concat([numeric_subset, categorical_subset], axis = 1)\n",
        "print features.head()"
      ],
      "execution_count": 27,
      "outputs": [
        {
          "output_type": "stream",
          "text": [
            "   fnlwgt  ...  work_hours_per_week_<16\n",
            "0  226802  ...                        0\n",
            "1   89814  ...                        0\n",
            "2  336951  ...                        0\n",
            "3  160323  ...                        0\n",
            "4  103497  ...                        0\n",
            "\n",
            "[5 rows x 116 columns]\n"
          ],
          "name": "stdout"
        }
      ]
    },
    {
      "cell_type": "code",
      "metadata": {
        "id": "E9g-RSdfjTfF",
        "colab_type": "code",
        "outputId": "698c342b-5d27-4bcc-8487-0e175b8dbb56",
        "colab": {
          "base_uri": "https://localhost:8080/",
          "height": 1159
        }
      },
      "source": [
        "X_train, X_test, y_train, y_test = train_test_split(features, new_series, train_size=0.70)\n",
        "scaler = preprocessing.StandardScaler()\n",
        "\n",
        "X_train = pd.DataFrame(scaler.fit_transform(X_train), columns=X_train.columns)\n",
        "cls.fit(X_train, y_train)\n",
        "coefs = pd.Series(cls.coef_[0], index=X_train.columns)\n",
        "print coefs.sort_values(ascending = False)"
      ],
      "execution_count": 28,
      "outputs": [
        {
          "output_type": "stream",
          "text": [
            "/usr/local/lib/python2.7/dist-packages/sklearn/preprocessing/data.py:645: DataConversionWarning: Data with input dtype uint8, int64 were all converted to float64 by StandardScaler.\n",
            "  return self.partial_fit(X, y)\n",
            "/usr/local/lib/python2.7/dist-packages/sklearn/base.py:464: DataConversionWarning: Data with input dtype uint8, int64 were all converted to float64 by StandardScaler.\n",
            "  return self.fit(X, **fit_params).transform(X)\n"
          ],
          "name": "stderr"
        },
        {
          "output_type": "stream",
          "text": [
            "capital-gain                         2.519133\n",
            "marital-status_Married-civ-spouse    0.796968\n",
            "age_group_45-54                      0.300470\n",
            "education_Bachelors                  0.275053\n",
            "capital-loss                         0.273113\n",
            "education_Masters                    0.248869\n",
            "occupation_Exec-managerial           0.225236\n",
            "age_group_35-44                      0.212111\n",
            "work_hours_per_week_48-60            0.211735\n",
            "education_Prof-school                0.208797\n",
            "education_Doctorate                  0.184649\n",
            "relationship_Wife                    0.184177\n",
            "relationship_Not-in-family           0.180770\n",
            "occupation_Prof-specialty            0.161622\n",
            "age_group_55-64                      0.157533\n",
            "gender_Male                          0.156160\n",
            "occupation_Tech-support              0.097081\n",
            "fnlwgt                               0.087129\n",
            "occupation_Sales                     0.083978\n",
            "occupation_Protective-serv           0.082415\n",
            "workclass_Federal-gov                0.080784\n",
            "work_hours_per_week_60 and over      0.078436\n",
            "native-country_United-States         0.073588\n",
            "work_hours_per_week_32-48            0.066700\n",
            "workclass_Self-emp-inc               0.061294\n",
            "marital-status_Married-AF-spouse     0.059209\n",
            "workclass_Private                    0.050269\n",
            "race_Asian-Pac-Islander              0.049215\n",
            "native-country_Canada                0.048009\n",
            "relationship_Unmarried               0.038940\n",
            "                                       ...   \n",
            "age_group_25-34                     -0.065140\n",
            "workclass_Self-emp-not-inc          -0.078305\n",
            "marital-status_Widowed              -0.080654\n",
            "education_12th                      -0.085319\n",
            "education_Preschool                 -0.089890\n",
            "occupation_Priv-house-serv          -0.090178\n",
            "native-country_Guatemala            -0.092583\n",
            "relationship_Other-relative         -0.092956\n",
            "native-country_Columbia             -0.103495\n",
            "native-country_Mexico               -0.108031\n",
            "education_1st-4th                   -0.116163\n",
            "occupation_Machine-op-inspct        -0.119836\n",
            "relationship_Husband                -0.119884\n",
            "education_5th-6th                   -0.120027\n",
            "occupation_Farming-fishing          -0.136689\n",
            "relationship_Own-child              -0.152937\n",
            "marital-status_Separated            -0.153496\n",
            "education_HS-grad                   -0.155498\n",
            "gender_Female                       -0.156160\n",
            "occupation_Handlers-cleaners        -0.163957\n",
            "education_9th                       -0.165805\n",
            "work_hours_per_week_<16             -0.170849\n",
            "education_10th                      -0.185558\n",
            "education_7th-8th                   -0.189839\n",
            "education_11th                      -0.219299\n",
            "occupation_Other-service            -0.233534\n",
            "work_hours_per_week_16-32           -0.270251\n",
            "marital-status_Divorced             -0.300257\n",
            "marital-status_Never-married        -0.529119\n",
            "age_group_<25                       -0.594510\n",
            "Length: 116, dtype: float64\n"
          ],
          "name": "stdout"
        }
      ]
    },
    {
      "cell_type": "code",
      "metadata": {
        "id": "XE3CzH2ljTfP",
        "colab_type": "code",
        "colab": {}
      },
      "source": [
        "# Follow-up work: optimize the hyperparameters of random forest model\n"
      ],
      "execution_count": 0,
      "outputs": []
    }
  ]
}