{
  "nbformat": 4,
  "nbformat_minor": 0,
  "metadata": {
    "colab": {
      "name": "Web Scraping 101.ipynb",
      "provenance": [],
      "collapsed_sections": [],
      "authorship_tag": "ABX9TyMbAfuh6jlcRaJ9RpzmSFGJ",
      "include_colab_link": true
    },
    "kernelspec": {
      "name": "python3",
      "display_name": "Python 3"
    }
  },
  "cells": [
    {
      "cell_type": "markdown",
      "metadata": {
        "id": "view-in-github",
        "colab_type": "text"
      },
      "source": [
        "<a href=\"https://colab.research.google.com/github/ivonnics/Machine-Learning/blob/master/Web_Scraping_101.ipynb\" target=\"_parent\"><img src=\"https://colab.research.google.com/assets/colab-badge.svg\" alt=\"Open In Colab\"/></a>"
      ]
    },
    {
      "cell_type": "markdown",
      "metadata": {
        "id": "sYsFj0sVcCZP",
        "colab_type": "text"
      },
      "source": [
        "## Taken from: https://medium.com/@parulchandel/web-scraping-101-1-0-an-introduction-to-web-scraping-using-python-aec3a6bdd8e6"
      ]
    },
    {
      "cell_type": "code",
      "metadata": {
        "id": "CQRLvzr4cAz4",
        "colab_type": "code",
        "colab": {}
      },
      "source": [
        "from urllib.request import urlopen\n",
        "from bs4 import BeautifulSoup\n",
        "html=urlopen('http://pythonscraping.com/pages/page1.html')\n",
        "print(html.read())"
      ],
      "execution_count": 0,
      "outputs": []
    },
    {
      "cell_type": "code",
      "metadata": {
        "id": "nZpHfCgjcUpj",
        "colab_type": "code",
        "colab": {}
      },
      "source": [
        "html = urlopen('http://www.pythonscraping.com/pages/page1.html')\n",
        "bs = BeautifulSoup(html.read(), 'html.parser')"
      ],
      "execution_count": 0,
      "outputs": []
    },
    {
      "cell_type": "code",
      "metadata": {
        "id": "YAu9P0_pVkpy",
        "colab_type": "code",
        "colab": {}
      },
      "source": [
        "print(bs.h1)\n",
        "print('-----------------------------------------------------')\n",
        "print(bs.div)\n",
        "print('-----------------------------------------------------')\n",
        "print(bs.title)\n",
        "print('-----------------------------------------------------')\n",
        "print(bs.body)\n",
        "print('-----------------------------------------------------')\n",
        "print(bs.head)\n",
        "print('-----------------------------------------------------')\n",
        "print(bs.html)"
      ],
      "execution_count": 0,
      "outputs": []
    }
  ]
}