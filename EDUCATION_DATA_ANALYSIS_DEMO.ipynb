{
  "nbformat": 4,
  "nbformat_minor": 0,
  "metadata": {
    "colab": {
      "name": "EDUCATION DATA ANALYSIS DEMO.ipynb",
      "provenance": [],
      "collapsed_sections": [],
      "include_colab_link": true
    },
    "kernelspec": {
      "name": "python3",
      "display_name": "Python 3"
    }
  },
  "cells": [
    {
      "cell_type": "markdown",
      "metadata": {
        "id": "view-in-github",
        "colab_type": "text"
      },
      "source": [
        "<a href=\"https://colab.research.google.com/github/ivonnics/Machine-Learning/blob/master/EDUCATION_DATA_ANALYSIS_DEMO.ipynb\" target=\"_parent\"><img src=\"https://colab.research.google.com/assets/colab-badge.svg\" alt=\"Open In Colab\"/></a>"
      ]
    },
    {
      "cell_type": "markdown",
      "metadata": {
        "id": "HHN71ekLNW8a",
        "colab_type": "text"
      },
      "source": [
        "## Taken from: https://matplotlib.org/matplotblog/posts/create-ridgeplots-in-matplotlib/\n",
        "\n",
        "and\n",
        "\n",
        "https://towardsdatascience.com/exploratory-data-analysis-with-pandas-profiling-de3aae2ddff3\n",
        "\n",
        "and\n",
        "\n",
        "https://towardsdatascience.com/a-quick-guide-on-descriptive-statistics-using-pandas-and-seaborn-2aadc7395f32"
      ]
    },
    {
      "cell_type": "code",
      "metadata": {
        "id": "x9P1r-YNMkh5",
        "colab_type": "code",
        "colab": {}
      },
      "source": [
        "import pandas as pd\n",
        "import numpy as np\n",
        "from sklearn.neighbors import KernelDensity\n",
        "import seaborn as sns\n",
        "from pandas_profiling import ProfileReport\n",
        "import matplotlib as mpl\n",
        "import matplotlib.pyplot as plt\n",
        "import matplotlib.gridspec as grid_spec"
      ],
      "execution_count": 0,
      "outputs": []
    },
    {
      "cell_type": "code",
      "metadata": {
        "id": "gCg3xhMhMty7",
        "colab_type": "code",
        "colab": {}
      },
      "source": [
        "data = pd.read_csv(\"https://raw.githubusercontent.com/petermckeever/mock-data/master/datasets/mock-european-test-results.csv\")\n",
        "prof = ProfileReport(data)\n",
        "print(data.info())\n",
        "print(data.country.value_counts())\n",
        "print(data.head())"
      ],
      "execution_count": 0,
      "outputs": []
    },
    {
      "cell_type": "markdown",
      "metadata": {
        "id": "SpFpn5C8-8cl",
        "colab_type": "text"
      },
      "source": [
        "# Descriptive Analysis"
      ]
    },
    {
      "cell_type": "code",
      "metadata": {
        "id": "mt7grvHW-rww",
        "colab_type": "code",
        "colab": {}
      },
      "source": [
        "#prof"
      ],
      "execution_count": 0,
      "outputs": []
    },
    {
      "cell_type": "code",
      "metadata": {
        "id": "2sNp4YtuRTdT",
        "colab_type": "code",
        "colab": {}
      },
      "source": [
        "print('Mode = ',data.score.mode())\n",
        "data.describe()"
      ],
      "execution_count": 0,
      "outputs": []
    },
    {
      "cell_type": "code",
      "metadata": {
        "id": "KVPB_W_wR5Pf",
        "colab_type": "code",
        "colab": {}
      },
      "source": [
        "dataG=data.loc[(data.country=='Germany'),['score','country','age','sex']]\n",
        "print(dataG.describe())\n",
        "print(dataG.head())\n",
        "dataG.hist(figsize=(12,5))\n",
        "plt.show()"
      ],
      "execution_count": 0,
      "outputs": []
    },
    {
      "cell_type": "markdown",
      "metadata": {
        "id": "vqdRWcpKXpqY",
        "colab_type": "text"
      },
      "source": [
        "# Graphics"
      ]
    },
    {
      "cell_type": "code",
      "metadata": {
        "id": "ToHboBHHOo-8",
        "colab_type": "code",
        "colab": {}
      },
      "source": [
        "countries = [x for x in np.unique(data.country)]\n",
        "colors = ['#0000ff', '#3300cc', '#660099', '#990066', '#cc0033', '#ff0000']\n",
        "\n",
        "gs = grid_spec.GridSpec(len(countries),1)\n",
        "fig = plt.figure(figsize=(14,7))\n",
        "\n",
        "i = 0\n",
        "\n",
        "ax_objs = []\n",
        "for country in countries:\n",
        "    country = countries[i]\n",
        "    x = np.array(data[data.country == country].score)\n",
        "    x_d = np.linspace(0,1, 1000)\n",
        "\n",
        "    kde = KernelDensity(bandwidth=0.03, kernel='gaussian')\n",
        "    kde.fit(x[:, None])\n",
        "\n",
        "    logprob = kde.score_samples(x_d[:, None])\n",
        "\n",
        "    # creating new axes object\n",
        "    ax_objs.append(fig.add_subplot(gs[i:i+1, 0:]))\n",
        "\n",
        "    # plotting the distribution\n",
        "    ax_objs[-1].plot(x_d, np.exp(logprob),color=\"#f0f0f0\",lw=1)\n",
        "    ax_objs[-1].fill_between(x_d, np.exp(logprob), alpha=1,color=colors[i])\n",
        "\n",
        "\n",
        "    # setting uniform x and y lims\n",
        "    ax_objs[-1].set_xlim(0,1)\n",
        "    ax_objs[-1].set_ylim(0,2.5)\n",
        "\n",
        "    # make background transparent\n",
        "    rect = ax_objs[-1].patch\n",
        "    rect.set_alpha(0)\n",
        "\n",
        "    # remove borders, axis ticks, and labels\n",
        "    ax_objs[-1].set_yticklabels([])\n",
        "\n",
        "    if i == len(countries)-1:\n",
        "        ax_objs[-1].set_xlabel(\"Test Score\", fontsize=16,fontweight=\"bold\")\n",
        "    else:\n",
        "        ax_objs[-1].set_xticklabels([])\n",
        "\n",
        "    spines = [\"top\",\"right\",\"left\",\"bottom\"]\n",
        "    for s in spines:\n",
        "        ax_objs[-1].spines[s].set_visible(False)\n",
        "\n",
        "    adj_country = country.replace(\" \",\"\\n\")\n",
        "    ax_objs[-1].text(-0.02,0,adj_country,fontweight=\"bold\",fontsize=14,ha=\"right\")\n",
        "\n",
        "\n",
        "    i += 1\n",
        "\n",
        "gs.update(hspace=-0.8)\n",
        "\n",
        "fig.text(0.07,0.85,\"Distribution of Aptitude Test Results from 18 – 24 year-olds\",fontsize=20)\n",
        "\n",
        "plt.tight_layout()\n",
        "plt.show()"
      ],
      "execution_count": 0,
      "outputs": []
    },
    {
      "cell_type": "code",
      "metadata": {
        "id": "Gv6GGJMx1FCd",
        "colab_type": "code",
        "colab": {}
      },
      "source": [
        "%matplotlib inline\n",
        "\n",
        "sns.set(style=\"whitegrid\")\n",
        "plt.figure(figsize=(10,8))\n",
        "ax = sns.boxplot(x='country', y='score', data=data, orient=\"v\")"
      ],
      "execution_count": 0,
      "outputs": []
    },
    {
      "cell_type": "code",
      "metadata": {
        "id": "A8bbe3U01NfT",
        "colab_type": "code",
        "colab": {}
      },
      "source": [
        "sns.set(style=\"whitegrid\")\n",
        "plt.figure(figsize=(10,8))\n",
        "ax = sns.boxplot(x='country', y='age', data=data, orient=\"v\")"
      ],
      "execution_count": 0,
      "outputs": []
    },
    {
      "cell_type": "code",
      "metadata": {
        "id": "v9FDm_F92sdr",
        "colab_type": "code",
        "colab": {}
      },
      "source": [
        "type_counts = data['country'].value_counts()\n",
        "df2 = pd.DataFrame({'Paises': type_counts}, \n",
        "                     index = ['United Kingdom', 'Spain', 'Germany','France', 'Italy', 'Ireland']\n",
        "                   )\n",
        "df2.plot.pie(y='Paises', figsize=(10,10), autopct='%1.1f%%')"
      ],
      "execution_count": 0,
      "outputs": []
    },
    {
      "cell_type": "markdown",
      "metadata": {
        "id": "ZtL0_0SeXwEA",
        "colab_type": "text"
      },
      "source": [
        "# Crosstab"
      ]
    },
    {
      "cell_type": "code",
      "metadata": {
        "id": "zb0ANgKm14rS",
        "colab_type": "code",
        "colab": {}
      },
      "source": [
        "pd.set_option('display.max_columns', 500)\n",
        "testing=pd.crosstab(data.country, data.score)\n",
        "testing"
      ],
      "execution_count": 0,
      "outputs": []
    },
    {
      "cell_type": "code",
      "metadata": {
        "id": "SaNjlAmA6zda",
        "colab_type": "code",
        "colab": {}
      },
      "source": [
        "fig, ax = plt.subplots(figsize=(20,5))         # Sample figsize in inches\n",
        "sns.heatmap(pd.crosstab([data.country], [data.score]),\n",
        "            cmap=\"YlGnBu\", annot=True, cbar=False)"
      ],
      "execution_count": 0,
      "outputs": []
    },
    {
      "cell_type": "code",
      "metadata": {
        "id": "AGYqGNww9KuO",
        "colab_type": "code",
        "colab": {}
      },
      "source": [
        "testing2=pd.crosstab([data.country, data.sex],data.score)\n",
        "testing2"
      ],
      "execution_count": 0,
      "outputs": []
    },
    {
      "cell_type": "code",
      "metadata": {
        "id": "AZrOBNKL9hmW",
        "colab_type": "code",
        "colab": {}
      },
      "source": [
        "fig, ax = plt.subplots(figsize=(20,7))         # Sample figsize in inches\n",
        "sns.heatmap(pd.crosstab([data.country,data.sex], [data.score]),\n",
        "            cmap=\"YlGnBu\", annot=True, cbar=False)"
      ],
      "execution_count": 0,
      "outputs": []
    },
    {
      "cell_type": "code",
      "metadata": {
        "colab_type": "code",
        "id": "4I4L5aGcYXUe",
        "colab": {}
      },
      "source": [
        "testing3=pd.crosstab([data.country, data.age], data.score)\n",
        "testing3"
      ],
      "execution_count": 0,
      "outputs": []
    },
    {
      "cell_type": "code",
      "metadata": {
        "id": "nQ8FwJv5Yn3i",
        "colab_type": "code",
        "colab": {}
      },
      "source": [
        "fig, ax = plt.subplots(figsize=(19,8))         # Sample figsize in inches\n",
        "sns.heatmap(pd.crosstab([data.country,data.age], [data.score]),\n",
        "            cmap=\"YlGnBu\", annot=True, cbar=False)"
      ],
      "execution_count": 0,
      "outputs": []
    },
    {
      "cell_type": "code",
      "metadata": {
        "id": "EV14cSszMdpy",
        "colab_type": "code",
        "colab": {}
      },
      "source": [
        "dfUKM = data.loc[(data['country']==\"United Kingdom\")&(data['sex']=='male'), ['score']]\n",
        "dfUKF = data.loc[(data['country']==\"United Kingdom\")&(data['sex']=='female'), ['score']]\n",
        "dfSPM = data.loc[(data['country']==\"Spain\")&(data['sex']=='male'), ['score']]\n",
        "dfSPF = data.loc[(data['country']==\"Spain\")&(data['sex']=='female'), ['score']]\n",
        "dfITM = data.loc[(data['country']==\"Italy\")&(data['sex']=='male'), ['score']]\n",
        "dfITF = data.loc[(data['country']==\"Italy\")&(data['sex']=='female'), ['score']]\n",
        "dfIRM = data.loc[(data['country']==\"Ireland\")&(data['sex']=='male'), ['score']]\n",
        "dfIRF = data.loc[(data['country']==\"Ireland\")&(data['sex']=='female'), ['score']]\n",
        "dfGEM = data.loc[(data['country']==\"Germany\")&(data['sex']=='male'), ['score']]\n",
        "dfGEF = data.loc[(data['country']==\"Germany\")&(data['sex']=='female'), ['score']]\n",
        "dfFRM = data.loc[(data['country']==\"France\")&(data['sex']=='male'), ['score']]\n",
        "dfFRF = data.loc[(data['country']==\"France\")&(data['sex']=='female'), ['score']]\n",
        "# Data to plot\n",
        "labels = [\"United Kingdom\", \"Spain\", \"Italy\", \"Ireland\", \"Germany\",\"France\" ]\n",
        "sizes = [len(dfUKM)+len(dfUKF), len(dfSPM)+len(dfSPF), len(dfITM)+len(dfITF), len(dfIRM)+len(dfIRF), len(dfGEM)+len(dfGEF), len(dfFRM)+len(dfFRF)]\n",
        "labels_gender = ['UKM','UKF','SPM','SPF', 'ITM','ITF','IRM','IRF', 'GEM','GEF','FRM','FRF']\n",
        "sizes_gender = [len(dfUKM),len(dfUKF),len(dfSPM),len(dfSPF), len(dfITM), len(dfITF), len(dfIRM), len(dfIRF), len(dfGEM), len(dfGEF), len(dfFRM), len(dfFRF)]\n",
        "colors = ['#ff6666', '#66b3ff','#3f00f0','#ffcc00', '#aa00f0','#aaffe6']\n",
        "colors_gender = ['#c2c2f0','#ffb3e6', '#c2c2f0','#ffb3e6','#c2c2f0','#ffb3e6','#c2c2f0','#ffb3e6','#c2c2f0','#ffb3e6','#c2c2f0','#ffb3e6']\n",
        "explode = (0.2,0.2,0.2,0.2,0.2,0.2) \n",
        "explode_gender = (0.1,0.1,0.1,0.1,0.1,0.1,0.1,0.1,0.1,0.1,0.1,0.1)\n",
        "#Plot\n",
        "plt.pie(sizes, labels=labels, colors=colors, startangle=90,frame=True, autopct='%1.1f%%',explode=explode,radius=3)\n",
        "plt.pie(sizes_gender,labels=labels_gender,colors=colors_gender,startangle=90, autopct='%1.1f%%',explode=explode_gender,radius=2 )\n",
        "#Draw circle\n",
        "centre_circle = plt.Circle((0,0),1.5,color='black', fc='white',linewidth=0)\n",
        "fig = plt.gcf()\n",
        "fig.gca().add_artist(centre_circle)\n",
        " \n",
        "#fig, ax = figsize=(15,10)        # Sample figsize in inches\n",
        "\n",
        "plt.axis('equal')\n",
        "plt.tight_layout()\n",
        "plt.show()\n",
        "print(len(dfUKM),len(dfUKF),len(dfSPM),len(dfSPF), len(dfITM), len(dfITF), len(dfIRM), len(dfIRF), len(dfGEM), len(dfGEF), len(dfFRM), len(dfFRF))"
      ],
      "execution_count": 0,
      "outputs": []
    },
    {
      "cell_type": "markdown",
      "metadata": {
        "id": "W5aZPxI3cZRe",
        "colab_type": "text"
      },
      "source": [
        "### Mean and Median:"
      ]
    },
    {
      "cell_type": "code",
      "metadata": {
        "id": "z_CmEsiTbRD9",
        "colab_type": "code",
        "colab": {}
      },
      "source": [
        "import statistics\n",
        "dfmedian = pd.DataFrame(columns=['Mean','Median'], index=['UK males','UK females','Spain males','Spain females','Italy males','Italy females','Ireland males','Ireland females','Germany males','Germany females','France males','France females'])\n",
        "dfmedian.loc['UK males'] = [dfUKM.score.mean(),dfUKM.score.median()]\n",
        "dfmedian.loc['UK females'] = [dfUKF.score.mean(),dfUKF.score.median()]\n",
        "dfmedian.loc['Spain males'] = [dfSPM.score.mean(),dfSPM.score.median()]\n",
        "dfmedian.loc['Spain females'] = [dfSPF.score.mean(),dfSPF.score.median()]\n",
        "dfmedian.loc['Italy males'] = [dfITM.score.mean(),dfITM.score.median()]\n",
        "dfmedian.loc['Italy females'] = [dfITF.score.mean(),dfITF.score.median()]\n",
        "dfmedian.loc['Ireland males'] = [dfIRM.score.mean(),dfIRM.score.median()]\n",
        "dfmedian.loc['Ireland females'] = [dfIRF.score.mean(),dfIRF.score.median()]\n",
        "dfmedian.loc['Germany males'] = [dfGEM.score.mean(),dfGEM.score.median()]\n",
        "dfmedian.loc['Germany females'] = [dfGEF.score.mean(),dfGEF.score.median()]\n",
        "dfmedian.loc['France males'] = [dfFRM.score.mean(),dfFRM.score.median()]\n",
        "dfmedian.loc['France females'] = [dfFRF.score.mean(),dfFRF.score.median()]\n",
        "dfmedian"
      ],
      "execution_count": 0,
      "outputs": []
    },
    {
      "cell_type": "code",
      "metadata": {
        "id": "OYZfv5Lpb495",
        "colab_type": "code",
        "colab": {}
      },
      "source": [
        "dfmedian.plot.bar(figsize=(16,5),rot=30)"
      ],
      "execution_count": 0,
      "outputs": []
    }
  ]
}