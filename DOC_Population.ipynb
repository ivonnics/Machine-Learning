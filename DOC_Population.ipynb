{
  "nbformat": 4,
  "nbformat_minor": 0,
  "metadata": {
    "colab": {
      "name": "DOC Population.ipynb",
      "provenance": [],
      "collapsed_sections": [],
      "authorship_tag": "ABX9TyOP1z30bazL6zc/wjBxvWcA",
      "include_colab_link": true
    },
    "kernelspec": {
      "name": "python3",
      "display_name": "Python 3"
    }
  },
  "cells": [
    {
      "cell_type": "markdown",
      "metadata": {
        "id": "view-in-github",
        "colab_type": "text"
      },
      "source": [
        "<a href=\"https://colab.research.google.com/github/ivonnics/Machine-Learning/blob/master/DOC_Population.ipynb\" target=\"_parent\"><img src=\"https://colab.research.google.com/assets/colab-badge.svg\" alt=\"Open In Colab\"/></a>"
      ]
    },
    {
      "cell_type": "code",
      "metadata": {
        "id": "LBH_LnmwHCIr",
        "colab_type": "code",
        "colab": {}
      },
      "source": [
        "from google.colab import files\n",
        "uploaded=files.upload()  #this will prompt you to upload the File from your computer\n",
        "# Data taken from: https://data.aclum.org/sjc-12926-tracker/\n",
        "# https://zora.medium.com/prisons-are-no-place-for-a-pandemic-advocates-fight-to-free-their-loved-ones-2e4a5355a96"
      ],
      "execution_count": 0,
      "outputs": []
    },
    {
      "cell_type": "code",
      "metadata": {
        "id": "OscfyEbkHG1C",
        "colab_type": "code",
        "colab": {}
      },
      "source": [
        "import io\n",
        "import pandas as pd\n",
        "df2 = pd.read_excel(io.BytesIO(uploaded['20200508_1453_prison_data_SJC12926.xlsx']),sheet_name=1)\n",
        "# Dataset is now stored in a Pandas Dataframe\n",
        "df2"
      ],
      "execution_count": 0,
      "outputs": []
    },
    {
      "cell_type": "code",
      "metadata": {
        "id": "fnaMAp0gIn1u",
        "colab_type": "code",
        "colab": {}
      },
      "source": [
        "dfFram = df2.loc[(df2['DOC Facility']=='MCI-F') , ['Date','N Positive - Detainees/Inmates', 'N Positive - Staff', 'Total Positive']]\n",
        "dfFram"
      ],
      "execution_count": 0,
      "outputs": []
    },
    {
      "cell_type": "code",
      "metadata": {
        "id": "AxyuLKGfKIwu",
        "colab_type": "code",
        "colab": {}
      },
      "source": [
        "dfFram.fillna(0,inplace=True)\n",
        "dfFram"
      ],
      "execution_count": 0,
      "outputs": []
    },
    {
      "cell_type": "code",
      "metadata": {
        "id": "7KQ5r74IONhq",
        "colab_type": "code",
        "colab": {}
      },
      "source": [
        "dfFram.dtypes"
      ],
      "execution_count": 0,
      "outputs": []
    },
    {
      "cell_type": "markdown",
      "metadata": {
        "id": "UzIjqqIBGzut",
        "colab_type": "text"
      },
      "source": [
        "pd.read_excel('tmp.xlsx', index_col=0)  "
      ]
    },
    {
      "cell_type": "code",
      "metadata": {
        "id": "n1Q4O14qLdjd",
        "colab_type": "code",
        "colab": {}
      },
      "source": [
        "import pandas as pd\n",
        "import matplotlib.pyplot as plt\n",
        "import seaborn as sns\n",
        "dfFram.plot.bar(x=\"Date\", y=\"Total Positive\")"
      ],
      "execution_count": 0,
      "outputs": []
    },
    {
      "cell_type": "code",
      "metadata": {
        "id": "F8Rg4vkkPXT0",
        "colab_type": "code",
        "colab": {}
      },
      "source": [
        "# From: https://pstblog.com/2016/10/04/stacked-charts\n",
        "colors = [\"#eb3434\", \"#31A354\"]\n",
        "dfFram.loc[:,['N Positive - Detainees/Inmates','N Positive - Staff']].plot.bar(stacked=True, color=colors, figsize=(10,7));"
      ],
      "execution_count": 0,
      "outputs": []
    },
    {
      "cell_type": "code",
      "metadata": {
        "id": "I_sCzUfQRdLy",
        "colab_type": "code",
        "colab": {}
      },
      "source": [
        "import datetime\n",
        "dfx=dfFram.loc[:,['Date','N Positive - Detainees/Inmates','N Positive - Staff']]\n",
        "dfx['Date'] = dfx[\"Date\"].dt.strftime('%m/%d')\n",
        "print(dfx.head())\n",
        "dfx.set_index('Date',inplace=True)\n",
        "dfx"
      ],
      "execution_count": 0,
      "outputs": []
    },
    {
      "cell_type": "code",
      "metadata": {
        "id": "mkqItq6ZTaLv",
        "colab_type": "code",
        "colab": {}
      },
      "source": [
        "# From: https://www.dataquest.io/blog/python-datetime-tutorial/\n",
        "dfx.plot.bar(stacked=True, color=colors, figsize=(10,7));"
      ],
      "execution_count": 0,
      "outputs": []
    },
    {
      "cell_type": "code",
      "metadata": {
        "id": "DjXH-taAyMj1",
        "colab_type": "code",
        "colab": {}
      },
      "source": [
        "#https://stackoverflow.com/questions/23482201/plot-pandas-dataframe-as-bar-and-line-on-the-same-one-chart\n",
        "#https://stackoverflow.com/questions/48810556/plot-ad-hoc-the-sum-of-two-columns-python\n",
        "ax = (dfx['N Positive - Detainees/Inmates']+dfx[\"N Positive - Staff\"]).plot(label='Total Positive Population',linestyle='-', marker='o')\n",
        "dfx.plot.bar(stacked=True, color=colors, figsize=(14,7),ax=ax);\n",
        "sns.set(style='darkgrid')\n",
        "#sns.barplot(data=data, x=\"severity\", y=\"freq\")\n",
        "#plt.xlabel('')\n",
        "#ax.set_xticks(ax.get_xticks()[::2]) # From: https://stackoverflow.com/questions/12608788/changing-the-tick-frequency-on-x-or-y-axis-in-matplotlib\n",
        "\n",
        "for label in ax.get_xticklabels()[::2]:  # From: https://stackoverflow.com/questions/12608788/changing-the-tick-frequency-on-x-or-y-axis-in-matplotlib\n",
        "    label.set_visible(False)\n",
        "\n",
        "sns.set(style=\"darkgrid\")\n",
        "plt.ylabel('Number of Positives',size=16)\n",
        "plt.xlabel('Month and Day of Test',size=16)\n",
        "plt.title('Population that Tested Positive in MCI Framingham', size=22)\n",
        "plt.legend( prop={'size': 18})\n",
        "plt.xticks(size=14)\n",
        "plt.xticks(rotation=20)\n",
        "plt.yticks(size=14)\n",
        "sns.despine(left=True)\n",
        "plt.savefig('Positives MCI-F.png');"
      ],
      "execution_count": 0,
      "outputs": []
    }
  ]
}