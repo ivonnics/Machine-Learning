{
  "nbformat": 4,
  "nbformat_minor": 0,
  "metadata": {
    "colab": {
      "name": "Para Sacar contenido del Github hacia Google Drive.ipynb",
      "provenance": [],
      "collapsed_sections": [],
      "authorship_tag": "ABX9TyO5FDKhPTfDUvkLysQrnd1G",
      "include_colab_link": true
    },
    "kernelspec": {
      "name": "python3",
      "display_name": "Python 3"
    }
  },
  "cells": [
    {
      "cell_type": "markdown",
      "metadata": {
        "id": "view-in-github",
        "colab_type": "text"
      },
      "source": [
        "<a href=\"https://colab.research.google.com/github/ivonnics/Machine-Learning/blob/master/Para_Sacar_contenido_del_Github_hacia_Google_Drive.ipynb\" target=\"_parent\"><img src=\"https://colab.research.google.com/assets/colab-badge.svg\" alt=\"Open In Colab\"/></a>"
      ]
    },
    {
      "cell_type": "markdown",
      "metadata": {
        "id": "8QQpA5Fl77j8",
        "colab_type": "text"
      },
      "source": [
        "## From: https://medium.com/@ashwindesilva/how-to-use-google-colaboratory-to-clone-a-github-repository-e07cf8d3d22b"
      ]
    },
    {
      "cell_type": "code",
      "metadata": {
        "id": "J8Rsm-2B6qlD",
        "colab_type": "code",
        "colab": {}
      },
      "source": [
        "from google.colab import drive\n",
        "drive.mount('/content/gdrive')"
      ],
      "execution_count": 0,
      "outputs": []
    },
    {
      "cell_type": "code",
      "metadata": {
        "id": "Evt9qDxX7Miy",
        "colab_type": "code",
        "colab": {}
      },
      "source": [
        "! ls"
      ],
      "execution_count": 0,
      "outputs": []
    },
    {
      "cell_type": "code",
      "metadata": {
        "id": "CcueqHqa7UTs",
        "colab_type": "code",
        "colab": {}
      },
      "source": [
        "%cd gdrive/My Drive/ML Books # ML Books es el directorio dentro de mi Google Drive donde quiero guardar el contenido de Github"
      ],
      "execution_count": 0,
      "outputs": []
    },
    {
      "cell_type": "code",
      "metadata": {
        "id": "5NuM2L0A7j7n",
        "colab_type": "code",
        "colab": {}
      },
      "source": [
        "#! git clone link/to/your/repo\n",
        "! git clone https://github.com/ivonnics/nohtyp # Esta es la dirección del Github cuyo contenido quiero guardar en mi Google Drive "
      ],
      "execution_count": 0,
      "outputs": []
    }
  ]
}