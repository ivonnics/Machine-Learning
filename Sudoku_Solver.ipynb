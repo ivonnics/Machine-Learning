{
  "nbformat": 4,
  "nbformat_minor": 0,
  "metadata": {
    "colab": {
      "name": "Sudoku Solver.ipynb",
      "provenance": [],
      "collapsed_sections": [],
      "authorship_tag": "ABX9TyOpuvEsc+5xFIUKpHZL7jRo",
      "include_colab_link": true
    },
    "kernelspec": {
      "name": "python3",
      "display_name": "Python 3"
    }
  },
  "cells": [
    {
      "cell_type": "markdown",
      "metadata": {
        "id": "view-in-github",
        "colab_type": "text"
      },
      "source": [
        "<a href=\"https://colab.research.google.com/github/ivonnics/Machine-Learning/blob/master/Sudoku_Solver.ipynb\" target=\"_parent\"><img src=\"https://colab.research.google.com/assets/colab-badge.svg\" alt=\"Open In Colab\"/></a>"
      ]
    },
    {
      "cell_type": "markdown",
      "metadata": {
        "id": "92yLPGXnRvv3",
        "colab_type": "text"
      },
      "source": [
        "## From: https://www.youtube.com/watch?v=G_UYXzGuqvM\n",
        "\n",
        "Ctrl + M Y to convert a Text cell into a code cell.\n",
        "Ctrl + M M to convert a Code cell into a text cell "
      ]
    },
    {
      "cell_type": "markdown",
      "metadata": {
        "id": "4HvIoCl8jyxU",
        "colab_type": "text"
      },
      "source": [
        "grid = [[0,0,0,2,6,0,7,0,1],[6,8,0,0,7,0,0,9,0],[1,9,0,0,0,4,5,0,0],[8,2,0,1,0,0,0,4,0],[0,0,4,6,0,2,9,0,0],[0,0,5,0,0,3,0,2,8],[0,0,9,3,0,0,0,7,4],[0,4,0,0,5,0,0,3,6],[7,0,3,0,1,8,0,0,0]] # No lo resuelve"
      ]
    },
    {
      "cell_type": "code",
      "metadata": {
        "id": "8eeLb7CyjvbW",
        "colab_type": "code",
        "colab": {}
      },
      "source": [
        "grid = [[5,3,0,0,7,0,0,0,0], [6,0,0,1,9,5,0,0,0], [0,9,8,0,0,0,0,6,0], [8,0,0,0,6,0,0,0,3], [4,0,0,8,0,3,0,0,1], [7,0,0,0,2,0,0,0,6], [0,6,0,0,0,0,2,8,0], [0,0,0,4,1,9,0,0,5], [0,0,0,0,8,0,0,7,9]]"
      ],
      "execution_count": 0,
      "outputs": []
    },
    {
      "cell_type": "markdown",
      "metadata": {
        "id": "CFp9DViVbc91",
        "colab_type": "text"
      },
      "source": [
        "grid = [[0,8,0,0,0,0,2,0,0], [0,0,0,0,8,4,0,9,0], [0,0,6,3,2,0,0,1,0], [0,9,7,0,0,0,0,8,0], [8,0,0,9,0,3,0,0,2], [0,1,0,0,0,0,9,5,0], [0,7,0,0,4,5,8,0,0], [0,3,0,7,1,0,0,0,0], [0,0,8,0,0,0,0,4,0]]"
      ]
    },
    {
      "cell_type": "markdown",
      "metadata": {
        "id": "laSXvd6hxjR8",
        "colab_type": "text"
      },
      "source": [
        "grid = [[0,0,0,1,0,5,0,0,0], [1,4,0,0,0,0,6,7,0], [0,8,0,0,0,2,4,0,0], [0,6,3,0,7,0,0,1,0], [9,0,0,0,0,0,0,0,3], [0,1,0,0,9,0,5,2,0], [0,0,7,2,0,0,0,8,0], [0,2,6,0,0,0,0,3,5], [0,0,0,4,0,9,0,0,0]]"
      ]
    },
    {
      "cell_type": "markdown",
      "metadata": {
        "id": "DS_-etQx0kb1",
        "colab_type": "text"
      },
      "source": [
        "grid = [[0,0,0,0,0,4,0,2,8], [4,0,6,0,0,0,0,0,5], [1,0,0,0,3,0,6,0,0], [0,0,0,3,0,1,0,0,0], [0,8,7,0,0,0,1,4,0], [0,0,0,7,0,9,0,0,0], [0,0,2,0,1,0,0,0,3], [9,0,0,0,0,0,5,0,7], [6,7,0,4,0,0,0,0,0]]"
      ]
    },
    {
      "cell_type": "markdown",
      "metadata": {
        "id": "ZRzgeJXO2tIP",
        "colab_type": "text"
      },
      "source": [
        "grid = [[7,2,0,0,9,6,0,0,3], [0,0,0,2,0,5,0,0,0], [0,8,0,0,0,4,0,2,0], [0,0,0,0,0,0,0,6,0], [1,0,6,5,0,3,8,0,7], [0,4,0,0,0,0,0,0,0], [0,3,0,8,0,0,0,9,0], [0,0,0,7,0,2,0,0,0], [2,0,0,4,3,0,0,1,8]]"
      ]
    },
    {
      "cell_type": "markdown",
      "metadata": {
        "id": "jA0V-iVI4-ZN",
        "colab_type": "text"
      },
      "source": [
        "grid = [[3,0,9,0,0,0,4,0,0], [2,0,0,7,0,9,0,0,0], [0,8,7,0,0,0,0,0,0], [7,5,0,0,6,0,2,3,0], [6,0,0,9,0,4,0,0,8], [0,2,8,0,5,0,0,4,1], [0,0,0,0,0,0,0,5,9], [0,0,0,1,0,6,0,0,7], [0,0,6,0,0,0,1,0,4]] # No lo resuelve"
      ]
    },
    {
      "cell_type": "code",
      "metadata": {
        "id": "MurwzimQOe2R",
        "colab_type": "code",
        "colab": {}
      },
      "source": [
        "print(grid)"
      ],
      "execution_count": 0,
      "outputs": []
    },
    {
      "cell_type": "code",
      "metadata": {
        "id": "g7gwPt45OjA4",
        "colab_type": "code",
        "colab": {}
      },
      "source": [
        "import numpy as np\n",
        "print(np.matrix(grid))"
      ],
      "execution_count": 0,
      "outputs": []
    },
    {
      "cell_type": "code",
      "metadata": {
        "colab_type": "code",
        "id": "eUf4RylyjhZQ",
        "colab": {}
      },
      "source": [
        "def possible (y,x,n):\n",
        "    global grid\n",
        "    for i in range (0,9):\n",
        "        if grid [y][i]==n:\n",
        "            return False\n",
        "    for i in range (0,9):\n",
        "        if grid [i][x]==n:\n",
        "            return False\n",
        "    X0=(x//3)*3\n",
        "    Y0=(y//3)*3\n",
        "    for i in range (0,3):\n",
        "        for j in range (0,3):\n",
        "            if grid[Y0+i][X0+j]==n:\n",
        "                return False\n",
        "    return True"
      ],
      "execution_count": 0,
      "outputs": []
    },
    {
      "cell_type": "markdown",
      "metadata": {
        "colab_type": "text",
        "id": "PqzudOXbjglu"
      },
      "source": [
        "def solve():\n",
        "    global grid\n",
        "    for y in range (9):\n",
        "        print('Estoy en y')\n",
        "        for x in range (9):\n",
        "            print('Estoy en x')\n",
        "            if grid[y][x]==0:\n",
        "                print('Estoy en grid')\n",
        "                for n in range (1,10):\n",
        "                    print('Estoy en range')\n",
        "                    if possible(y,x,n):\n",
        "                        print('Estoy en possible')\n",
        "                        grid[y][x]=n\n",
        "                        solve()\n",
        "                        grid[y][x]=0\n",
        "                return\n",
        "    print(np.matrix(grid))\n",
        "    input('More?')"
      ]
    },
    {
      "cell_type": "code",
      "metadata": {
        "id": "ACfG9nV9kZWz",
        "colab_type": "code",
        "colab": {}
      },
      "source": [
        ""
      ],
      "execution_count": 0,
      "outputs": []
    },
    {
      "cell_type": "code",
      "metadata": {
        "colab_type": "code",
        "id": "fg3c_7apkb5O",
        "colab": {}
      },
      "source": [
        "def solve():\n",
        "    global grid\n",
        "    for y in range (9):\n",
        "        for x in range (9):\n",
        "            if grid[y][x]==0:\n",
        "                for n in range (1,10):\n",
        "                    if possible(y,x,n):\n",
        "                        grid[y][x]=n\n",
        "                        solve()\n",
        "                        grid[y][x]=0\n",
        "                return\n",
        "    print(np.matrix(grid))\n",
        "    input('More?')"
      ],
      "execution_count": 0,
      "outputs": []
    },
    {
      "cell_type": "code",
      "metadata": {
        "colab_type": "code",
        "id": "YN84B2PTkfvU",
        "colab": {}
      },
      "source": [
        "solve()"
      ],
      "execution_count": 0,
      "outputs": []
    }
  ]
}