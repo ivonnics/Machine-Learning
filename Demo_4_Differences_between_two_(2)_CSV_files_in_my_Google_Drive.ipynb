{
  "nbformat": 4,
  "nbformat_minor": 0,
  "metadata": {
    "kernelspec": {
      "display_name": "Python 3",
      "language": "python",
      "name": "python3"
    },
    "language_info": {
      "codemirror_mode": {
        "name": "ipython",
        "version": 3
      },
      "file_extension": ".py",
      "mimetype": "text/x-python",
      "name": "python",
      "nbconvert_exporter": "python",
      "pygments_lexer": "ipython3",
      "version": "3.7.3"
    },
    "colab": {
      "name": "Demo 4: Differences between two (2) CSV files in my Google Drive.ipynb",
      "provenance": [],
      "collapsed_sections": [],
      "include_colab_link": true
    }
  },
  "cells": [
    {
      "cell_type": "markdown",
      "metadata": {
        "id": "view-in-github",
        "colab_type": "text"
      },
      "source": [
        "<a href=\"https://colab.research.google.com/github/ivonnics/Machine-Learning/blob/master/Demo_4_Differences_between_two_(2)_CSV_files_in_my_Google_Drive.ipynb\" target=\"_parent\"><img src=\"https://colab.research.google.com/assets/colab-badge.svg\" alt=\"Open In Colab\"/></a>"
      ]
    },
    {
      "cell_type": "code",
      "metadata": {
        "id": "LP4evKwqSuBn",
        "colab_type": "code",
        "colab": {}
      },
      "source": [
        "import pandas as pd"
      ],
      "execution_count": 0,
      "outputs": []
    },
    {
      "cell_type": "code",
      "metadata": {
        "id": "NPy2m_wZSuBw",
        "colab_type": "code",
        "colab": {}
      },
      "source": [
        "pd.__version__"
      ],
      "execution_count": 0,
      "outputs": []
    },
    {
      "cell_type": "markdown",
      "metadata": {
        "id": "aydqydRY6iOV",
        "colab_type": "text"
      },
      "source": [
        "## Mount the Google Drive to Google Colab"
      ]
    },
    {
      "cell_type": "code",
      "metadata": {
        "id": "b5zUHLGBn3gj",
        "colab_type": "code",
        "colab": {}
      },
      "source": [
        "# https://towardsdatascience.com/downloading-datasets-into-google-drive-via-google-colab-bcb1b30b0166\n",
        "from google.colab import drive\n",
        "drive.mount('/content/drive', force_remount=True)"
      ],
      "execution_count": 0,
      "outputs": []
    },
    {
      "cell_type": "code",
      "metadata": {
        "id": "_YTF4jzkSuB3",
        "colab_type": "code",
        "colab": {}
      },
      "source": [
        "import sys, sqlite3, pandas as pd\n",
        "pd.set_option('display.max_columns', None)\n",
        "pd.set_option('display.max_rows', None)\n",
        "files = ['/content/drive/My Drive/Lista.csv', \n",
        "         '/content/drive/My Drive/Listita.csv']\n",
        "df2=pd.read_csv('/content/drive/My Drive/Listita.csv')\n",
        "df1=pd.read_csv('/content/drive/My Drive/Lista.csv')\n",
        "#df1 = pd.read_csv(files[0])\n",
        "#df2 = pd.read_csv(files[1])\n",
        "print(df1)\n",
        "print('________________________')\n",
        "print(df2)\n",
        "df3 = (df1 != df2).any(axis=None)\n",
        "print('Differences in file:', df3)\n",
        "df3 = (df1 != df2).any(1)\n",
        "ne_stacked = (df1 != df2).stack()\n",
        "changed = ne_stacked[ne_stacked]\n",
        "changed.index.names = ['id', 'col']\n",
        "print('Differences In:')\n",
        "print(changed)"
      ],
      "execution_count": 0,
      "outputs": []
    },
    {
      "cell_type": "code",
      "metadata": {
        "id": "js75HGyCSuCH",
        "colab_type": "code",
        "colab": {}
      },
      "source": [
        "df3 = df1.eq(df2)\n",
        "print(df3.all())\n",
        "print('-----------')\n",
        "print(df3.all(axis=1))\n",
        "print('____________')\n",
        "df4 = df3.all(axis=1)\n",
        "df4 = pd.DataFrame(df4, columns=['Columns'])\n",
        "print(df4[df4['Columns']==False])"
      ],
      "execution_count": 0,
      "outputs": []
    },
    {
      "cell_type": "code",
      "metadata": {
        "id": "eiEX0kdXSuCL",
        "colab_type": "code",
        "colab": {}
      },
      "source": [
        "#This is the correct mismtaching column\n",
        "\n",
        "\n",
        "conn = sqlite3.connect(':memory:') #we are spinning an SQL db in memory\n",
        "cur = conn.cursor()\n",
        "chunksize = 10000\n",
        "i=0\n",
        "for file in files:\n",
        "    i = i+1\n",
        "    for chunk in pd.read_csv(file, chunksize=chunksize): #load the file in chunks in case its too big\n",
        "        chunk.columns = chunk.columns.str.replace(' ', '_') #replacing spaces with underscores for column names\n",
        "        chunk.to_sql(name='file' + str(i), con=conn, if_exists='append')\n",
        "print('Comparing', files[0], 'to', files[1]) #Compare if all data from File[0] are present in File[1]\n",
        "cur.execute( '''SELECT * FROM File1\n",
        "                EXCEPT\n",
        "                SELECT * FROM File2''')\n",
        "i=0\n",
        "for row in cur:\n",
        "    print(row)\n",
        "    i=i+1\n",
        "if i==0: print('No Differences')\n",
        "print('Comparing', files[1], 'to', files[0]) #Compare if all data from File[1] are present in File[0]\n",
        "cur.execute( '''SELECT * FROM File2\n",
        "                EXCEPT\n",
        "                SELECT * FROM File1''')\n",
        "i=0\n",
        "for row in cur:\n",
        "    print(row)\n",
        "    i=i+1\n",
        "if i==0: print('No Differences')\n",
        "cur.close()"
      ],
      "execution_count": 0,
      "outputs": []
    },
    {
      "cell_type": "code",
      "metadata": {
        "id": "tKQEvlPGSuCP",
        "colab_type": "code",
        "colab": {}
      },
      "source": [
        ""
      ],
      "execution_count": 0,
      "outputs": []
    }
  ]
}