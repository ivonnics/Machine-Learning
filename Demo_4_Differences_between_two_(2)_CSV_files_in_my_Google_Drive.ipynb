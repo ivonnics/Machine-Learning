{
  "nbformat": 4,
  "nbformat_minor": 0,
  "metadata": {
    "kernelspec": {
      "display_name": "Python 3",
      "language": "python",
      "name": "python3"
    },
    "language_info": {
      "codemirror_mode": {
        "name": "ipython",
        "version": 3
      },
      "file_extension": ".py",
      "mimetype": "text/x-python",
      "name": "python",
      "nbconvert_exporter": "python",
      "pygments_lexer": "ipython3",
      "version": "3.7.3"
    },
    "colab": {
      "name": "Demo 4: Differences between two (2) CSV files in my Google Drive.ipynb",
      "provenance": [],
      "collapsed_sections": [],
      "include_colab_link": true
    }
  },
  "cells": [
    {
      "cell_type": "markdown",
      "metadata": {
        "id": "view-in-github",
        "colab_type": "text"
      },
      "source": [
        "<a href=\"https://colab.research.google.com/github/ivonnics/Machine-Learning/blob/master/Demo_4_Differences_between_two_(2)_CSV_files_in_my_Google_Drive.ipynb\" target=\"_parent\"><img src=\"https://colab.research.google.com/assets/colab-badge.svg\" alt=\"Open In Colab\"/></a>"
      ]
    },
    {
      "cell_type": "code",
      "metadata": {
        "id": "LP4evKwqSuBn",
        "colab_type": "code",
        "colab": {}
      },
      "source": [
        "import pandas as pd"
      ],
      "execution_count": 0,
      "outputs": []
    },
    {
      "cell_type": "code",
      "metadata": {
        "id": "NPy2m_wZSuBw",
        "colab_type": "code",
        "outputId": "92033ce7-1d77-402f-cae3-a1b1e569c94c",
        "colab": {
          "base_uri": "https://localhost:8080/",
          "height": 34
        }
      },
      "source": [
        "pd.__version__"
      ],
      "execution_count": 0,
      "outputs": [
        {
          "output_type": "execute_result",
          "data": {
            "text/plain": [
              "'0.25.3'"
            ]
          },
          "metadata": {
            "tags": []
          },
          "execution_count": 20
        }
      ]
    },
    {
      "cell_type": "markdown",
      "metadata": {
        "id": "aydqydRY6iOV",
        "colab_type": "text"
      },
      "source": [
        "## Mount the Google Drive to Google Colab"
      ]
    },
    {
      "cell_type": "code",
      "metadata": {
        "id": "b5zUHLGBn3gj",
        "colab_type": "code",
        "outputId": "4f09db36-a99b-4599-98a9-e0242752925e",
        "colab": {
          "base_uri": "https://localhost:8080/",
          "height": 34
        }
      },
      "source": [
        "# https://towardsdatascience.com/downloading-datasets-into-google-drive-via-google-colab-bcb1b30b0166\n",
        "from google.colab import drive\n",
        "drive.mount('/content/drive', force_remount=True)"
      ],
      "execution_count": 0,
      "outputs": [
        {
          "output_type": "stream",
          "text": [
            "Mounted at /content/drive\n"
          ],
          "name": "stdout"
        }
      ]
    },
    {
      "cell_type": "code",
      "metadata": {
        "id": "_YTF4jzkSuB3",
        "colab_type": "code",
        "outputId": "58674df5-728a-483e-aeb3-2ef1c51dd4fb",
        "colab": {
          "base_uri": "https://localhost:8080/",
          "height": 1000
        }
      },
      "source": [
        "import sys, sqlite3, pandas as pd\n",
        "pd.set_option('display.max_columns', None)\n",
        "pd.set_option('display.max_rows', None)\n",
        "files = ['/content/drive/My Drive/Lista.csv', \n",
        "         '/content/drive/My Drive/Listita.csv']\n",
        "df2=pd.read_csv('/content/drive/My Drive/Listita.csv')\n",
        "df1=pd.read_csv('/content/drive/My Drive/Lista.csv')\n",
        "#df1 = pd.read_csv(files[0])\n",
        "#df2 = pd.read_csv(files[1])\n",
        "print(df1)\n",
        "print('________________________')\n",
        "print(df2)\n",
        "df3 = (df1 != df2).any(axis=None)\n",
        "print('Differences in file:', df3)\n",
        "df3 = (df1 != df2).any(1)\n",
        "ne_stacked = (df1 != df2).stack()\n",
        "changed = ne_stacked[ne_stacked]\n",
        "changed.index.names = ['id', 'col']\n",
        "print('Differences In:')\n",
        "print(changed)"
      ],
      "execution_count": 0,
      "outputs": [
        {
          "output_type": "stream",
          "text": [
            "            LastName      FirstName  Grade   LASID  Alerts  \\\n",
            "0      Arias Ramirez         Stefny      8  154715       1   \n",
            "1            Barreto        Mikaely      8  154940       1   \n",
            "2   Cordero Mijangos       Cristian      8  154255       1   \n",
            "3              Costa       Jhonatan      8  154385       1   \n",
            "4           Da Silva  Maria Eduarda      8  155078       1   \n",
            "5             Dantas        Matheus      8  155176       1   \n",
            "6           De Souza       Gabriele      8  154878       1   \n",
            "7     Martinez Brito        Wilifer      8  154792       1   \n",
            "8              Patel            Yug      8  155006       1   \n",
            "9            Quirino         Diones      8  153157       1   \n",
            "10            Salera       Bernardo      8  155026       1   \n",
            "11           Sampaio      Lionildia      8  154745       1   \n",
            "12             Silva         Emilly      8  154966       1   \n",
            "13             Silva          Hyago      8  154696       1   \n",
            "14             Sousa         Rafael      8  155023       1   \n",
            "\n",
            "    Co-CurricEligibility Homeroom     HR Teacher           Photo  \n",
            "0                    NaN      B43      Mendez, M  PHO000000pDdMk  \n",
            "1                    NaN      B36  Figueiredo, V  PHO000000pDdP8  \n",
            "2                    NaN      B43      Mendez, M  PHO000000pDdKE  \n",
            "3                    NaN      B36  Figueiredo, V  PHO000000pDdL4  \n",
            "4                    NaN      B43      Mendez, M  PHO000000pDdQc  \n",
            "5                    NaN      B36  Figueiredo, V             NaN  \n",
            "6                    NaN      B40        Mota, T  PHO000000pDdOU  \n",
            "7                    NaN      B43      Mendez, M  PHO000000pDdNS  \n",
            "8                    NaN      B38     Johnson, A  PHO000000pDdPy  \n",
            "9                    NaN      B36  Figueiredo, V  PHO000000jIXkD  \n",
            "10                   NaN      B36  Figueiredo, V  PHO000000pDdQA  \n",
            "11                   NaN      B40        Mota, T  PHO000000pDdMs  \n",
            "12                   NaN      B36  Figueiredo, V  PHO000000pDdPa  \n",
            "13                   NaN      B36  Figueiredo, V  PHO000000pDdMY  \n",
            "14                   NaN      B40        Mota, T  PHO000000pDdQ6  \n",
            "________________________\n",
            "            LastName      FirstName  Grade   LASID  Alerts  \\\n",
            "0      Arias Ramirez        Stefany      8  154715       1   \n",
            "1            Barreto        Mikaely      8  154940       1   \n",
            "2   Cordero Mijangos       Cristian      8  154255       1   \n",
            "3              Costa       Jhonatan      8  154385       1   \n",
            "4           Da Silva  Maria Eduarda      8  155078       1   \n",
            "5             Dantas        Matheus      8  155176       1   \n",
            "6           De Souza       Gabriele      8  154878       1   \n",
            "7     Martinez Brito        Wilifer      8  154792       1   \n",
            "8              Patel            Yug      8  155006       1   \n",
            "9            Quirino         Diones      8  153157       1   \n",
            "10            Salera       Bernardo      8  155026       1   \n",
            "11           Sampaio      Lionildia      8  154745       1   \n",
            "12             Silva         Emilly      8  154966       1   \n",
            "13             Silva          Hyago      8  154696       1   \n",
            "14             Sousa        Rafaele      8  155023       1   \n",
            "\n",
            "    Co-CurricEligibility Homeroom     HR Teacher           Photo  \n",
            "0                    NaN      B43      Mendez, M  PHO000000pDdMk  \n",
            "1                    NaN      B36  Figueiredo, V  PHO000000pDdP8  \n",
            "2                    NaN      B43      Mendez, M  PHO000000pDdKE  \n",
            "3                    NaN      B36  Figueiredo, V  PHO000000pDdL4  \n",
            "4                    NaN      B43      Mendez, M  PHO000000pDdQc  \n",
            "5                    NaN      B36  Figueiredo, V             NaN  \n",
            "6                    NaN      B40        Mota, T  PHO000000pDdOU  \n",
            "7                    NaN      B43      Mendez, M  PHO000000pDdNS  \n",
            "8                    NaN      B38     Johnson, A  PHO000000pDdPy  \n",
            "9                    NaN      B36  Figueiredo, V  PHO000000jIXkD  \n",
            "10                   NaN      B36  Figueiredo, V  PHO000000pDdQA  \n",
            "11                   NaN      B40        Mota, T  PHO000000pDdMs  \n",
            "12                   NaN      B36  Figueiredo, V  PHO000000pDdPa  \n",
            "13                   NaN      B36  Figueiredo, V  PHO000000pDdMY  \n",
            "14                   NaN      B40        Mota, T  PHO000000pDdQ6  \n",
            "Differences in file: True\n",
            "Differences In:\n",
            "id  col                 \n",
            "0   FirstName               True\n",
            "    Co-CurricEligibility    True\n",
            "1   Co-CurricEligibility    True\n",
            "2   Co-CurricEligibility    True\n",
            "3   Co-CurricEligibility    True\n",
            "4   Co-CurricEligibility    True\n",
            "5   Co-CurricEligibility    True\n",
            "    Photo                   True\n",
            "6   Co-CurricEligibility    True\n",
            "7   Co-CurricEligibility    True\n",
            "8   Co-CurricEligibility    True\n",
            "9   Co-CurricEligibility    True\n",
            "10  Co-CurricEligibility    True\n",
            "11  Co-CurricEligibility    True\n",
            "12  Co-CurricEligibility    True\n",
            "13  Co-CurricEligibility    True\n",
            "14  FirstName               True\n",
            "    Co-CurricEligibility    True\n",
            "dtype: bool\n"
          ],
          "name": "stdout"
        }
      ]
    },
    {
      "cell_type": "code",
      "metadata": {
        "id": "js75HGyCSuCH",
        "colab_type": "code",
        "outputId": "1121952d-de54-472c-f0ba-4f357c78e23e",
        "colab": {
          "base_uri": "https://localhost:8080/",
          "height": 765
        }
      },
      "source": [
        "df3 = df1.eq(df2)\n",
        "print(df3.all())\n",
        "print('-----------')\n",
        "print(df3.all(axis=1))\n",
        "print('____________')\n",
        "df4 = df3.all(axis=1)\n",
        "df4 = pd.DataFrame(df4, columns=['Columns'])\n",
        "print(df4[df4['Columns']==False])"
      ],
      "execution_count": 0,
      "outputs": [
        {
          "output_type": "stream",
          "text": [
            "LastName                 True\n",
            "FirstName               False\n",
            "Grade                    True\n",
            "LASID                    True\n",
            "Alerts                   True\n",
            "Co-CurricEligibility    False\n",
            "Homeroom                 True\n",
            "HR Teacher               True\n",
            "Photo                   False\n",
            "dtype: bool\n",
            "-----------\n",
            "0     False\n",
            "1     False\n",
            "2     False\n",
            "3     False\n",
            "4     False\n",
            "5     False\n",
            "6     False\n",
            "7     False\n",
            "8     False\n",
            "9     False\n",
            "10    False\n",
            "11    False\n",
            "12    False\n",
            "13    False\n",
            "14    False\n",
            "dtype: bool\n",
            "____________\n",
            "    Columns\n",
            "0     False\n",
            "1     False\n",
            "2     False\n",
            "3     False\n",
            "4     False\n",
            "5     False\n",
            "6     False\n",
            "7     False\n",
            "8     False\n",
            "9     False\n",
            "10    False\n",
            "11    False\n",
            "12    False\n",
            "13    False\n",
            "14    False\n"
          ],
          "name": "stdout"
        }
      ]
    },
    {
      "cell_type": "code",
      "metadata": {
        "id": "eiEX0kdXSuCL",
        "colab_type": "code",
        "outputId": "4cd634b4-903d-4337-b4d7-4a49f03e2344",
        "colab": {
          "base_uri": "https://localhost:8080/",
          "height": 119
        }
      },
      "source": [
        "#This is the correct mismtaching column\n",
        "\n",
        "\n",
        "conn = sqlite3.connect(':memory:') #we are spinning an SQL db in memory\n",
        "cur = conn.cursor()\n",
        "chunksize = 10000\n",
        "i=0\n",
        "for file in files:\n",
        "    i = i+1\n",
        "    for chunk in pd.read_csv(file, chunksize=chunksize): #load the file in chunks in case its too big\n",
        "        chunk.columns = chunk.columns.str.replace(' ', '_') #replacing spaces with underscores for column names\n",
        "        chunk.to_sql(name='file' + str(i), con=conn, if_exists='append')\n",
        "print('Comparing', files[0], 'to', files[1]) #Compare if all data from File[0] are present in File[1]\n",
        "cur.execute( '''SELECT * FROM File1\n",
        "                EXCEPT\n",
        "                SELECT * FROM File2''')\n",
        "i=0\n",
        "for row in cur:\n",
        "    print(row)\n",
        "    i=i+1\n",
        "if i==0: print('No Differences')\n",
        "print('Comparing', files[1], 'to', files[0]) #Compare if all data from File[1] are present in File[0]\n",
        "cur.execute( '''SELECT * FROM File2\n",
        "                EXCEPT\n",
        "                SELECT * FROM File1''')\n",
        "i=0\n",
        "for row in cur:\n",
        "    print(row)\n",
        "    i=i+1\n",
        "if i==0: print('No Differences')\n",
        "cur.close()"
      ],
      "execution_count": 0,
      "outputs": [
        {
          "output_type": "stream",
          "text": [
            "Comparing /content/drive/My Drive/Lista.csv to /content/drive/My Drive/Listita.csv\n",
            "(0, 'Arias Ramirez', 'Stefny', 8, 154715, 1, None, 'B43', 'Mendez, M', 'PHO000000pDdMk')\n",
            "(14, 'Sousa', 'Rafael', 8, 155023, 1, None, 'B40', 'Mota, T', 'PHO000000pDdQ6')\n",
            "Comparing /content/drive/My Drive/Listita.csv to /content/drive/My Drive/Lista.csv\n",
            "(0, 'Arias Ramirez', 'Stefany', 8, 154715, 1, None, 'B43', 'Mendez, M', 'PHO000000pDdMk')\n",
            "(14, 'Sousa', 'Rafaele', 8, 155023, 1, None, 'B40', 'Mota, T', 'PHO000000pDdQ6')\n"
          ],
          "name": "stdout"
        }
      ]
    },
    {
      "cell_type": "code",
      "metadata": {
        "id": "tKQEvlPGSuCP",
        "colab_type": "code",
        "colab": {}
      },
      "source": [
        ""
      ],
      "execution_count": 0,
      "outputs": []
    }
  ]
}