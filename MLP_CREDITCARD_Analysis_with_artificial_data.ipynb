{
  "nbformat": 4,
  "nbformat_minor": 0,
  "metadata": {
    "colab": {
      "name": "MLP CREDITCARD Analysis with artificial data.ipynb",
      "version": "0.3.2",
      "provenance": [],
      "collapsed_sections": [],
      "include_colab_link": true
    },
    "kernelspec": {
      "name": "python3",
      "display_name": "Python 3"
    }
  },
  "cells": [
    {
      "cell_type": "markdown",
      "metadata": {
        "id": "view-in-github",
        "colab_type": "text"
      },
      "source": [
        "<a href=\"https://colab.research.google.com/github/ivonnics/Machine-Learning/blob/master/MLP_CREDITCARD_Analysis_with_artificial_data.ipynb\" target=\"_parent\"><img src=\"https://colab.research.google.com/assets/colab-badge.svg\" alt=\"Open In Colab\"/></a>"
      ]
    },
    {
      "cell_type": "code",
      "metadata": {
        "id": "U_LemWlojns9",
        "colab_type": "code",
        "colab": {}
      },
      "source": [
        "# main libraries\n",
        "import pandas as pd\n",
        "import numpy as np\n",
        "import time\n",
        "# visual libraries\n",
        "from matplotlib import pyplot as plt\n",
        "import seaborn as sns\n",
        "from mpl_toolkits.mplot3d import Axes3D \n",
        "plt.style.use('ggplot')\n",
        "# sklearn libraries\n",
        "from sklearn.neighbors import KNeighborsClassifier\n",
        "from sklearn.model_selection import train_test_split\n",
        "from sklearn.preprocessing import normalize\n",
        "from sklearn.metrics import confusion_matrix,accuracy_score,precision_score,recall_score,f1_score,matthews_corrcoef,classification_report,roc_curve\n",
        "from sklearn.externals import joblib\n",
        "from sklearn.preprocessing import StandardScaler\n",
        "from sklearn.decomposition import PCA"
      ],
      "execution_count": 0,
      "outputs": []
    },
    {
      "cell_type": "markdown",
      "metadata": {
        "id": "jlZuy5DqjsZu",
        "colab_type": "text"
      },
      "source": [
        "# Tomado de: https://towardsdatascience.com/data-pre-processing-techniques-you-should-know-8954662716d6"
      ]
    },
    {
      "cell_type": "code",
      "metadata": {
        "id": "83lwvpkujx_a",
        "colab_type": "code",
        "colab": {
          "base_uri": "https://localhost:8080/",
          "height": 473
        },
        "outputId": "00ab5b2a-4313-4f98-f093-a01e8fba0192"
      },
      "source": [
        "# Create artificial data:\n",
        "df=pd.DataFrame(np.random.rand(200000, 30))\n",
        "df['Class'] = np.random.choice([0, 1], size=(len(df)), p=[.998, .002])\n",
        "print(df.head())\n",
        "plt.hist(df['Class'])"
      ],
      "execution_count": 36,
      "outputs": [
        {
          "output_type": "stream",
          "text": [
            "          0         1         2         3  ...        27        28        29  Class\n",
            "0  0.757620  0.731101  0.671391  0.475466  ...  0.067678  0.128623  0.884622      0\n",
            "1  0.395493  0.308390  0.081089  0.169289  ...  0.651350  0.835160  0.606091      0\n",
            "2  0.786004  0.839933  0.286307  0.046164  ...  0.777082  0.274647  0.292808      0\n",
            "3  0.027103  0.152644  0.737956  0.061253  ...  0.207675  0.767671  0.110665      0\n",
            "4  0.718662  0.255511  0.619199  0.820465  ...  0.529514  0.629353  0.991918      0\n",
            "\n",
            "[5 rows x 31 columns]\n"
          ],
          "name": "stdout"
        },
        {
          "output_type": "execute_result",
          "data": {
            "text/plain": [
              "(array([199598.,      0.,      0.,      0.,      0.,      0.,      0.,\n",
              "             0.,      0.,    402.]),\n",
              " array([0. , 0.1, 0.2, 0.3, 0.4, 0.5, 0.6, 0.7, 0.8, 0.9, 1. ]),\n",
              " <a list of 10 Patch objects>)"
            ]
          },
          "metadata": {
            "tags": []
          },
          "execution_count": 36
        },
        {
          "output_type": "display_data",
          "data": {
            "image/png": "[encoded data removed]",
            "text/plain": [
              "<Figure size 432x288 with 1 Axes>"
            ]
          },
          "metadata": {
            "tags": []
          }
        }
      ]
    },
    {
      "cell_type": "code",
      "metadata": {
        "id": "IpnSWHhXkI6J",
        "colab_type": "code",
        "colab": {
          "base_uri": "https://localhost:8080/",
          "height": 34
        },
        "outputId": "6fc6c893-fa8d-4d49-e297-be17270c88e0"
      },
      "source": [
        "df.isnull().any().sum()"
      ],
      "execution_count": 37,
      "outputs": [
        {
          "output_type": "execute_result",
          "data": {
            "text/plain": [
              "0"
            ]
          },
          "metadata": {
            "tags": []
          },
          "execution_count": 37
        }
      ]
    },
    {
      "cell_type": "code",
      "metadata": {
        "id": "fXKrxKgmkNJI",
        "colab_type": "code",
        "colab": {
          "base_uri": "https://localhost:8080/",
          "height": 51
        },
        "outputId": "8f052073-9663-4ca7-839b-d7cdb26efe94"
      },
      "source": [
        "All = df.shape[0]\n",
        "fraud = df[df['Class'] == 1]\n",
        "nonFraud = df[df['Class'] == 0]\n",
        "\n",
        "x = len(fraud)/All\n",
        "y = len(nonFraud)/All\n",
        "\n",
        "print('frauds :',x*100,'%')\n",
        "print('non frauds :',y*100,'%')"
      ],
      "execution_count": 38,
      "outputs": [
        {
          "output_type": "stream",
          "text": [
            "frauds : 0.201 %\n",
            "non frauds : 99.799 %\n"
          ],
          "name": "stdout"
        }
      ]
    },
    {
      "cell_type": "code",
      "metadata": {
        "id": "I02XwpZ7kR3A",
        "colab_type": "code",
        "colab": {
          "base_uri": "https://localhost:8080/",
          "height": 316
        },
        "outputId": "7cb2db32-ab93-403d-db65-c02902a9e4a3"
      },
      "source": [
        "# Let's plot the Transaction class against the Frequency\n",
        "labels = ['non frauds','fraud']\n",
        "classes = pd.value_counts(df['Class'], sort = True)\n",
        "classes.plot(kind = 'bar', rot=0)\n",
        "plt.title(\"Transaction class distribution\")\n",
        "plt.xticks(range(2), labels)\n",
        "plt.xlabel(\"Class\")\n",
        "plt.ylabel(\"Frequency\")\n"
      ],
      "execution_count": 39,
      "outputs": [
        {
          "output_type": "execute_result",
          "data": {
            "text/plain": [
              "Text(0, 0.5, 'Frequency')"
            ]
          },
          "metadata": {
            "tags": []
          },
          "execution_count": 39
        },
        {
          "output_type": "display_data",
          "data": {
            "image/png": "[encoded data removed]",
            "text/plain": [
              "<Figure size 432x288 with 1 Axes>"
            ]
          },
          "metadata": {
            "tags": []
          }
        }
      ]
    },
    {
      "cell_type": "code",
      "metadata": {
        "id": "JHdB-_UskWFI",
        "colab_type": "code",
        "colab": {}
      },
      "source": [
        "# distribution of Amount\n",
        "#amount = [df['Amount'].values]\n",
        "#sns.distplot(amount)"
      ],
      "execution_count": 0,
      "outputs": []
    },
    {
      "cell_type": "code",
      "metadata": {
        "id": "s5XsXueAkZuA",
        "colab_type": "code",
        "colab": {}
      },
      "source": [
        "# distribution of Time\n",
        "#time = df['Time'].values\n",
        "#sns.distplot(time)"
      ],
      "execution_count": 0,
      "outputs": []
    },
    {
      "cell_type": "code",
      "metadata": {
        "id": "Z6kSomN6kdl7",
        "colab_type": "code",
        "colab": {
          "base_uri": "https://localhost:8080/",
          "height": 221
        },
        "outputId": "b2a9ca59-599e-4e86-df80-fdda2b44d74e"
      },
      "source": [
        "# distribution of anomalous features\n",
        "import matplotlib.gridspec as gridspec\n",
        "anomalous_features = df.iloc[:,0:30].columns\n",
        "print(anomalous_features)\n",
        "\n",
        "anomalous_features2 = df.iloc[:,0:30]\n",
        "print(anomalous_features2.shape)\n",
        "print(anomalous_features2.head())\n",
        "\n"
      ],
      "execution_count": 68,
      "outputs": [
        {
          "output_type": "stream",
          "text": [
            "Index([ 0,  1,  2,  3,  4,  5,  6,  7,  8,  9, 10, 11, 12, 13, 14, 15, 16, 17,\n",
            "       18, 19, 20, 21, 22, 23, 24, 25, 26, 27, 28, 29],\n",
            "      dtype='object')\n",
            "(200000, 30)\n",
            "         0         1         2   ...        27        28        29\n",
            "0  0.757620  0.731101  0.671391  ...  0.067678  0.128623  0.884622\n",
            "1  0.395493  0.308390  0.081089  ...  0.651350  0.835160  0.606091\n",
            "2  0.786004  0.839933  0.286307  ...  0.777082  0.274647  0.292808\n",
            "3  0.027103  0.152644  0.737956  ...  0.207675  0.767671  0.110665\n",
            "4  0.718662  0.255511  0.619199  ...  0.529514  0.629353  0.991918\n",
            "\n",
            "[5 rows x 30 columns]\n"
          ],
          "name": "stdout"
        }
      ]
    },
    {
      "cell_type": "code",
      "metadata": {
        "id": "lZEqdS2w0qXX",
        "colab_type": "code",
        "colab": {
          "base_uri": "https://localhost:8080/",
          "height": 541
        },
        "outputId": "e9f9edc8-b85f-4646-9947-82a5aae1c900"
      },
      "source": [
        "# heat map of correlation of features\n",
        "correlation_matrix = anomalous_features2.corr()\n",
        "fig = plt.figure(figsize=(12,9))\n",
        "sns.heatmap(correlation_matrix,vmax=0.8,square = True)\n",
        "plt.show()"
      ],
      "execution_count": 69,
      "outputs": [
        {
          "output_type": "display_data",
          "data": {
            "image/png": "[encoded data removed]",
            "text/plain": [
              "<Figure size 864x648 with 2 Axes>"
            ]
          },
          "metadata": {
            "tags": []
          }
        }
      ]
    },
    {
      "cell_type": "code",
      "metadata": {
        "id": "CQhG3U0730Zu",
        "colab_type": "code",
        "colab": {
          "base_uri": "https://localhost:8080/",
          "height": 68
        },
        "outputId": "605aa8af-49f3-4523-eca2-0a2fcc36fe23"
      },
      "source": [
        "from sklearn.cluster import KMeans\n",
        "\n",
        "# build the clustering model\n",
        "kmeans = KMeans(n_clusters=3)\n",
        "kmeans.fit(anomalous_features2)"
      ],
      "execution_count": 70,
      "outputs": [
        {
          "output_type": "execute_result",
          "data": {
            "text/plain": [
              "KMeans(algorithm='auto', copy_x=True, init='k-means++', max_iter=300,\n",
              "       n_clusters=3, n_init=10, n_jobs=None, precompute_distances='auto',\n",
              "       random_state=None, tol=0.0001, verbose=0)"
            ]
          },
          "metadata": {
            "tags": []
          },
          "execution_count": 70
        }
      ]
    },
    {
      "cell_type": "code",
      "metadata": {
        "id": "EsEh0hHo4KX6",
        "colab_type": "code",
        "colab": {
          "base_uri": "https://localhost:8080/",
          "height": 51
        },
        "outputId": "4f8fbf3c-9b20-472f-833b-e02d7840061a"
      },
      "source": [
        "print(\"Cluster memberships:\\n{}\".format(kmeans.labels_[0:28]))"
      ],
      "execution_count": 71,
      "outputs": [
        {
          "output_type": "stream",
          "text": [
            "Cluster memberships:\n",
            "[1 2 2 0 0 2 2 0 0 0 2 1 2 0 0 0 1 1 2 1 2 2 2 1 1 0 2 1]\n"
          ],
          "name": "stdout"
        }
      ]
    },
    {
      "cell_type": "code",
      "metadata": {
        "id": "ud1Dxt6b4UVd",
        "colab_type": "code",
        "colab": {
          "base_uri": "https://localhost:8080/",
          "height": 34
        },
        "outputId": "343b71db-c19c-438c-c530-4ffc8369ab85"
      },
      "source": [
        "print(kmeans.predict(anomalous_features2[0:28]))"
      ],
      "execution_count": 72,
      "outputs": [
        {
          "output_type": "stream",
          "text": [
            "[1 2 2 0 0 2 2 0 0 0 2 1 2 0 0 0 1 1 2 1 2 2 2 1 1 0 2 1]\n"
          ],
          "name": "stdout"
        }
      ]
    },
    {
      "cell_type": "code",
      "metadata": {
        "id": "J3QrSCnV-x5f",
        "colab_type": "code",
        "colab": {
          "base_uri": "https://localhost:8080/",
          "height": 34
        },
        "outputId": "5afe16df-9a3a-4dc0-b636-b373c8855bb7"
      },
      "source": [
        "km = KMeans(n_clusters=3, \n",
        "            init= 'k-means++', \n",
        "            n_init=20, \n",
        "            max_iter=2000,\n",
        "            tol=1e-03,\n",
        "            random_state=0)\n",
        "y_km = km.fit_predict(anomalous_features2)\n",
        "print(y_km[0:28] )\n",
        "\n"
      ],
      "execution_count": 73,
      "outputs": [
        {
          "output_type": "stream",
          "text": [
            "[2 2 0 2 0 2 2 1 1 0 0 0 0 2 0 0 0 1 2 2 1 2 0 0 1 0 2 0]\n"
          ],
          "name": "stdout"
        }
      ]
    },
    {
      "cell_type": "code",
      "metadata": {
        "id": "WkesN5DfW7xu",
        "colab_type": "code",
        "colab": {}
      },
      "source": [
        "# Standardizing the features\n",
        "#df['Vamount'] = StandardScaler().fit_transform(df['Amount'].values.reshape(-1,1))\n",
        "#df['Vtime'] = StandardScaler().fit_transform(df['Time'].values.reshape(-1,1))\n",
        "\n",
        "#df = df.drop(['Time','Amount'], axis = 1)\n",
        "#print(df.shape)\n",
        "#df.head()"
      ],
      "execution_count": 0,
      "outputs": []
    },
    {
      "cell_type": "code",
      "metadata": {
        "id": "qun3nQNtZ9WA",
        "colab_type": "code",
        "colab": {}
      },
      "source": [
        "#! pip install mglearn"
      ],
      "execution_count": 0,
      "outputs": []
    },
    {
      "cell_type": "markdown",
      "metadata": {
        "id": "EDoPriP9Gq6a",
        "colab_type": "text"
      },
      "source": [
        "### Best MLP Parameters: \n",
        "'activation': 'tanh', 'alpha': 0.0001, 'hidden_layer_sizes': (100,), 'learning_rate': 'adaptive', 'solver': 'adam'\n"
      ]
    },
    {
      "cell_type": "code",
      "metadata": {
        "id": "2FiUYrtqaH88",
        "colab_type": "code",
        "colab": {}
      },
      "source": [
        "#import mglearn\n",
        "from sklearn.neural_network import MLPClassifier\n",
        "\n",
        "from sklearn.datasets import make_moons\n",
        "\n",
        "X = df.drop(['Class'], axis = 1)\n",
        "y = df['Class']\n",
        "\n",
        "X_train, X_test, y_train, y_test = train_test_split(X, y, stratify=y,test_size=0.05,\n",
        "                                                    random_state=42)\n",
        "\n",
        "mlp = MLPClassifier(solver='adam',activation= 'tanh', alpha= 0.0001,hidden_layer_sizes= (100,),learning_rate= 'adaptive',random_state=0).fit(X_train, y_train)\n"
      ],
      "execution_count": 0,
      "outputs": []
    },
    {
      "cell_type": "code",
      "metadata": {
        "id": "TFDspPXAev0E",
        "colab_type": "code",
        "colab": {}
      },
      "source": [
        " Testing= mlp.predict(X_test)"
      ],
      "execution_count": 0,
      "outputs": []
    },
    {
      "cell_type": "code",
      "metadata": {
        "id": "Kmd0orrHfH12",
        "colab_type": "code",
        "colab": {
          "base_uri": "https://localhost:8080/",
          "height": 51
        },
        "outputId": "d251f624-d732-4ecf-cb9b-492270989bc3"
      },
      "source": [
        "from sklearn.metrics import confusion_matrix\n",
        "confmat = confusion_matrix(y_true=y_test, y_pred=Testing)\n",
        "print(confmat)"
      ],
      "execution_count": 96,
      "outputs": [
        {
          "output_type": "stream",
          "text": [
            "[[9980    0]\n",
            " [  20    0]]\n"
          ],
          "name": "stdout"
        }
      ]
    },
    {
      "cell_type": "code",
      "metadata": {
        "id": "2V4YIu_0feBT",
        "colab_type": "code",
        "colab": {
          "base_uri": "https://localhost:8080/",
          "height": 189
        },
        "outputId": "af20d1ac-113e-484a-9534-3483cfb62ae7"
      },
      "source": [
        "fig, ax = plt.subplots(figsize=(2.5, 2.5))\n",
        "ax.matshow(confmat, cmap=plt.cm.Blues, alpha=0.3)\n",
        "for i in range(confmat.shape[0]):\n",
        "    for j in range(confmat.shape[1]):\n",
        "        ax.text(x=j, y=i, s=confmat[i, j], va='center', ha='center')\n",
        "\n",
        "plt.xlabel('predicted label')\n",
        "plt.ylabel('true label')\n",
        "\n",
        "plt.tight_layout()\n",
        "# plt.savefig('./figures/confusion_matrix.png', dpi=300)\n",
        "plt.show()"
      ],
      "execution_count": 97,
      "outputs": [
        {
          "output_type": "display_data",
          "data": {
            "image/png": "[encoded data removed]",
            "text/plain": [
              "<Figure size 180x180 with 1 Axes>"
            ]
          },
          "metadata": {
            "tags": []
          }
        }
      ]
    },
    {
      "cell_type": "code",
      "metadata": {
        "id": "GEtoefCogfs3",
        "colab_type": "code",
        "colab": {
          "base_uri": "https://localhost:8080/",
          "height": 258
        },
        "outputId": "3c4019a1-e8ff-47bf-d811-e05dc7b78f25"
      },
      "source": [
        "from sklearn.metrics import classification_report\n",
        "y_pred = Testing\n",
        "y_true = y_test\n",
        "print('accuracy_score = ',accuracy_score(y_true, y_pred)*100,'%')\n",
        "print('Total accurate predictions = ',accuracy_score(y_true, y_pred, normalize=False))\n",
        "target_names = ['class 0', 'class 1']\n",
        "print(classification_report(y_true, y_pred, target_names=target_names))"
      ],
      "execution_count": 98,
      "outputs": [
        {
          "output_type": "stream",
          "text": [
            "accuracy_score =  99.8 %\n",
            "Total accurate predictions =  9980\n",
            "              precision    recall  f1-score   support\n",
            "\n",
            "     class 0       1.00      1.00      1.00      9980\n",
            "     class 1       0.00      0.00      0.00        20\n",
            "\n",
            "    accuracy                           1.00     10000\n",
            "   macro avg       0.50      0.50      0.50     10000\n",
            "weighted avg       1.00      1.00      1.00     10000\n",
            "\n"
          ],
          "name": "stdout"
        },
        {
          "output_type": "stream",
          "text": [
            "/usr/local/lib/python3.6/dist-packages/sklearn/metrics/classification.py:1437: UndefinedMetricWarning: Precision and F-score are ill-defined and being set to 0.0 in labels with no predicted samples.\n",
            "  'precision', 'predicted', average, warn_for)\n"
          ],
          "name": "stderr"
        }
      ]
    },
    {
      "cell_type": "code",
      "metadata": {
        "id": "yw4RnfFOkaDU",
        "colab_type": "code",
        "colab": {
          "base_uri": "https://localhost:8080/",
          "height": 464
        },
        "outputId": "cf102674-536b-43ed-bfd9-c751668092e8"
      },
      "source": [
        "mlp = MLPClassifier(solver='lbfgs', random_state=0, activation='tanh',hidden_layer_sizes=[10])\n",
        "mlp.fit(X_train, y_train)\n",
        "Testing= mlp.predict(X_test)\n",
        "confmat = confusion_matrix(y_true=y_test, y_pred=Testing)\n",
        "print(confmat)\n",
        "fig, ax = plt.subplots(figsize=(2.5, 2.5))\n",
        "ax.matshow(confmat, cmap=plt.cm.Blues, alpha=0.3)\n",
        "for i in range(confmat.shape[0]):\n",
        "    for j in range(confmat.shape[1]):\n",
        "        ax.text(x=j, y=i, s=confmat[i, j], va='center', ha='center')\n",
        "\n",
        "plt.xlabel('predicted label')\n",
        "plt.ylabel('true label')\n",
        "\n",
        "plt.tight_layout()\n",
        "# plt.savefig('./figures/confusion_matrix.png', dpi=300)\n",
        "plt.show()\n",
        "y_pred = Testing\n",
        "y_true = y_test\n",
        "print('accuracy_score = ',accuracy_score(y_true, y_pred)*100,'%')\n",
        "print('Total accurate predictions = ',accuracy_score(y_true, y_pred, normalize=False))\n",
        "target_names = ['class 0', 'class 1']\n",
        "print(classification_report(y_true, y_pred, target_names=target_names))\n"
      ],
      "execution_count": 99,
      "outputs": [
        {
          "output_type": "stream",
          "text": [
            "[[9980    0]\n",
            " [  20    0]]\n"
          ],
          "name": "stdout"
        },
        {
          "output_type": "display_data",
          "data": {
            "image/png": "[encoded data removed]",
            "text/plain": [
              "<Figure size 180x180 with 1 Axes>"
            ]
          },
          "metadata": {
            "tags": []
          }
        },
        {
          "output_type": "stream",
          "text": [
            "accuracy_score =  99.8 %\n",
            "Total accurate predictions =  9980\n",
            "              precision    recall  f1-score   support\n",
            "\n",
            "     class 0       1.00      1.00      1.00      9980\n",
            "     class 1       0.00      0.00      0.00        20\n",
            "\n",
            "    accuracy                           1.00     10000\n",
            "   macro avg       0.50      0.50      0.50     10000\n",
            "weighted avg       1.00      1.00      1.00     10000\n",
            "\n"
          ],
          "name": "stdout"
        },
        {
          "output_type": "stream",
          "text": [
            "/usr/local/lib/python3.6/dist-packages/sklearn/metrics/classification.py:1437: UndefinedMetricWarning: Precision and F-score are ill-defined and being set to 0.0 in labels with no predicted samples.\n",
            "  'precision', 'predicted', average, warn_for)\n"
          ],
          "name": "stderr"
        }
      ]
    },
    {
      "cell_type": "markdown",
      "metadata": {
        "id": "m9SarEhtMupl",
        "colab_type": "text"
      },
      "source": [
        "## Metrics used to evaluate models in Scikit learn: \n",
        "https://towardsdatascience.com/understanding-data-science-classification-metrics-in-scikit-learn-in-python-3bc336865019\n",
        "\n",
        "accuracy_score:"
      ]
    },
    {
      "cell_type": "code",
      "metadata": {
        "id": "dgVxRpE2M8TM",
        "colab_type": "code",
        "colab": {
          "base_uri": "https://localhost:8080/",
          "height": 34
        },
        "outputId": "5627927e-dbf0-424a-a7de-3f82a568e7fd"
      },
      "source": [
        "accuracy_score(y_true, y_pred)\n",
        "# Accuracy is the fraction of samples predicted correctly"
      ],
      "execution_count": 100,
      "outputs": [
        {
          "output_type": "execute_result",
          "data": {
            "text/plain": [
              "0.998"
            ]
          },
          "metadata": {
            "tags": []
          },
          "execution_count": 100
        }
      ]
    },
    {
      "cell_type": "code",
      "metadata": {
        "id": "n9Ix3PbDPQwU",
        "colab_type": "code",
        "colab": {
          "base_uri": "https://localhost:8080/",
          "height": 34
        },
        "outputId": "7425a942-8fb3-4ff1-b0c1-ba71b5c2282c"
      },
      "source": [
        "from sklearn.metrics import recall_score\n",
        "recall_score(y_true, y_pred)\n",
        "# Recall (also known as sensitivity) is the fraction of positives events that were predicted correctly"
      ],
      "execution_count": 101,
      "outputs": [
        {
          "output_type": "execute_result",
          "data": {
            "text/plain": [
              "0.0"
            ]
          },
          "metadata": {
            "tags": []
          },
          "execution_count": 101
        }
      ]
    },
    {
      "cell_type": "code",
      "metadata": {
        "id": "M12ryExHPjhV",
        "colab_type": "code",
        "colab": {
          "base_uri": "https://localhost:8080/",
          "height": 88
        },
        "outputId": "86e07869-e71d-4c87-f3dd-a2fb80bdf6ac"
      },
      "source": [
        "from sklearn.metrics import precision_score\n",
        "precision_score(y_true, y_pred)\n",
        "# Precision is the fraction of predicted positives events that are actually positive "
      ],
      "execution_count": 102,
      "outputs": [
        {
          "output_type": "stream",
          "text": [
            "/usr/local/lib/python3.6/dist-packages/sklearn/metrics/classification.py:1437: UndefinedMetricWarning: Precision is ill-defined and being set to 0.0 due to no predicted samples.\n",
            "  'precision', 'predicted', average, warn_for)\n"
          ],
          "name": "stderr"
        },
        {
          "output_type": "execute_result",
          "data": {
            "text/plain": [
              "0.0"
            ]
          },
          "metadata": {
            "tags": []
          },
          "execution_count": 102
        }
      ]
    },
    {
      "cell_type": "code",
      "metadata": {
        "id": "xmoLr1EBP0H0",
        "colab_type": "code",
        "colab": {
          "base_uri": "https://localhost:8080/",
          "height": 88
        },
        "outputId": "33327886-0a5a-451c-b1d2-62a87baec37a"
      },
      "source": [
        "from sklearn.metrics import f1_score\n",
        "f1_score(y_true, y_pred)\n",
        "# The f1 score is the harmonic mean of recall and precision, with a higher score as a better model"
      ],
      "execution_count": 103,
      "outputs": [
        {
          "output_type": "stream",
          "text": [
            "/usr/local/lib/python3.6/dist-packages/sklearn/metrics/classification.py:1437: UndefinedMetricWarning: F-score is ill-defined and being set to 0.0 due to no predicted samples.\n",
            "  'precision', 'predicted', average, warn_for)\n"
          ],
          "name": "stderr"
        },
        {
          "output_type": "execute_result",
          "data": {
            "text/plain": [
              "0.0"
            ]
          },
          "metadata": {
            "tags": []
          },
          "execution_count": 103
        }
      ]
    },
    {
      "cell_type": "code",
      "metadata": {
        "id": "ofgz_8kbP8NM",
        "colab_type": "code",
        "colab": {}
      },
      "source": [
        "from sklearn.metrics import roc_curve\n",
        "fpr_RF, tpr_RF, thresholds_RF = roc_curve(y_true, y_pred)\n",
        "# ROC curves are VERY help with understanding the balance between true-positive\n",
        "# rate and false positive rates. Sci-kit learn has built in functions for ROC curves\n",
        "# and for analyzing them. The inputs to these functions (roc_curve and roc_auc_score)\n",
        "# are the actual labels and the predicted probabilities (not the predicted labels).\n",
        "# Both roc_curve and roc_auc_score are both complicated functions, they are used\n",
        "# TO COMPARE MODELS` PERFORMANcE (see article)"
      ],
      "execution_count": 0,
      "outputs": []
    },
    {
      "cell_type": "code",
      "metadata": {
        "id": "z_Fzvs1VQKKL",
        "colab_type": "code",
        "colab": {
          "base_uri": "https://localhost:8080/",
          "height": 34
        },
        "outputId": "b2db373a-becd-48bb-8cbd-bb9615c229fe"
      },
      "source": [
        "thresholds_RF"
      ],
      "execution_count": 105,
      "outputs": [
        {
          "output_type": "execute_result",
          "data": {
            "text/plain": [
              "array([1, 0])"
            ]
          },
          "metadata": {
            "tags": []
          },
          "execution_count": 105
        }
      ]
    },
    {
      "cell_type": "code",
      "metadata": {
        "id": "n5W7jKvJQSas",
        "colab_type": "code",
        "colab": {
          "base_uri": "https://localhost:8080/",
          "height": 34
        },
        "outputId": "15a66bc4-76e3-4564-f860-9a8c77bed7a9"
      },
      "source": [
        "fpr_RF"
      ],
      "execution_count": 106,
      "outputs": [
        {
          "output_type": "execute_result",
          "data": {
            "text/plain": [
              "array([0., 1.])"
            ]
          },
          "metadata": {
            "tags": []
          },
          "execution_count": 106
        }
      ]
    },
    {
      "cell_type": "code",
      "metadata": {
        "id": "T16_V_19QWUw",
        "colab_type": "code",
        "colab": {
          "base_uri": "https://localhost:8080/",
          "height": 34
        },
        "outputId": "d8c406b0-bba4-4625-e51f-db7871014306"
      },
      "source": [
        "tpr_RF"
      ],
      "execution_count": 107,
      "outputs": [
        {
          "output_type": "execute_result",
          "data": {
            "text/plain": [
              "array([0., 1.])"
            ]
          },
          "metadata": {
            "tags": []
          },
          "execution_count": 107
        }
      ]
    },
    {
      "cell_type": "code",
      "metadata": {
        "id": "CWPmEJr_QZcE",
        "colab_type": "code",
        "colab": {
          "base_uri": "https://localhost:8080/",
          "height": 286
        },
        "outputId": "18a7957b-ffcc-4c86-ecb3-842f77c96e08"
      },
      "source": [
        "import matplotlib.pyplot as plt\n",
        "plt.plot(fpr_RF, tpr_RF,'r-',label = 'RF')\n",
        "plt.plot([0,1],[0,1],'k-',label='random')\n",
        "plt.plot([0,0,1,1],[0,1,1,1],'g-',label='perfect')\n",
        "plt.legend()\n",
        "plt.xlabel('False Positive Rate')\n",
        "plt.ylabel('True Positive Rate')\n",
        "plt.show()"
      ],
      "execution_count": 108,
      "outputs": [
        {
          "output_type": "display_data",
          "data": {
            "image/png": "[encoded data removed]",
            "text/plain": [
              "<Figure size 432x288 with 1 Axes>"
            ]
          },
          "metadata": {
            "tags": []
          }
        }
      ]
    },
    {
      "cell_type": "code",
      "metadata": {
        "id": "vyEYe7UwQoJ4",
        "colab_type": "code",
        "colab": {
          "base_uri": "https://localhost:8080/",
          "height": 34
        },
        "outputId": "d7b6d83e-9fb4-43d8-a776-007fbd1ea724"
      },
      "source": [
        "from sklearn.metrics import roc_auc_score\n",
        "auc_RF = roc_auc_score(y_true, y_pred)\n",
        "print('AUC RF:%.3f'% auc_RF)"
      ],
      "execution_count": 109,
      "outputs": [
        {
          "output_type": "stream",
          "text": [
            "AUC RF:0.500\n"
          ],
          "name": "stdout"
        }
      ]
    },
    {
      "cell_type": "code",
      "metadata": {
        "id": "0ZcpWhSPQ08e",
        "colab_type": "code",
        "colab": {
          "base_uri": "https://localhost:8080/",
          "height": 286
        },
        "outputId": "3e077d6f-8e5f-4e58-f0d1-02f45eac50a8"
      },
      "source": [
        "import matplotlib.pyplot as plt\n",
        "plt.plot(fpr_RF, tpr_RF,'r-',label = 'RF AUC: %.3f'%auc_RF)\n",
        "plt.plot([0,1],[0,1],'k-',label='random')\n",
        "plt.plot([0,0,1,1],[0,1,1,1],'g-',label='perfect')\n",
        "plt.legend()\n",
        "plt.xlabel('False Positive Rate')\n",
        "plt.ylabel('True Positive Rate')\n",
        "plt.show()"
      ],
      "execution_count": 110,
      "outputs": [
        {
          "output_type": "display_data",
          "data": {
            "image/png": "[encoded data removed]",
            "text/plain": [
              "<Figure size 432x288 with 1 Axes>"
            ]
          },
          "metadata": {
            "tags": []
          }
        }
      ]
    },
    {
      "cell_type": "markdown",
      "metadata": {
        "id": "TJyX2SNgXeAD",
        "colab_type": "text"
      },
      "source": [
        "## Adjusting the hyperparameters of MLP classifier to get more perfect performance:\n",
        "\n",
        "https://datascience.stackexchange.com/questions/36049/how-to-adjust-the-hyperparameters-of-mlp-classifier-to-get-more-perfect-performa\n",
        "\n",
        "https://machinelearningmastery.com/how-to-tune-algorithm-parameters-with-scikit-learn/"
      ]
    },
    {
      "cell_type": "code",
      "metadata": {
        "id": "sYAS0YGL7QsY",
        "colab_type": "code",
        "colab": {}
      },
      "source": [
        "# GridSearch fine tuning tomado de: \n",
        "# https://datascience.stackexchange.com/questions/36049/how-to-adjust-the-hyperparameters-of-mlp-classifier-to-get-more-perfect-performa\n",
        "from sklearn.neural_network import MLPClassifier\n",
        "mlp = MLPClassifier(max_iter=100)\n",
        "parameter_space = {\n",
        "    'hidden_layer_sizes': [(50,50,50), (50,100,50), (100,)],\n",
        "    'activation': ['tanh', 'relu'],\n",
        "    'solver': ['sgd', 'adam'],\n",
        "    'alpha': [0.0001, 0.05],\n",
        "    'learning_rate': ['constant','adaptive'],\n",
        "}\n",
        "from sklearn.model_selection import GridSearchCV\n",
        "\n",
        "clf = GridSearchCV(mlp, parameter_space, n_jobs=-1, cv=3)\n",
        "clf.fit(X_train, y_train)\n",
        "\n",
        "# Best paramete set\n",
        "print('Best parameters found:\\n', clf.best_params_)\n",
        "\n",
        "# All results\n",
        "means = clf.cv_results_['mean_test_score']\n",
        "stds = clf.cv_results_['std_test_score']\n",
        "for mean, std, params in zip(means, stds, clf.cv_results_['params']):\n",
        "    print(\"%0.3f (+/-%0.03f) for %r\" % (mean, std * 2, params))\n",
        "\n",
        "y_true, y_pred = y_test , clf.predict(X_test)\n",
        "\n",
        "from sklearn.metrics import classification_report\n",
        "print('Results on the test set:')\n",
        "print(classification_report(y_true, y_pred))    "
      ],
      "execution_count": 0,
      "outputs": []
    },
    {
      "cell_type": "code",
      "metadata": {
        "id": "rwariZgzlrJ-",
        "colab_type": "code",
        "colab": {}
      },
      "source": [
        "print('accuracy_score = ',accuracy_score(y_true, y_pred)*100,'%')\n",
        "print('Total accurate predictions = ',accuracy_score(y_true, y_pred, normalize=False))\n",
        "target_names = ['class 0', 'class 1']"
      ],
      "execution_count": 0,
      "outputs": []
    },
    {
      "cell_type": "code",
      "metadata": {
        "id": "iCwtkgpHe5Lk",
        "colab_type": "code",
        "colab": {}
      },
      "source": [
        "from sklearn import datasets\n",
        "from sklearn.model_selection import train_test_split\n",
        "from sklearn.model_selection import GridSearchCV\n",
        "from sklearn.metrics import classification_report\n",
        "from sklearn.svm import SVC\n",
        "\n",
        "print(__doc__)\n",
        "\n",
        "# Loading the Digits dataset\n",
        "digits = datasets.load_digits()\n",
        "\n",
        "# To apply an classifier on this data, we need to flatten the image, to\n",
        "# turn the data in a (samples, feature) matrix:\n",
        "n_samples = len(digits.images)\n",
        "X = digits.images.reshape((n_samples, -1))\n",
        "y = digits.target\n",
        "\n",
        "# Split the dataset in two equal parts\n",
        "X_train, X_test, y_train, y_test = train_test_split(\n",
        "    X, y, test_size=0.5, random_state=0)\n",
        "\n",
        "# Set the parameters by cross-validation\n",
        "tuned_parameters = [{'kernel': ['rbf'], 'gamma': [1e-3, 1e-4],\n",
        "                     'C': [1, 10, 100, 1000]},\n",
        "                    {'kernel': ['linear'], 'C': [1, 10, 100, 1000]}]\n",
        "\n",
        "scores = ['precision', 'recall']\n",
        "\n",
        "for score in scores:\n",
        "    print(\"# Tuning hyper-parameters for %s\" % score)\n",
        "    print()\n",
        "\n",
        "    clf = GridSearchCV(SVC(), tuned_parameters, cv=5,\n",
        "                       scoring='%s_macro' % score)\n",
        "    clf.fit(X_train, y_train)\n",
        "\n",
        "    print(\"Best parameters set found on development set:\")\n",
        "    print()\n",
        "    print(clf.best_params_)\n",
        "    print()\n",
        "    print(\"Grid scores on development set:\")\n",
        "    print()\n",
        "    means = clf.cv_results_['mean_test_score']\n",
        "    stds = clf.cv_results_['std_test_score']\n",
        "    for mean, std, params in zip(means, stds, clf.cv_results_['params']):\n",
        "        print(\"%0.3f (+/-%0.03f) for %r\"\n",
        "              % (mean, std * 2, params))\n",
        "    print()\n",
        "\n",
        "    print(\"Detailed classification report:\")\n",
        "    print()\n",
        "    print(\"The model is trained on the full development set.\")\n",
        "    print(\"The scores are computed on the full evaluation set.\")\n",
        "    print()\n",
        "    y_true, y_pred = y_test, clf.predict(X_test)\n",
        "    print(classification_report(y_true, y_pred))\n",
        "    print()"
      ],
      "execution_count": 0,
      "outputs": []
    }
  ]
}