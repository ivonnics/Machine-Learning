{
 "cells": [
  {
   "cell_type": "markdown",
   "metadata": {},
   "source": [
    "# FDA frequently requested or proactively posted compliance records\n",
    "taken from: https://www.fda.gov/Drugs/GuidanceComplianceRegulatoryInformation/CDERFOIAElectronicReadingRoom/ucm515118.htm"
   ]
  },
  {
   "cell_type": "code",
   "execution_count": 1,
   "metadata": {},
   "outputs": [
    {
     "data": {
      "text/html": [
       "<div>\n",
       "<style scoped>\n",
       "    .dataframe tbody tr th:only-of-type {\n",
       "        vertical-align: middle;\n",
       "    }\n",
       "\n",
       "    .dataframe tbody tr th {\n",
       "        vertical-align: top;\n",
       "    }\n",
       "\n",
       "    .dataframe thead th {\n",
       "        text-align: right;\n",
       "    }\n",
       "</style>\n",
       "<table border=\"1\" class=\"dataframe\">\n",
       "  <thead>\n",
       "    <tr style=\"text-align: right;\">\n",
       "      <th></th>\n",
       "      <th>Record Date</th>\n",
       "      <th>FEI Number</th>\n",
       "      <th>Firm Name</th>\n",
       "      <th>Record Type</th>\n",
       "      <th>Country</th>\n",
       "      <th>Date Posted</th>\n",
       "      <th>Days between</th>\n",
       "    </tr>\n",
       "  </thead>\n",
       "  <tbody>\n",
       "    <tr>\n",
       "      <th>0</th>\n",
       "      <td>2015-06-18</td>\n",
       "      <td>3003631275</td>\n",
       "      <td>Zhejiang Medicine Co.</td>\n",
       "      <td>483</td>\n",
       "      <td>China</td>\n",
       "      <td>2016-12-15</td>\n",
       "      <td>546 days</td>\n",
       "    </tr>\n",
       "    <tr>\n",
       "      <th>1</th>\n",
       "      <td>2015-10-13</td>\n",
       "      <td>3003369660</td>\n",
       "      <td>CP Pharmaceuticals</td>\n",
       "      <td>483</td>\n",
       "      <td>United Kingdom</td>\n",
       "      <td>2017-01-27</td>\n",
       "      <td>472 days</td>\n",
       "    </tr>\n",
       "    <tr>\n",
       "      <th>2</th>\n",
       "      <td>2015-12-15</td>\n",
       "      <td>3002808500</td>\n",
       "      <td>Wockhardt Limited</td>\n",
       "      <td>483</td>\n",
       "      <td>India</td>\n",
       "      <td>2017-01-26</td>\n",
       "      <td>408 days</td>\n",
       "    </tr>\n",
       "    <tr>\n",
       "      <th>3</th>\n",
       "      <td>2016-01-15</td>\n",
       "      <td>3002806754</td>\n",
       "      <td>Cosma SpA</td>\n",
       "      <td>483</td>\n",
       "      <td>Italy</td>\n",
       "      <td>2017-05-11</td>\n",
       "      <td>482 days</td>\n",
       "    </tr>\n",
       "    <tr>\n",
       "      <th>4</th>\n",
       "      <td>2016-01-29</td>\n",
       "      <td>3002875215</td>\n",
       "      <td>Teva Pharmaceutical Works Private Limited Company</td>\n",
       "      <td>483</td>\n",
       "      <td>Hungary</td>\n",
       "      <td>2016-11-29</td>\n",
       "      <td>305 days</td>\n",
       "    </tr>\n",
       "  </tbody>\n",
       "</table>\n",
       "</div>"
      ],
      "text/plain": [
       "  Record Date  FEI Number                                          Firm Name  \\\n",
       "0  2015-06-18  3003631275                              Zhejiang Medicine Co.   \n",
       "1  2015-10-13  3003369660                                 CP Pharmaceuticals   \n",
       "2  2015-12-15  3002808500                                  Wockhardt Limited   \n",
       "3  2016-01-15  3002806754                                          Cosma SpA   \n",
       "4  2016-01-29  3002875215  Teva Pharmaceutical Works Private Limited Company   \n",
       "\n",
       "  Record Type         Country Date Posted Days between  \n",
       "0         483           China  2016-12-15     546 days  \n",
       "1         483  United Kingdom  2017-01-27     472 days  \n",
       "2         483           India  2017-01-26     408 days  \n",
       "3         483           Italy  2017-05-11     482 days  \n",
       "4         483         Hungary  2016-11-29     305 days  "
      ]
     },
     "execution_count": 1,
     "metadata": {},
     "output_type": "execute_result"
    }
   ],
   "source": [
    "import pandas as pd\n",
    "import matplotlib as plt\n",
    "%matplotlib inline\n",
    "url = \"C:\\\\Users\\\\ivonnics\\\\Documents\\\\JOSE LUIS\\\\Wockhardt\\\\FDARecords.csv\"\n",
    "df = pd.read_csv(url,encoding ='latin1')\n",
    "df['Record Date']=pd.to_datetime(df['Record Date'], format='%m/%d/%Y').dt.date\n",
    "df['Date Posted']=pd.to_datetime(df['Date Posted'], format='%m/%d/%Y').dt.date\n",
    "df['Days between']=df['Date Posted']-df['Record Date']\n",
    "df.head()"
   ]
  },
  {
   "cell_type": "code",
   "execution_count": 2,
   "metadata": {},
   "outputs": [
    {
     "data": {
      "text/html": [
       "<div>\n",
       "<style scoped>\n",
       "    .dataframe tbody tr th:only-of-type {\n",
       "        vertical-align: middle;\n",
       "    }\n",
       "\n",
       "    .dataframe tbody tr th {\n",
       "        vertical-align: top;\n",
       "    }\n",
       "\n",
       "    .dataframe thead th {\n",
       "        text-align: right;\n",
       "    }\n",
       "</style>\n",
       "<table border=\"1\" class=\"dataframe\">\n",
       "  <thead>\n",
       "    <tr style=\"text-align: right;\">\n",
       "      <th></th>\n",
       "      <th>Record Date</th>\n",
       "      <th>FEI Number</th>\n",
       "      <th>Firm Name</th>\n",
       "      <th>Record Type</th>\n",
       "      <th>Country</th>\n",
       "      <th>Date Posted</th>\n",
       "      <th>Days between</th>\n",
       "    </tr>\n",
       "  </thead>\n",
       "  <tbody>\n",
       "    <tr>\n",
       "      <th>97</th>\n",
       "      <td>2019-01-25</td>\n",
       "      <td>3007549629</td>\n",
       "      <td>Lupin Limited</td>\n",
       "      <td>483</td>\n",
       "      <td>India</td>\n",
       "      <td>2019-02-08</td>\n",
       "      <td>14 days</td>\n",
       "    </tr>\n",
       "    <tr>\n",
       "      <th>98</th>\n",
       "      <td>2019-02-05</td>\n",
       "      <td>3002957541</td>\n",
       "      <td>Sun Pharmaceutical Medicare</td>\n",
       "      <td>483</td>\n",
       "      <td>India</td>\n",
       "      <td>2019-03-22</td>\n",
       "      <td>45 days</td>\n",
       "    </tr>\n",
       "    <tr>\n",
       "      <th>99</th>\n",
       "      <td>2019-02-08</td>\n",
       "      <td>3004819820</td>\n",
       "      <td>Lupin Limited</td>\n",
       "      <td>483</td>\n",
       "      <td>India</td>\n",
       "      <td>2019-02-19</td>\n",
       "      <td>11 days</td>\n",
       "    </tr>\n",
       "    <tr>\n",
       "      <th>100</th>\n",
       "      <td>2019-02-08</td>\n",
       "      <td>3002949099</td>\n",
       "      <td>Dr. Reddys Laboratories</td>\n",
       "      <td>483</td>\n",
       "      <td>India</td>\n",
       "      <td>2019-02-19</td>\n",
       "      <td>11 days</td>\n",
       "    </tr>\n",
       "    <tr>\n",
       "      <th>101</th>\n",
       "      <td>2019-02-15</td>\n",
       "      <td>3003981475</td>\n",
       "      <td>Biocon</td>\n",
       "      <td>483</td>\n",
       "      <td>India</td>\n",
       "      <td>2019-03-12</td>\n",
       "      <td>25 days</td>\n",
       "    </tr>\n",
       "  </tbody>\n",
       "</table>\n",
       "</div>"
      ],
      "text/plain": [
       "    Record Date  FEI Number                    Firm Name Record Type Country  \\\n",
       "97   2019-01-25  3007549629                Lupin Limited         483   India   \n",
       "98   2019-02-05  3002957541  Sun Pharmaceutical Medicare         483   India   \n",
       "99   2019-02-08  3004819820                Lupin Limited         483   India   \n",
       "100  2019-02-08  3002949099      Dr. Reddys Laboratories         483   India   \n",
       "101  2019-02-15  3003981475                       Biocon         483   India   \n",
       "\n",
       "    Date Posted Days between  \n",
       "97   2019-02-08      14 days  \n",
       "98   2019-03-22      45 days  \n",
       "99   2019-02-19      11 days  \n",
       "100  2019-02-19      11 days  \n",
       "101  2019-03-12      25 days  "
      ]
     },
     "execution_count": 2,
     "metadata": {},
     "output_type": "execute_result"
    }
   ],
   "source": [
    "df.tail()"
   ]
  },
  {
   "cell_type": "code",
   "execution_count": 3,
   "metadata": {},
   "outputs": [
    {
     "data": {
      "text/plain": [
       "(102, 7)"
      ]
     },
     "execution_count": 3,
     "metadata": {},
     "output_type": "execute_result"
    }
   ],
   "source": [
    "df.shape"
   ]
  },
  {
   "cell_type": "code",
   "execution_count": 4,
   "metadata": {},
   "outputs": [
    {
     "name": "stdout",
     "output_type": "stream",
     "text": [
      "<class 'pandas.core.frame.DataFrame'>\n",
      "RangeIndex: 102 entries, 0 to 101\n",
      "Data columns (total 7 columns):\n",
      "Record Date     102 non-null object\n",
      "FEI Number      102 non-null int64\n",
      "Firm Name       102 non-null object\n",
      "Record Type     102 non-null object\n",
      "Country         102 non-null object\n",
      "Date Posted     102 non-null object\n",
      "Days between    102 non-null timedelta64[ns]\n",
      "dtypes: int64(1), object(5), timedelta64[ns](1)\n",
      "memory usage: 5.7+ KB\n"
     ]
    }
   ],
   "source": [
    "df.info() # additional info about dataframe"
   ]
  },
  {
   "cell_type": "code",
   "execution_count": 5,
   "metadata": {},
   "outputs": [
    {
     "data": {
      "text/html": [
       "<div>\n",
       "<style scoped>\n",
       "    .dataframe tbody tr th:only-of-type {\n",
       "        vertical-align: middle;\n",
       "    }\n",
       "\n",
       "    .dataframe tbody tr th {\n",
       "        vertical-align: top;\n",
       "    }\n",
       "\n",
       "    .dataframe thead th {\n",
       "        text-align: right;\n",
       "    }\n",
       "</style>\n",
       "<table border=\"1\" class=\"dataframe\">\n",
       "  <thead>\n",
       "    <tr style=\"text-align: right;\">\n",
       "      <th></th>\n",
       "      <th>Record Date</th>\n",
       "      <th>FEI Number</th>\n",
       "      <th>Firm Name</th>\n",
       "      <th>Record Type</th>\n",
       "      <th>Country</th>\n",
       "      <th>Date Posted</th>\n",
       "      <th>Days between</th>\n",
       "    </tr>\n",
       "  </thead>\n",
       "  <tbody>\n",
       "    <tr>\n",
       "      <th>count</th>\n",
       "      <td>102</td>\n",
       "      <td>1.020000e+02</td>\n",
       "      <td>102</td>\n",
       "      <td>102</td>\n",
       "      <td>102</td>\n",
       "      <td>102</td>\n",
       "      <td>102</td>\n",
       "    </tr>\n",
       "    <tr>\n",
       "      <th>unique</th>\n",
       "      <td>87</td>\n",
       "      <td>NaN</td>\n",
       "      <td>50</td>\n",
       "      <td>2</td>\n",
       "      <td>14</td>\n",
       "      <td>73</td>\n",
       "      <td>NaN</td>\n",
       "    </tr>\n",
       "    <tr>\n",
       "      <th>top</th>\n",
       "      <td>2017-04-28</td>\n",
       "      <td>NaN</td>\n",
       "      <td>Dr. Reddys Laboratories</td>\n",
       "      <td>483</td>\n",
       "      <td>India</td>\n",
       "      <td>2016-11-29</td>\n",
       "      <td>NaN</td>\n",
       "    </tr>\n",
       "    <tr>\n",
       "      <th>freq</th>\n",
       "      <td>3</td>\n",
       "      <td>NaN</td>\n",
       "      <td>11</td>\n",
       "      <td>100</td>\n",
       "      <td>79</td>\n",
       "      <td>10</td>\n",
       "      <td>NaN</td>\n",
       "    </tr>\n",
       "    <tr>\n",
       "      <th>mean</th>\n",
       "      <td>NaN</td>\n",
       "      <td>2.966339e+09</td>\n",
       "      <td>NaN</td>\n",
       "      <td>NaN</td>\n",
       "      <td>NaN</td>\n",
       "      <td>NaN</td>\n",
       "      <td>109 days 15:03:31.764705</td>\n",
       "    </tr>\n",
       "    <tr>\n",
       "      <th>std</th>\n",
       "      <td>NaN</td>\n",
       "      <td>2.793855e+08</td>\n",
       "      <td>NaN</td>\n",
       "      <td>NaN</td>\n",
       "      <td>NaN</td>\n",
       "      <td>NaN</td>\n",
       "      <td>159 days 09:21:50.654675</td>\n",
       "    </tr>\n",
       "    <tr>\n",
       "      <th>min</th>\n",
       "      <td>NaN</td>\n",
       "      <td>1.000527e+09</td>\n",
       "      <td>NaN</td>\n",
       "      <td>NaN</td>\n",
       "      <td>NaN</td>\n",
       "      <td>NaN</td>\n",
       "      <td>0 days 00:00:00</td>\n",
       "    </tr>\n",
       "    <tr>\n",
       "      <th>25%</th>\n",
       "      <td>NaN</td>\n",
       "      <td>3.003910e+09</td>\n",
       "      <td>NaN</td>\n",
       "      <td>NaN</td>\n",
       "      <td>NaN</td>\n",
       "      <td>NaN</td>\n",
       "      <td>13 days 06:00:00</td>\n",
       "    </tr>\n",
       "    <tr>\n",
       "      <th>50%</th>\n",
       "      <td>NaN</td>\n",
       "      <td>3.004850e+09</td>\n",
       "      <td>NaN</td>\n",
       "      <td>NaN</td>\n",
       "      <td>NaN</td>\n",
       "      <td>NaN</td>\n",
       "      <td>32 days 00:00:00</td>\n",
       "    </tr>\n",
       "    <tr>\n",
       "      <th>75%</th>\n",
       "      <td>NaN</td>\n",
       "      <td>3.006644e+09</td>\n",
       "      <td>NaN</td>\n",
       "      <td>NaN</td>\n",
       "      <td>NaN</td>\n",
       "      <td>NaN</td>\n",
       "      <td>123 days 18:00:00</td>\n",
       "    </tr>\n",
       "    <tr>\n",
       "      <th>max</th>\n",
       "      <td>NaN</td>\n",
       "      <td>3.013713e+09</td>\n",
       "      <td>NaN</td>\n",
       "      <td>NaN</td>\n",
       "      <td>NaN</td>\n",
       "      <td>NaN</td>\n",
       "      <td>712 days 00:00:00</td>\n",
       "    </tr>\n",
       "  </tbody>\n",
       "</table>\n",
       "</div>"
      ],
      "text/plain": [
       "       Record Date    FEI Number                Firm Name Record Type Country  \\\n",
       "count          102  1.020000e+02                      102         102     102   \n",
       "unique          87           NaN                       50           2      14   \n",
       "top     2017-04-28           NaN  Dr. Reddys Laboratories         483   India   \n",
       "freq             3           NaN                       11         100      79   \n",
       "mean           NaN  2.966339e+09                      NaN         NaN     NaN   \n",
       "std            NaN  2.793855e+08                      NaN         NaN     NaN   \n",
       "min            NaN  1.000527e+09                      NaN         NaN     NaN   \n",
       "25%            NaN  3.003910e+09                      NaN         NaN     NaN   \n",
       "50%            NaN  3.004850e+09                      NaN         NaN     NaN   \n",
       "75%            NaN  3.006644e+09                      NaN         NaN     NaN   \n",
       "max            NaN  3.013713e+09                      NaN         NaN     NaN   \n",
       "\n",
       "       Date Posted              Days between  \n",
       "count          102                       102  \n",
       "unique          73                       NaN  \n",
       "top     2016-11-29                       NaN  \n",
       "freq            10                       NaN  \n",
       "mean           NaN  109 days 15:03:31.764705  \n",
       "std            NaN  159 days 09:21:50.654675  \n",
       "min            NaN           0 days 00:00:00  \n",
       "25%            NaN          13 days 06:00:00  \n",
       "50%            NaN          32 days 00:00:00  \n",
       "75%            NaN         123 days 18:00:00  \n",
       "max            NaN         712 days 00:00:00  "
      ]
     },
     "execution_count": 5,
     "metadata": {},
     "output_type": "execute_result"
    }
   ],
   "source": [
    "df.describe(include=\"all\")"
   ]
  },
  {
   "cell_type": "code",
   "execution_count": 6,
   "metadata": {},
   "outputs": [
    {
     "data": {
      "text/html": [
       "<div>\n",
       "<style scoped>\n",
       "    .dataframe tbody tr th:only-of-type {\n",
       "        vertical-align: middle;\n",
       "    }\n",
       "\n",
       "    .dataframe tbody tr th {\n",
       "        vertical-align: top;\n",
       "    }\n",
       "\n",
       "    .dataframe thead th {\n",
       "        text-align: right;\n",
       "    }\n",
       "</style>\n",
       "<table border=\"1\" class=\"dataframe\">\n",
       "  <thead>\n",
       "    <tr style=\"text-align: right;\">\n",
       "      <th></th>\n",
       "      <th>Record Date</th>\n",
       "      <th>FEI Number</th>\n",
       "      <th>Firm Name</th>\n",
       "      <th>Record Type</th>\n",
       "      <th>Country</th>\n",
       "      <th>Date Posted</th>\n",
       "      <th>Days between</th>\n",
       "    </tr>\n",
       "  </thead>\n",
       "  <tbody>\n",
       "    <tr>\n",
       "      <th>0</th>\n",
       "      <td>2017-04-07</td>\n",
       "      <td>3.003981e+09</td>\n",
       "      <td>Dr. Reddys Laboratories</td>\n",
       "      <td>483</td>\n",
       "      <td>India</td>\n",
       "      <td>2016-11-29</td>\n",
       "      <td>13 days</td>\n",
       "    </tr>\n",
       "    <tr>\n",
       "      <th>1</th>\n",
       "      <td>2017-04-28</td>\n",
       "      <td>3.008462e+09</td>\n",
       "      <td>NaN</td>\n",
       "      <td>NaN</td>\n",
       "      <td>NaN</td>\n",
       "      <td>NaN</td>\n",
       "      <td>NaT</td>\n",
       "    </tr>\n",
       "    <tr>\n",
       "      <th>2</th>\n",
       "      <td>2017-06-02</td>\n",
       "      <td>NaN</td>\n",
       "      <td>NaN</td>\n",
       "      <td>NaN</td>\n",
       "      <td>NaN</td>\n",
       "      <td>NaN</td>\n",
       "      <td>NaT</td>\n",
       "    </tr>\n",
       "  </tbody>\n",
       "</table>\n",
       "</div>"
      ],
      "text/plain": [
       "  Record Date    FEI Number                Firm Name Record Type Country  \\\n",
       "0  2017-04-07  3.003981e+09  Dr. Reddys Laboratories         483   India   \n",
       "1  2017-04-28  3.008462e+09                      NaN         NaN     NaN   \n",
       "2  2017-06-02           NaN                      NaN         NaN     NaN   \n",
       "\n",
       "  Date Posted Days between  \n",
       "0  2016-11-29      13 days  \n",
       "1         NaN          NaT  \n",
       "2         NaN          NaT  "
      ]
     },
     "execution_count": 6,
     "metadata": {},
     "output_type": "execute_result"
    }
   ],
   "source": [
    "df.mode()"
   ]
  },
  {
   "cell_type": "code",
   "execution_count": 7,
   "metadata": {},
   "outputs": [
    {
     "data": {
      "text/plain": [
       "Dr. Reddys Laboratories                              11\n",
       "Lupin Limited                                         9\n",
       "Aurobindo Pharma                                      8\n",
       "Sun Pharmaceutical Industries                         6\n",
       "Biocon                                                5\n",
       "Cipla                                                 4\n",
       "Alkem Laboratories                                    3\n",
       "Indoco Remedies                                       3\n",
       "Celltrion Inc.                                        3\n",
       "Zhejiang Huahai Pharmaceutical Co. Ltd.               3\n",
       "Claris Injectables                                    2\n",
       "Alembic Pharmaceuticals                               2\n",
       "Akorn AG                                              2\n",
       "Galaxy Surfactants Ltd.                               2\n",
       "Shilpa Medicare                                       2\n",
       "Glenmark Pharmaceuticals Ltd.                         2\n",
       "Divis Laboratories                                    2\n",
       "Auronext Pharma                                       1\n",
       "Bayer AG Pharma                                       1\n",
       "Wockhardt Limited                                     1\n",
       "Zhejiang Bangli Medical Products Co                   1\n",
       "Cadila Healthcare Limited                             1\n",
       "Mylan Laboratories Ltd.                               1\n",
       "Granules                                              1\n",
       "Marksans Pharma Ltd.                                  1\n",
       "Cook Pharmica LLC                                     1\n",
       "Hetero Labs Limited                                   1\n",
       "Zhejiang Medicine Co.                                 1\n",
       "Liva Pharmaceuticals Ltd.                             1\n",
       "Badrivishal Chemicals & Pharmaceuticals               1\n",
       "Dishman Carbogen Amcis Ltd.                           1\n",
       "Teva Pharmaceutical Works Private Limited Company     1\n",
       "Strides Pharma Science Ltd.                           1\n",
       "Sanofi Winthrop Industrie                             1\n",
       "CP Pharmaceuticals                                    1\n",
       "Hetero Drugs Ltd. Unit 1                              1\n",
       "Natco Pharma Limited                                  1\n",
       "Hospira Healthcare India                              1\n",
       "Torrent Pharmaceuticals Limited                       1\n",
       "Daewoong Pharmaceutical Co. Ltd.                      1\n",
       "Immunomedics                                          1\n",
       "Gadea Biopharma S.L.                                  1\n",
       "Suven Life Sciences Ltd.                              1\n",
       "Yuki Gosei Kogyo Co. Ltd.                             1\n",
       "Sekisui Medical                                       1\n",
       "Intas Pharmaceuticals                                 1\n",
       "Cosma SpA                                             1\n",
       "Strides Shasun Limited                                1\n",
       "Sun Pharmaceutical Medicare                           1\n",
       "Unichem Laboratories Ltd.                             1\n",
       "Name: Firm Name, dtype: int64"
      ]
     },
     "execution_count": 7,
     "metadata": {},
     "output_type": "execute_result"
    }
   ],
   "source": [
    "df['Firm Name'].value_counts() # count unique values in a column"
   ]
  },
  {
   "cell_type": "code",
   "execution_count": 8,
   "metadata": {},
   "outputs": [
    {
     "data": {
      "text/plain": [
       "<matplotlib.axes._subplots.AxesSubplot at 0x1f27c7e400>"
      ]
     },
     "execution_count": 8,
     "metadata": {},
     "output_type": "execute_result"
    },
    {
     "data": {
      "image/png": "[encoded data removed]",
      "text/plain": [
       "<Figure size 432x288 with 1 Axes>"
      ]
     },
     "metadata": {
      "needs_background": "light"
     },
     "output_type": "display_data"
    }
   ],
   "source": [
    "df['Firm Name'].value_counts().head(10).plot.bar()"
   ]
  },
  {
   "cell_type": "code",
   "execution_count": 9,
   "metadata": {},
   "outputs": [
    {
     "data": {
      "text/plain": [
       "India                79\n",
       "China                 5\n",
       "Republic of Korea     4\n",
       "Japan                 2\n",
       "Switzerland           2\n",
       "United Kingdom        2\n",
       "France                1\n",
       "Malaysia              1\n",
       "Italy                 1\n",
       "Hungary               1\n",
       "USA                   1\n",
       "United States         1\n",
       "Germany               1\n",
       "Leon, Spain           1\n",
       "Name: Country, dtype: int64"
      ]
     },
     "execution_count": 9,
     "metadata": {},
     "output_type": "execute_result"
    }
   ],
   "source": [
    "df['Country'].value_counts() # count unique values in a column"
   ]
  },
  {
   "cell_type": "code",
   "execution_count": 10,
   "metadata": {},
   "outputs": [
    {
     "data": {
      "text/plain": [
       "<matplotlib.axes._subplots.AxesSubplot at 0x1f27f692b0>"
      ]
     },
     "execution_count": 10,
     "metadata": {},
     "output_type": "execute_result"
    },
    {
     "data": {
      "image/png": "[encoded data removed]",
      "text/plain": [
       "<Figure size 432x288 with 1 Axes>"
      ]
     },
     "metadata": {
      "needs_background": "light"
     },
     "output_type": "display_data"
    }
   ],
   "source": [
    "df['Country'].value_counts().head(10).plot.bar()\n"
   ]
  },
  {
   "cell_type": "code",
   "execution_count": 11,
   "metadata": {},
   "outputs": [
    {
     "data": {
      "text/plain": [
       "<matplotlib.axes._subplots.AxesSubplot at 0x1f280253c8>"
      ]
     },
     "execution_count": 11,
     "metadata": {},
     "output_type": "execute_result"
    },
    {
     "data": {
      "image/png": "[encoded data removed]",
      "text/plain": [
       "<Figure size 1512x432 with 1 Axes>"
      ]
     },
     "metadata": {
      "needs_background": "light"
     },
     "output_type": "display_data"
    }
   ],
   "source": [
    "df['Days between'].value_counts().plot.bar(figsize=(21, 6))"
   ]
  },
  {
   "cell_type": "markdown",
   "metadata": {},
   "source": [
    "## China"
   ]
  },
  {
   "cell_type": "code",
   "execution_count": 12,
   "metadata": {},
   "outputs": [
    {
     "data": {
      "text/html": [
       "<div>\n",
       "<style scoped>\n",
       "    .dataframe tbody tr th:only-of-type {\n",
       "        vertical-align: middle;\n",
       "    }\n",
       "\n",
       "    .dataframe tbody tr th {\n",
       "        vertical-align: top;\n",
       "    }\n",
       "\n",
       "    .dataframe thead th {\n",
       "        text-align: right;\n",
       "    }\n",
       "</style>\n",
       "<table border=\"1\" class=\"dataframe\">\n",
       "  <thead>\n",
       "    <tr style=\"text-align: right;\">\n",
       "      <th></th>\n",
       "      <th>Record Date</th>\n",
       "      <th>FEI Number</th>\n",
       "      <th>Firm Name</th>\n",
       "      <th>Record Type</th>\n",
       "      <th>Country</th>\n",
       "      <th>Date Posted</th>\n",
       "      <th>Days between</th>\n",
       "    </tr>\n",
       "  </thead>\n",
       "  <tbody>\n",
       "    <tr>\n",
       "      <th>0</th>\n",
       "      <td>2015-06-18</td>\n",
       "      <td>3003631275</td>\n",
       "      <td>Zhejiang Medicine Co.</td>\n",
       "      <td>483</td>\n",
       "      <td>China</td>\n",
       "      <td>2016-12-15</td>\n",
       "      <td>546 days</td>\n",
       "    </tr>\n",
       "    <tr>\n",
       "      <th>12</th>\n",
       "      <td>2016-08-17</td>\n",
       "      <td>3010671506</td>\n",
       "      <td>Zhejiang Bangli Medical Products Co</td>\n",
       "      <td>483</td>\n",
       "      <td>China</td>\n",
       "      <td>2017-07-07</td>\n",
       "      <td>324 days</td>\n",
       "    </tr>\n",
       "    <tr>\n",
       "      <th>22</th>\n",
       "      <td>2016-11-18</td>\n",
       "      <td>3003999190</td>\n",
       "      <td>Zhejiang Huahai Pharmaceutical Co. Ltd.</td>\n",
       "      <td>483</td>\n",
       "      <td>China</td>\n",
       "      <td>2018-08-09</td>\n",
       "      <td>629 days</td>\n",
       "    </tr>\n",
       "    <tr>\n",
       "      <th>44</th>\n",
       "      <td>2017-05-19</td>\n",
       "      <td>3003885745</td>\n",
       "      <td>Zhejiang Huahai Pharmaceutical Co. Ltd.</td>\n",
       "      <td>483</td>\n",
       "      <td>China</td>\n",
       "      <td>2018-08-09</td>\n",
       "      <td>447 days</td>\n",
       "    </tr>\n",
       "    <tr>\n",
       "      <th>82</th>\n",
       "      <td>2018-08-03</td>\n",
       "      <td>3003885745</td>\n",
       "      <td>Zhejiang Huahai Pharmaceutical Co. Ltd.</td>\n",
       "      <td>483</td>\n",
       "      <td>China</td>\n",
       "      <td>2018-09-20</td>\n",
       "      <td>48 days</td>\n",
       "    </tr>\n",
       "  </tbody>\n",
       "</table>\n",
       "</div>"
      ],
      "text/plain": [
       "   Record Date  FEI Number                                Firm Name  \\\n",
       "0   2015-06-18  3003631275                    Zhejiang Medicine Co.   \n",
       "12  2016-08-17  3010671506      Zhejiang Bangli Medical Products Co   \n",
       "22  2016-11-18  3003999190  Zhejiang Huahai Pharmaceutical Co. Ltd.   \n",
       "44  2017-05-19  3003885745  Zhejiang Huahai Pharmaceutical Co. Ltd.   \n",
       "82  2018-08-03  3003885745  Zhejiang Huahai Pharmaceutical Co. Ltd.   \n",
       "\n",
       "   Record Type Country Date Posted Days between  \n",
       "0          483   China  2016-12-15     546 days  \n",
       "12         483   China  2017-07-07     324 days  \n",
       "22         483   China  2018-08-09     629 days  \n",
       "44         483   China  2018-08-09     447 days  \n",
       "82         483   China  2018-09-20      48 days  "
      ]
     },
     "execution_count": 12,
     "metadata": {},
     "output_type": "execute_result"
    }
   ],
   "source": [
    "Chinesse = df['Country'] == \"China\"\n",
    "dfc=df[Chinesse]\n",
    "dfc"
   ]
  },
  {
   "cell_type": "code",
   "execution_count": 13,
   "metadata": {},
   "outputs": [
    {
     "data": {
      "text/plain": [
       "3003885745    2\n",
       "3003999190    1\n",
       "3003631275    1\n",
       "3010671506    1\n",
       "Name: FEI Number, dtype: int64"
      ]
     },
     "execution_count": 13,
     "metadata": {},
     "output_type": "execute_result"
    }
   ],
   "source": [
    "dfc['FEI Number'].value_counts() # count unique values in a column"
   ]
  },
  {
   "cell_type": "markdown",
   "metadata": {},
   "source": [
    "## Republic of Korea"
   ]
  },
  {
   "cell_type": "code",
   "execution_count": 14,
   "metadata": {},
   "outputs": [
    {
     "data": {
      "text/html": [
       "<div>\n",
       "<style scoped>\n",
       "    .dataframe tbody tr th:only-of-type {\n",
       "        vertical-align: middle;\n",
       "    }\n",
       "\n",
       "    .dataframe tbody tr th {\n",
       "        vertical-align: top;\n",
       "    }\n",
       "\n",
       "    .dataframe thead th {\n",
       "        text-align: right;\n",
       "    }\n",
       "</style>\n",
       "<table border=\"1\" class=\"dataframe\">\n",
       "  <thead>\n",
       "    <tr style=\"text-align: right;\">\n",
       "      <th></th>\n",
       "      <th>Record Date</th>\n",
       "      <th>FEI Number</th>\n",
       "      <th>Firm Name</th>\n",
       "      <th>Record Type</th>\n",
       "      <th>Country</th>\n",
       "      <th>Date Posted</th>\n",
       "      <th>Days between</th>\n",
       "    </tr>\n",
       "  </thead>\n",
       "  <tbody>\n",
       "    <tr>\n",
       "      <th>47</th>\n",
       "      <td>2017-06-02</td>\n",
       "      <td>3005241015</td>\n",
       "      <td>Celltrion Inc.</td>\n",
       "      <td>483</td>\n",
       "      <td>Republic of Korea</td>\n",
       "      <td>2018-04-12</td>\n",
       "      <td>314 days</td>\n",
       "    </tr>\n",
       "    <tr>\n",
       "      <th>48</th>\n",
       "      <td>2017-06-02</td>\n",
       "      <td>3005241015</td>\n",
       "      <td>Celltrion Inc.</td>\n",
       "      <td>EIR</td>\n",
       "      <td>Republic of Korea</td>\n",
       "      <td>2018-03-30</td>\n",
       "      <td>301 days</td>\n",
       "    </tr>\n",
       "    <tr>\n",
       "      <th>58</th>\n",
       "      <td>2017-11-17</td>\n",
       "      <td>3012333115</td>\n",
       "      <td>Daewoong Pharmaceutical Co. Ltd.</td>\n",
       "      <td>483</td>\n",
       "      <td>Republic of Korea</td>\n",
       "      <td>2018-01-22</td>\n",
       "      <td>66 days</td>\n",
       "    </tr>\n",
       "    <tr>\n",
       "      <th>80</th>\n",
       "      <td>2018-07-17</td>\n",
       "      <td>3005241015</td>\n",
       "      <td>Celltrion Inc.</td>\n",
       "      <td>483</td>\n",
       "      <td>Republic of Korea</td>\n",
       "      <td>2018-08-06</td>\n",
       "      <td>20 days</td>\n",
       "    </tr>\n",
       "  </tbody>\n",
       "</table>\n",
       "</div>"
      ],
      "text/plain": [
       "   Record Date  FEI Number                         Firm Name Record Type  \\\n",
       "47  2017-06-02  3005241015                    Celltrion Inc.         483   \n",
       "48  2017-06-02  3005241015                    Celltrion Inc.         EIR   \n",
       "58  2017-11-17  3012333115  Daewoong Pharmaceutical Co. Ltd.         483   \n",
       "80  2018-07-17  3005241015                    Celltrion Inc.         483   \n",
       "\n",
       "              Country Date Posted Days between  \n",
       "47  Republic of Korea  2018-04-12     314 days  \n",
       "48  Republic of Korea  2018-03-30     301 days  \n",
       "58  Republic of Korea  2018-01-22      66 days  \n",
       "80  Republic of Korea  2018-08-06      20 days  "
      ]
     },
     "execution_count": 14,
     "metadata": {},
     "output_type": "execute_result"
    }
   ],
   "source": [
    "Korea = df['Country'] == \"Republic of Korea\"\n",
    "dfk=df[Korea]\n",
    "dfk"
   ]
  },
  {
   "cell_type": "code",
   "execution_count": 15,
   "metadata": {},
   "outputs": [
    {
     "data": {
      "text/plain": [
       "3005241015    3\n",
       "3012333115    1\n",
       "Name: FEI Number, dtype: int64"
      ]
     },
     "execution_count": 15,
     "metadata": {},
     "output_type": "execute_result"
    }
   ],
   "source": [
    "dfk['FEI Number'].value_counts() # count unique values in a column"
   ]
  },
  {
   "cell_type": "markdown",
   "metadata": {},
   "source": [
    "## Japan"
   ]
  },
  {
   "cell_type": "code",
   "execution_count": 16,
   "metadata": {},
   "outputs": [
    {
     "data": {
      "text/html": [
       "<div>\n",
       "<style scoped>\n",
       "    .dataframe tbody tr th:only-of-type {\n",
       "        vertical-align: middle;\n",
       "    }\n",
       "\n",
       "    .dataframe tbody tr th {\n",
       "        vertical-align: top;\n",
       "    }\n",
       "\n",
       "    .dataframe thead th {\n",
       "        text-align: right;\n",
       "    }\n",
       "</style>\n",
       "<table border=\"1\" class=\"dataframe\">\n",
       "  <thead>\n",
       "    <tr style=\"text-align: right;\">\n",
       "      <th></th>\n",
       "      <th>Record Date</th>\n",
       "      <th>FEI Number</th>\n",
       "      <th>Firm Name</th>\n",
       "      <th>Record Type</th>\n",
       "      <th>Country</th>\n",
       "      <th>Date Posted</th>\n",
       "      <th>Days between</th>\n",
       "    </tr>\n",
       "  </thead>\n",
       "  <tbody>\n",
       "    <tr>\n",
       "      <th>7</th>\n",
       "      <td>2016-06-17</td>\n",
       "      <td>3002806840</td>\n",
       "      <td>Sekisui Medical</td>\n",
       "      <td>483</td>\n",
       "      <td>Japan</td>\n",
       "      <td>2017-05-16</td>\n",
       "      <td>333 days</td>\n",
       "    </tr>\n",
       "    <tr>\n",
       "      <th>57</th>\n",
       "      <td>2017-11-17</td>\n",
       "      <td>3002808534</td>\n",
       "      <td>Yuki Gosei Kogyo Co. Ltd.</td>\n",
       "      <td>483</td>\n",
       "      <td>Japan</td>\n",
       "      <td>2018-09-10</td>\n",
       "      <td>297 days</td>\n",
       "    </tr>\n",
       "  </tbody>\n",
       "</table>\n",
       "</div>"
      ],
      "text/plain": [
       "   Record Date  FEI Number                  Firm Name Record Type Country  \\\n",
       "7   2016-06-17  3002806840            Sekisui Medical         483   Japan   \n",
       "57  2017-11-17  3002808534  Yuki Gosei Kogyo Co. Ltd.         483   Japan   \n",
       "\n",
       "   Date Posted Days between  \n",
       "7   2017-05-16     333 days  \n",
       "57  2018-09-10     297 days  "
      ]
     },
     "execution_count": 16,
     "metadata": {},
     "output_type": "execute_result"
    }
   ],
   "source": [
    "Japan= df['Country'] == \"Japan\"\n",
    "dfj=df[Japan]\n",
    "dfj"
   ]
  },
  {
   "cell_type": "code",
   "execution_count": 17,
   "metadata": {},
   "outputs": [
    {
     "data": {
      "text/plain": [
       "3002808534    1\n",
       "3002806840    1\n",
       "Name: FEI Number, dtype: int64"
      ]
     },
     "execution_count": 17,
     "metadata": {},
     "output_type": "execute_result"
    }
   ],
   "source": [
    "dfj['FEI Number'].value_counts() # count unique values in a column"
   ]
  },
  {
   "cell_type": "markdown",
   "metadata": {},
   "source": [
    "## Dr. Reddys Laboratories"
   ]
  },
  {
   "cell_type": "code",
   "execution_count": 18,
   "metadata": {},
   "outputs": [
    {
     "data": {
      "text/html": [
       "<div>\n",
       "<style scoped>\n",
       "    .dataframe tbody tr th:only-of-type {\n",
       "        vertical-align: middle;\n",
       "    }\n",
       "\n",
       "    .dataframe tbody tr th {\n",
       "        vertical-align: top;\n",
       "    }\n",
       "\n",
       "    .dataframe thead th {\n",
       "        text-align: right;\n",
       "    }\n",
       "</style>\n",
       "<table border=\"1\" class=\"dataframe\">\n",
       "  <thead>\n",
       "    <tr style=\"text-align: right;\">\n",
       "      <th></th>\n",
       "      <th>Record Date</th>\n",
       "      <th>FEI Number</th>\n",
       "      <th>Firm Name</th>\n",
       "      <th>Record Type</th>\n",
       "      <th>Country</th>\n",
       "      <th>Date Posted</th>\n",
       "      <th>Days between</th>\n",
       "    </tr>\n",
       "  </thead>\n",
       "  <tbody>\n",
       "    <tr>\n",
       "      <th>29</th>\n",
       "      <td>2017-02-21</td>\n",
       "      <td>3005447965</td>\n",
       "      <td>Dr. Reddys Laboratories</td>\n",
       "      <td>483</td>\n",
       "      <td>India</td>\n",
       "      <td>2017-02-21</td>\n",
       "      <td>0 days</td>\n",
       "    </tr>\n",
       "    <tr>\n",
       "      <th>31</th>\n",
       "      <td>2017-03-08</td>\n",
       "      <td>3006549835</td>\n",
       "      <td>Dr. Reddys Laboratories</td>\n",
       "      <td>EIR</td>\n",
       "      <td>India</td>\n",
       "      <td>2018-01-03</td>\n",
       "      <td>301 days</td>\n",
       "    </tr>\n",
       "    <tr>\n",
       "      <th>32</th>\n",
       "      <td>2017-03-08</td>\n",
       "      <td>3005430968</td>\n",
       "      <td>Dr. Reddys Laboratories</td>\n",
       "      <td>483</td>\n",
       "      <td>India</td>\n",
       "      <td>2017-03-21</td>\n",
       "      <td>13 days</td>\n",
       "    </tr>\n",
       "    <tr>\n",
       "      <th>34</th>\n",
       "      <td>2017-04-04</td>\n",
       "      <td>3002949085</td>\n",
       "      <td>Dr. Reddys Laboratories</td>\n",
       "      <td>483</td>\n",
       "      <td>India</td>\n",
       "      <td>2017-04-25</td>\n",
       "      <td>21 days</td>\n",
       "    </tr>\n",
       "    <tr>\n",
       "      <th>42</th>\n",
       "      <td>2017-04-28</td>\n",
       "      <td>3002949099</td>\n",
       "      <td>Dr. Reddys Laboratories</td>\n",
       "      <td>483</td>\n",
       "      <td>India</td>\n",
       "      <td>2017-05-04</td>\n",
       "      <td>6 days</td>\n",
       "    </tr>\n",
       "    <tr>\n",
       "      <th>51</th>\n",
       "      <td>2017-06-16</td>\n",
       "      <td>3009193040</td>\n",
       "      <td>Dr. Reddys Laboratories</td>\n",
       "      <td>483</td>\n",
       "      <td>India</td>\n",
       "      <td>2017-06-29</td>\n",
       "      <td>13 days</td>\n",
       "    </tr>\n",
       "    <tr>\n",
       "      <th>54</th>\n",
       "      <td>2017-09-15</td>\n",
       "      <td>3002807544</td>\n",
       "      <td>Dr. Reddys Laboratories</td>\n",
       "      <td>483</td>\n",
       "      <td>United Kingdom</td>\n",
       "      <td>2017-09-26</td>\n",
       "      <td>11 days</td>\n",
       "    </tr>\n",
       "    <tr>\n",
       "      <th>70</th>\n",
       "      <td>2018-03-09</td>\n",
       "      <td>3003184497</td>\n",
       "      <td>Dr. Reddys Laboratories</td>\n",
       "      <td>483</td>\n",
       "      <td>India</td>\n",
       "      <td>2018-03-21</td>\n",
       "      <td>12 days</td>\n",
       "    </tr>\n",
       "    <tr>\n",
       "      <th>92</th>\n",
       "      <td>2018-10-30</td>\n",
       "      <td>3006549835</td>\n",
       "      <td>Dr. Reddys Laboratories</td>\n",
       "      <td>483</td>\n",
       "      <td>India</td>\n",
       "      <td>2018-11-14</td>\n",
       "      <td>15 days</td>\n",
       "    </tr>\n",
       "    <tr>\n",
       "      <th>95</th>\n",
       "      <td>2019-01-15</td>\n",
       "      <td>3009193040</td>\n",
       "      <td>Dr. Reddys Laboratories</td>\n",
       "      <td>483</td>\n",
       "      <td>India</td>\n",
       "      <td>2019-02-26</td>\n",
       "      <td>42 days</td>\n",
       "    </tr>\n",
       "    <tr>\n",
       "      <th>100</th>\n",
       "      <td>2019-02-08</td>\n",
       "      <td>3002949099</td>\n",
       "      <td>Dr. Reddys Laboratories</td>\n",
       "      <td>483</td>\n",
       "      <td>India</td>\n",
       "      <td>2019-02-19</td>\n",
       "      <td>11 days</td>\n",
       "    </tr>\n",
       "  </tbody>\n",
       "</table>\n",
       "</div>"
      ],
      "text/plain": [
       "    Record Date  FEI Number                Firm Name Record Type  \\\n",
       "29   2017-02-21  3005447965  Dr. Reddys Laboratories         483   \n",
       "31   2017-03-08  3006549835  Dr. Reddys Laboratories         EIR   \n",
       "32   2017-03-08  3005430968  Dr. Reddys Laboratories         483   \n",
       "34   2017-04-04  3002949085  Dr. Reddys Laboratories         483   \n",
       "42   2017-04-28  3002949099  Dr. Reddys Laboratories         483   \n",
       "51   2017-06-16  3009193040  Dr. Reddys Laboratories         483   \n",
       "54   2017-09-15  3002807544  Dr. Reddys Laboratories         483   \n",
       "70   2018-03-09  3003184497  Dr. Reddys Laboratories         483   \n",
       "92   2018-10-30  3006549835  Dr. Reddys Laboratories         483   \n",
       "95   2019-01-15  3009193040  Dr. Reddys Laboratories         483   \n",
       "100  2019-02-08  3002949099  Dr. Reddys Laboratories         483   \n",
       "\n",
       "            Country Date Posted Days between  \n",
       "29            India  2017-02-21       0 days  \n",
       "31            India  2018-01-03     301 days  \n",
       "32            India  2017-03-21      13 days  \n",
       "34            India  2017-04-25      21 days  \n",
       "42            India  2017-05-04       6 days  \n",
       "51            India  2017-06-29      13 days  \n",
       "54   United Kingdom  2017-09-26      11 days  \n",
       "70            India  2018-03-21      12 days  \n",
       "92            India  2018-11-14      15 days  \n",
       "95            India  2019-02-26      42 days  \n",
       "100           India  2019-02-19      11 days  "
      ]
     },
     "execution_count": 18,
     "metadata": {},
     "output_type": "execute_result"
    }
   ],
   "source": [
    "DrReddys= df['Firm Name'] == \"Dr. Reddys Laboratories\"\n",
    "dfd=df[DrReddys]\n",
    "dfd"
   ]
  },
  {
   "cell_type": "code",
   "execution_count": 19,
   "metadata": {},
   "outputs": [
    {
     "data": {
      "text/plain": [
       "3006549835    2\n",
       "3009193040    2\n",
       "3002949099    2\n",
       "3005447965    1\n",
       "3005430968    1\n",
       "3002807544    1\n",
       "3003184497    1\n",
       "3002949085    1\n",
       "Name: FEI Number, dtype: int64"
      ]
     },
     "execution_count": 19,
     "metadata": {},
     "output_type": "execute_result"
    }
   ],
   "source": [
    "dfd['FEI Number'].value_counts() # count unique values in a column"
   ]
  },
  {
   "cell_type": "markdown",
   "metadata": {},
   "source": [
    "## Lupin Limited"
   ]
  },
  {
   "cell_type": "code",
   "execution_count": 20,
   "metadata": {},
   "outputs": [
    {
     "data": {
      "text/html": [
       "<div>\n",
       "<style scoped>\n",
       "    .dataframe tbody tr th:only-of-type {\n",
       "        vertical-align: middle;\n",
       "    }\n",
       "\n",
       "    .dataframe tbody tr th {\n",
       "        vertical-align: top;\n",
       "    }\n",
       "\n",
       "    .dataframe thead th {\n",
       "        text-align: right;\n",
       "    }\n",
       "</style>\n",
       "<table border=\"1\" class=\"dataframe\">\n",
       "  <thead>\n",
       "    <tr style=\"text-align: right;\">\n",
       "      <th></th>\n",
       "      <th>Record Date</th>\n",
       "      <th>FEI Number</th>\n",
       "      <th>Firm Name</th>\n",
       "      <th>Record Type</th>\n",
       "      <th>Country</th>\n",
       "      <th>Date Posted</th>\n",
       "      <th>Days between</th>\n",
       "    </tr>\n",
       "  </thead>\n",
       "  <tbody>\n",
       "    <tr>\n",
       "      <th>9</th>\n",
       "      <td>2016-07-06</td>\n",
       "      <td>3005906909</td>\n",
       "      <td>Lupin Limited</td>\n",
       "      <td>483</td>\n",
       "      <td>India</td>\n",
       "      <td>2016-11-29</td>\n",
       "      <td>146 days</td>\n",
       "    </tr>\n",
       "    <tr>\n",
       "      <th>10</th>\n",
       "      <td>2016-07-17</td>\n",
       "      <td>3004819820</td>\n",
       "      <td>Lupin Limited</td>\n",
       "      <td>483</td>\n",
       "      <td>India</td>\n",
       "      <td>2016-11-29</td>\n",
       "      <td>135 days</td>\n",
       "    </tr>\n",
       "    <tr>\n",
       "      <th>36</th>\n",
       "      <td>2017-04-07</td>\n",
       "      <td>3004819820</td>\n",
       "      <td>Lupin Limited</td>\n",
       "      <td>483</td>\n",
       "      <td>India</td>\n",
       "      <td>2017-04-27</td>\n",
       "      <td>20 days</td>\n",
       "    </tr>\n",
       "    <tr>\n",
       "      <th>45</th>\n",
       "      <td>2017-05-19</td>\n",
       "      <td>3007549629</td>\n",
       "      <td>Lupin Limited</td>\n",
       "      <td>483</td>\n",
       "      <td>India</td>\n",
       "      <td>2017-06-02</td>\n",
       "      <td>14 days</td>\n",
       "    </tr>\n",
       "    <tr>\n",
       "      <th>50</th>\n",
       "      <td>2017-06-16</td>\n",
       "      <td>3009107538</td>\n",
       "      <td>Lupin Limited</td>\n",
       "      <td>483</td>\n",
       "      <td>India</td>\n",
       "      <td>2017-06-29</td>\n",
       "      <td>13 days</td>\n",
       "    </tr>\n",
       "    <tr>\n",
       "      <th>90</th>\n",
       "      <td>2018-10-18</td>\n",
       "      <td>3009107538</td>\n",
       "      <td>Lupin Limited</td>\n",
       "      <td>483</td>\n",
       "      <td>India</td>\n",
       "      <td>2018-11-05</td>\n",
       "      <td>18 days</td>\n",
       "    </tr>\n",
       "    <tr>\n",
       "      <th>93</th>\n",
       "      <td>2018-11-26</td>\n",
       "      <td>3002807511</td>\n",
       "      <td>Lupin Limited</td>\n",
       "      <td>483</td>\n",
       "      <td>India</td>\n",
       "      <td>2018-12-04</td>\n",
       "      <td>8 days</td>\n",
       "    </tr>\n",
       "    <tr>\n",
       "      <th>97</th>\n",
       "      <td>2019-01-25</td>\n",
       "      <td>3007549629</td>\n",
       "      <td>Lupin Limited</td>\n",
       "      <td>483</td>\n",
       "      <td>India</td>\n",
       "      <td>2019-02-08</td>\n",
       "      <td>14 days</td>\n",
       "    </tr>\n",
       "    <tr>\n",
       "      <th>99</th>\n",
       "      <td>2019-02-08</td>\n",
       "      <td>3004819820</td>\n",
       "      <td>Lupin Limited</td>\n",
       "      <td>483</td>\n",
       "      <td>India</td>\n",
       "      <td>2019-02-19</td>\n",
       "      <td>11 days</td>\n",
       "    </tr>\n",
       "  </tbody>\n",
       "</table>\n",
       "</div>"
      ],
      "text/plain": [
       "   Record Date  FEI Number      Firm Name Record Type Country Date Posted  \\\n",
       "9   2016-07-06  3005906909  Lupin Limited         483   India  2016-11-29   \n",
       "10  2016-07-17  3004819820  Lupin Limited         483   India  2016-11-29   \n",
       "36  2017-04-07  3004819820  Lupin Limited         483   India  2017-04-27   \n",
       "45  2017-05-19  3007549629  Lupin Limited         483   India  2017-06-02   \n",
       "50  2017-06-16  3009107538  Lupin Limited         483   India  2017-06-29   \n",
       "90  2018-10-18  3009107538  Lupin Limited         483   India  2018-11-05   \n",
       "93  2018-11-26  3002807511  Lupin Limited         483   India  2018-12-04   \n",
       "97  2019-01-25  3007549629  Lupin Limited         483   India  2019-02-08   \n",
       "99  2019-02-08  3004819820  Lupin Limited         483   India  2019-02-19   \n",
       "\n",
       "   Days between  \n",
       "9      146 days  \n",
       "10     135 days  \n",
       "36      20 days  \n",
       "45      14 days  \n",
       "50      13 days  \n",
       "90      18 days  \n",
       "93       8 days  \n",
       "97      14 days  \n",
       "99      11 days  "
      ]
     },
     "execution_count": 20,
     "metadata": {},
     "output_type": "execute_result"
    }
   ],
   "source": [
    "Lupin= df['Firm Name'] == \"Lupin Limited\"\n",
    "dfl=df[Lupin]\n",
    "dfl"
   ]
  },
  {
   "cell_type": "code",
   "execution_count": 21,
   "metadata": {},
   "outputs": [
    {
     "data": {
      "text/plain": [
       "3004819820    3\n",
       "3007549629    2\n",
       "3009107538    2\n",
       "3005906909    1\n",
       "3002807511    1\n",
       "Name: FEI Number, dtype: int64"
      ]
     },
     "execution_count": 21,
     "metadata": {},
     "output_type": "execute_result"
    }
   ],
   "source": [
    "dfl['FEI Number'].value_counts() # count unique values in a column"
   ]
  },
  {
   "cell_type": "markdown",
   "metadata": {},
   "source": [
    "## Aurobindo Pharma"
   ]
  },
  {
   "cell_type": "code",
   "execution_count": 22,
   "metadata": {},
   "outputs": [
    {
     "data": {
      "text/html": [
       "<div>\n",
       "<style scoped>\n",
       "    .dataframe tbody tr th:only-of-type {\n",
       "        vertical-align: middle;\n",
       "    }\n",
       "\n",
       "    .dataframe tbody tr th {\n",
       "        vertical-align: top;\n",
       "    }\n",
       "\n",
       "    .dataframe thead th {\n",
       "        text-align: right;\n",
       "    }\n",
       "</style>\n",
       "<table border=\"1\" class=\"dataframe\">\n",
       "  <thead>\n",
       "    <tr style=\"text-align: right;\">\n",
       "      <th></th>\n",
       "      <th>Record Date</th>\n",
       "      <th>FEI Number</th>\n",
       "      <th>Firm Name</th>\n",
       "      <th>Record Type</th>\n",
       "      <th>Country</th>\n",
       "      <th>Date Posted</th>\n",
       "      <th>Days between</th>\n",
       "    </tr>\n",
       "  </thead>\n",
       "  <tbody>\n",
       "    <tr>\n",
       "      <th>8</th>\n",
       "      <td>2016-07-01</td>\n",
       "      <td>3004086884</td>\n",
       "      <td>Aurobindo Pharma</td>\n",
       "      <td>483</td>\n",
       "      <td>India</td>\n",
       "      <td>2017-05-11</td>\n",
       "      <td>314 days</td>\n",
       "    </tr>\n",
       "    <tr>\n",
       "      <th>18</th>\n",
       "      <td>2016-09-16</td>\n",
       "      <td>3008461619</td>\n",
       "      <td>Aurobindo Pharma</td>\n",
       "      <td>483</td>\n",
       "      <td>India</td>\n",
       "      <td>2016-12-15</td>\n",
       "      <td>90 days</td>\n",
       "    </tr>\n",
       "    <tr>\n",
       "      <th>20</th>\n",
       "      <td>2016-10-25</td>\n",
       "      <td>3004021253</td>\n",
       "      <td>Aurobindo Pharma</td>\n",
       "      <td>483</td>\n",
       "      <td>India</td>\n",
       "      <td>2017-01-06</td>\n",
       "      <td>73 days</td>\n",
       "    </tr>\n",
       "    <tr>\n",
       "      <th>39</th>\n",
       "      <td>2017-04-18</td>\n",
       "      <td>3004021229</td>\n",
       "      <td>Aurobindo Pharma</td>\n",
       "      <td>483</td>\n",
       "      <td>India</td>\n",
       "      <td>2017-05-02</td>\n",
       "      <td>14 days</td>\n",
       "    </tr>\n",
       "    <tr>\n",
       "      <th>41</th>\n",
       "      <td>2017-04-28</td>\n",
       "      <td>3008461619</td>\n",
       "      <td>Aurobindo Pharma</td>\n",
       "      <td>483</td>\n",
       "      <td>India</td>\n",
       "      <td>2017-05-08</td>\n",
       "      <td>10 days</td>\n",
       "    </tr>\n",
       "    <tr>\n",
       "      <th>53</th>\n",
       "      <td>2017-09-01</td>\n",
       "      <td>3004021263</td>\n",
       "      <td>Aurobindo Pharma</td>\n",
       "      <td>483</td>\n",
       "      <td>India</td>\n",
       "      <td>2017-09-26</td>\n",
       "      <td>25 days</td>\n",
       "    </tr>\n",
       "    <tr>\n",
       "      <th>66</th>\n",
       "      <td>2018-02-20</td>\n",
       "      <td>3008461619</td>\n",
       "      <td>Aurobindo Pharma</td>\n",
       "      <td>483</td>\n",
       "      <td>India</td>\n",
       "      <td>2018-03-06</td>\n",
       "      <td>14 days</td>\n",
       "    </tr>\n",
       "    <tr>\n",
       "      <th>94</th>\n",
       "      <td>2018-12-14</td>\n",
       "      <td>3008461619</td>\n",
       "      <td>Aurobindo Pharma</td>\n",
       "      <td>483</td>\n",
       "      <td>India</td>\n",
       "      <td>2019-02-25</td>\n",
       "      <td>73 days</td>\n",
       "    </tr>\n",
       "  </tbody>\n",
       "</table>\n",
       "</div>"
      ],
      "text/plain": [
       "   Record Date  FEI Number         Firm Name Record Type Country Date Posted  \\\n",
       "8   2016-07-01  3004086884  Aurobindo Pharma         483   India  2017-05-11   \n",
       "18  2016-09-16  3008461619  Aurobindo Pharma         483   India  2016-12-15   \n",
       "20  2016-10-25  3004021253  Aurobindo Pharma         483   India  2017-01-06   \n",
       "39  2017-04-18  3004021229  Aurobindo Pharma         483   India  2017-05-02   \n",
       "41  2017-04-28  3008461619  Aurobindo Pharma         483   India  2017-05-08   \n",
       "53  2017-09-01  3004021263  Aurobindo Pharma         483   India  2017-09-26   \n",
       "66  2018-02-20  3008461619  Aurobindo Pharma         483   India  2018-03-06   \n",
       "94  2018-12-14  3008461619  Aurobindo Pharma         483   India  2019-02-25   \n",
       "\n",
       "   Days between  \n",
       "8      314 days  \n",
       "18      90 days  \n",
       "20      73 days  \n",
       "39      14 days  \n",
       "41      10 days  \n",
       "53      25 days  \n",
       "66      14 days  \n",
       "94      73 days  "
      ]
     },
     "execution_count": 22,
     "metadata": {},
     "output_type": "execute_result"
    }
   ],
   "source": [
    "Aurobindo = df['Firm Name'] == \"Aurobindo Pharma\"\n",
    "dfa=df[Aurobindo]\n",
    "dfa"
   ]
  },
  {
   "cell_type": "code",
   "execution_count": 23,
   "metadata": {},
   "outputs": [
    {
     "data": {
      "text/plain": [
       "3008461619    4\n",
       "3004021263    1\n",
       "3004021253    1\n",
       "3004086884    1\n",
       "3004021229    1\n",
       "Name: FEI Number, dtype: int64"
      ]
     },
     "execution_count": 23,
     "metadata": {},
     "output_type": "execute_result"
    }
   ],
   "source": [
    "dfa['FEI Number'].value_counts() # count unique values in a column"
   ]
  },
  {
   "cell_type": "markdown",
   "metadata": {},
   "source": [
    "## Sun Pharmaceutical Industries"
   ]
  },
  {
   "cell_type": "code",
   "execution_count": 24,
   "metadata": {},
   "outputs": [
    {
     "data": {
      "text/html": [
       "<div>\n",
       "<style scoped>\n",
       "    .dataframe tbody tr th:only-of-type {\n",
       "        vertical-align: middle;\n",
       "    }\n",
       "\n",
       "    .dataframe tbody tr th {\n",
       "        vertical-align: top;\n",
       "    }\n",
       "\n",
       "    .dataframe thead th {\n",
       "        text-align: right;\n",
       "    }\n",
       "</style>\n",
       "<table border=\"1\" class=\"dataframe\">\n",
       "  <thead>\n",
       "    <tr style=\"text-align: right;\">\n",
       "      <th></th>\n",
       "      <th>Record Date</th>\n",
       "      <th>FEI Number</th>\n",
       "      <th>Firm Name</th>\n",
       "      <th>Record Type</th>\n",
       "      <th>Country</th>\n",
       "      <th>Date Posted</th>\n",
       "      <th>Days between</th>\n",
       "    </tr>\n",
       "  </thead>\n",
       "  <tbody>\n",
       "    <tr>\n",
       "      <th>21</th>\n",
       "      <td>2016-11-16</td>\n",
       "      <td>3002807979</td>\n",
       "      <td>Sun Pharmaceutical Industries</td>\n",
       "      <td>483</td>\n",
       "      <td>India</td>\n",
       "      <td>2016-11-29</td>\n",
       "      <td>13 days</td>\n",
       "    </tr>\n",
       "    <tr>\n",
       "      <th>23</th>\n",
       "      <td>2016-12-01</td>\n",
       "      <td>3002809586</td>\n",
       "      <td>Sun Pharmaceutical Industries</td>\n",
       "      <td>483</td>\n",
       "      <td>India</td>\n",
       "      <td>2016-12-13</td>\n",
       "      <td>12 days</td>\n",
       "    </tr>\n",
       "    <tr>\n",
       "      <th>38</th>\n",
       "      <td>2017-04-13</td>\n",
       "      <td>3004561553</td>\n",
       "      <td>Sun Pharmaceutical Industries</td>\n",
       "      <td>483</td>\n",
       "      <td>India</td>\n",
       "      <td>2017-04-21</td>\n",
       "      <td>8 days</td>\n",
       "    </tr>\n",
       "    <tr>\n",
       "      <th>67</th>\n",
       "      <td>2018-02-23</td>\n",
       "      <td>3002809586</td>\n",
       "      <td>Sun Pharmaceutical Industries</td>\n",
       "      <td>483</td>\n",
       "      <td>India</td>\n",
       "      <td>2018-03-06</td>\n",
       "      <td>11 days</td>\n",
       "    </tr>\n",
       "    <tr>\n",
       "      <th>86</th>\n",
       "      <td>2018-08-31</td>\n",
       "      <td>3002809586</td>\n",
       "      <td>Sun Pharmaceutical Industries</td>\n",
       "      <td>483</td>\n",
       "      <td>India</td>\n",
       "      <td>2018-09-10</td>\n",
       "      <td>10 days</td>\n",
       "    </tr>\n",
       "    <tr>\n",
       "      <th>87</th>\n",
       "      <td>2018-09-14</td>\n",
       "      <td>3002807979</td>\n",
       "      <td>Sun Pharmaceutical Industries</td>\n",
       "      <td>483</td>\n",
       "      <td>India</td>\n",
       "      <td>2018-09-24</td>\n",
       "      <td>10 days</td>\n",
       "    </tr>\n",
       "  </tbody>\n",
       "</table>\n",
       "</div>"
      ],
      "text/plain": [
       "   Record Date  FEI Number                      Firm Name Record Type Country  \\\n",
       "21  2016-11-16  3002807979  Sun Pharmaceutical Industries         483   India   \n",
       "23  2016-12-01  3002809586  Sun Pharmaceutical Industries         483   India   \n",
       "38  2017-04-13  3004561553  Sun Pharmaceutical Industries         483   India   \n",
       "67  2018-02-23  3002809586  Sun Pharmaceutical Industries         483   India   \n",
       "86  2018-08-31  3002809586  Sun Pharmaceutical Industries         483   India   \n",
       "87  2018-09-14  3002807979  Sun Pharmaceutical Industries         483   India   \n",
       "\n",
       "   Date Posted Days between  \n",
       "21  2016-11-29      13 days  \n",
       "23  2016-12-13      12 days  \n",
       "38  2017-04-21       8 days  \n",
       "67  2018-03-06      11 days  \n",
       "86  2018-09-10      10 days  \n",
       "87  2018-09-24      10 days  "
      ]
     },
     "execution_count": 24,
     "metadata": {},
     "output_type": "execute_result"
    }
   ],
   "source": [
    "Sun = df['Firm Name'] == \"Sun Pharmaceutical Industries\"\n",
    "dfs=df[Sun]\n",
    "dfs"
   ]
  },
  {
   "cell_type": "code",
   "execution_count": 25,
   "metadata": {},
   "outputs": [
    {
     "data": {
      "text/plain": [
       "3002809586    3\n",
       "3002807979    2\n",
       "3004561553    1\n",
       "Name: FEI Number, dtype: int64"
      ]
     },
     "execution_count": 25,
     "metadata": {},
     "output_type": "execute_result"
    }
   ],
   "source": [
    "dfs['FEI Number'].value_counts() # count unique values in a column"
   ]
  },
  {
   "cell_type": "markdown",
   "metadata": {},
   "source": [
    "## BIOCON"
   ]
  },
  {
   "cell_type": "code",
   "execution_count": 26,
   "metadata": {},
   "outputs": [
    {
     "data": {
      "text/html": [
       "<div>\n",
       "<style scoped>\n",
       "    .dataframe tbody tr th:only-of-type {\n",
       "        vertical-align: middle;\n",
       "    }\n",
       "\n",
       "    .dataframe tbody tr th {\n",
       "        vertical-align: top;\n",
       "    }\n",
       "\n",
       "    .dataframe thead th {\n",
       "        text-align: right;\n",
       "    }\n",
       "</style>\n",
       "<table border=\"1\" class=\"dataframe\">\n",
       "  <thead>\n",
       "    <tr style=\"text-align: right;\">\n",
       "      <th></th>\n",
       "      <th>Record Date</th>\n",
       "      <th>FEI Number</th>\n",
       "      <th>Firm Name</th>\n",
       "      <th>Record Type</th>\n",
       "      <th>Country</th>\n",
       "      <th>Date Posted</th>\n",
       "      <th>Days between</th>\n",
       "    </tr>\n",
       "  </thead>\n",
       "  <tbody>\n",
       "    <tr>\n",
       "      <th>35</th>\n",
       "      <td>2017-04-07</td>\n",
       "      <td>3003981475</td>\n",
       "      <td>Biocon</td>\n",
       "      <td>483</td>\n",
       "      <td>India</td>\n",
       "      <td>2017-05-09</td>\n",
       "      <td>32 days</td>\n",
       "    </tr>\n",
       "    <tr>\n",
       "      <th>49</th>\n",
       "      <td>2017-06-02</td>\n",
       "      <td>3003981475</td>\n",
       "      <td>Biocon</td>\n",
       "      <td>483</td>\n",
       "      <td>India</td>\n",
       "      <td>2017-08-03</td>\n",
       "      <td>62 days</td>\n",
       "    </tr>\n",
       "    <tr>\n",
       "      <th>65</th>\n",
       "      <td>2018-02-15</td>\n",
       "      <td>3011248248</td>\n",
       "      <td>Biocon</td>\n",
       "      <td>483</td>\n",
       "      <td>Malaysia</td>\n",
       "      <td>2018-03-12</td>\n",
       "      <td>25 days</td>\n",
       "    </tr>\n",
       "    <tr>\n",
       "      <th>78</th>\n",
       "      <td>2018-05-01</td>\n",
       "      <td>3003981475</td>\n",
       "      <td>Biocon</td>\n",
       "      <td>483</td>\n",
       "      <td>India</td>\n",
       "      <td>2018-05-17</td>\n",
       "      <td>16 days</td>\n",
       "    </tr>\n",
       "    <tr>\n",
       "      <th>101</th>\n",
       "      <td>2019-02-15</td>\n",
       "      <td>3003981475</td>\n",
       "      <td>Biocon</td>\n",
       "      <td>483</td>\n",
       "      <td>India</td>\n",
       "      <td>2019-03-12</td>\n",
       "      <td>25 days</td>\n",
       "    </tr>\n",
       "  </tbody>\n",
       "</table>\n",
       "</div>"
      ],
      "text/plain": [
       "    Record Date  FEI Number Firm Name Record Type   Country Date Posted  \\\n",
       "35   2017-04-07  3003981475    Biocon         483     India  2017-05-09   \n",
       "49   2017-06-02  3003981475    Biocon         483     India  2017-08-03   \n",
       "65   2018-02-15  3011248248    Biocon         483  Malaysia  2018-03-12   \n",
       "78   2018-05-01  3003981475    Biocon         483     India  2018-05-17   \n",
       "101  2019-02-15  3003981475    Biocon         483     India  2019-03-12   \n",
       "\n",
       "    Days between  \n",
       "35       32 days  \n",
       "49       62 days  \n",
       "65       25 days  \n",
       "78       16 days  \n",
       "101      25 days  "
      ]
     },
     "execution_count": 26,
     "metadata": {},
     "output_type": "execute_result"
    }
   ],
   "source": [
    "Biocon = df['Firm Name'] == \"Biocon\"\n",
    "dfb=df[Biocon]\n",
    "dfb"
   ]
  },
  {
   "cell_type": "code",
   "execution_count": 27,
   "metadata": {},
   "outputs": [
    {
     "data": {
      "text/plain": [
       "3003981475    4\n",
       "3011248248    1\n",
       "Name: FEI Number, dtype: int64"
      ]
     },
     "execution_count": 27,
     "metadata": {},
     "output_type": "execute_result"
    }
   ],
   "source": [
    "dfb['FEI Number'].value_counts() # count unique values in a column"
   ]
  },
  {
   "cell_type": "markdown",
   "metadata": {},
   "source": [
    "## Wockhardt"
   ]
  },
  {
   "cell_type": "code",
   "execution_count": 28,
   "metadata": {},
   "outputs": [
    {
     "data": {
      "text/html": [
       "<div>\n",
       "<style scoped>\n",
       "    .dataframe tbody tr th:only-of-type {\n",
       "        vertical-align: middle;\n",
       "    }\n",
       "\n",
       "    .dataframe tbody tr th {\n",
       "        vertical-align: top;\n",
       "    }\n",
       "\n",
       "    .dataframe thead th {\n",
       "        text-align: right;\n",
       "    }\n",
       "</style>\n",
       "<table border=\"1\" class=\"dataframe\">\n",
       "  <thead>\n",
       "    <tr style=\"text-align: right;\">\n",
       "      <th></th>\n",
       "      <th>Record Date</th>\n",
       "      <th>FEI Number</th>\n",
       "      <th>Firm Name</th>\n",
       "      <th>Record Type</th>\n",
       "      <th>Country</th>\n",
       "      <th>Date Posted</th>\n",
       "      <th>Days between</th>\n",
       "    </tr>\n",
       "  </thead>\n",
       "  <tbody>\n",
       "    <tr>\n",
       "      <th>2</th>\n",
       "      <td>2015-12-15</td>\n",
       "      <td>3002808500</td>\n",
       "      <td>Wockhardt Limited</td>\n",
       "      <td>483</td>\n",
       "      <td>India</td>\n",
       "      <td>2017-01-26</td>\n",
       "      <td>408 days</td>\n",
       "    </tr>\n",
       "  </tbody>\n",
       "</table>\n",
       "</div>"
      ],
      "text/plain": [
       "  Record Date  FEI Number          Firm Name Record Type Country Date Posted  \\\n",
       "2  2015-12-15  3002808500  Wockhardt Limited         483   India  2017-01-26   \n",
       "\n",
       "  Days between  \n",
       "2     408 days  "
      ]
     },
     "execution_count": 28,
     "metadata": {},
     "output_type": "execute_result"
    }
   ],
   "source": [
    "Wockhardt = df['Firm Name'] == \"Wockhardt Limited\"\n",
    "dfw=df[Wockhardt]\n",
    "dfw"
   ]
  },
  {
   "cell_type": "code",
   "execution_count": 29,
   "metadata": {},
   "outputs": [
    {
     "data": {
      "text/plain": [
       "3002808500    1\n",
       "Name: FEI Number, dtype: int64"
      ]
     },
     "execution_count": 29,
     "metadata": {},
     "output_type": "execute_result"
    }
   ],
   "source": [
    "dfw['FEI Number'].value_counts() # count unique values in a column"
   ]
  },
  {
   "cell_type": "markdown",
   "metadata": {},
   "source": [
    "## EIR"
   ]
  },
  {
   "cell_type": "code",
   "execution_count": 30,
   "metadata": {},
   "outputs": [
    {
     "data": {
      "text/plain": [
       "483    100\n",
       "EIR      2\n",
       "Name: Record Type, dtype: int64"
      ]
     },
     "execution_count": 30,
     "metadata": {},
     "output_type": "execute_result"
    }
   ],
   "source": [
    "df['Record Type'].value_counts() # count unique values in a column"
   ]
  },
  {
   "cell_type": "code",
   "execution_count": 31,
   "metadata": {},
   "outputs": [
    {
     "data": {
      "text/html": [
       "<div>\n",
       "<style scoped>\n",
       "    .dataframe tbody tr th:only-of-type {\n",
       "        vertical-align: middle;\n",
       "    }\n",
       "\n",
       "    .dataframe tbody tr th {\n",
       "        vertical-align: top;\n",
       "    }\n",
       "\n",
       "    .dataframe thead th {\n",
       "        text-align: right;\n",
       "    }\n",
       "</style>\n",
       "<table border=\"1\" class=\"dataframe\">\n",
       "  <thead>\n",
       "    <tr style=\"text-align: right;\">\n",
       "      <th></th>\n",
       "      <th>Record Date</th>\n",
       "      <th>FEI Number</th>\n",
       "      <th>Firm Name</th>\n",
       "      <th>Record Type</th>\n",
       "      <th>Country</th>\n",
       "      <th>Date Posted</th>\n",
       "      <th>Days between</th>\n",
       "    </tr>\n",
       "  </thead>\n",
       "  <tbody>\n",
       "    <tr>\n",
       "      <th>31</th>\n",
       "      <td>2017-03-08</td>\n",
       "      <td>3006549835</td>\n",
       "      <td>Dr. Reddys Laboratories</td>\n",
       "      <td>EIR</td>\n",
       "      <td>India</td>\n",
       "      <td>2018-01-03</td>\n",
       "      <td>301 days</td>\n",
       "    </tr>\n",
       "    <tr>\n",
       "      <th>48</th>\n",
       "      <td>2017-06-02</td>\n",
       "      <td>3005241015</td>\n",
       "      <td>Celltrion Inc.</td>\n",
       "      <td>EIR</td>\n",
       "      <td>Republic of Korea</td>\n",
       "      <td>2018-03-30</td>\n",
       "      <td>301 days</td>\n",
       "    </tr>\n",
       "  </tbody>\n",
       "</table>\n",
       "</div>"
      ],
      "text/plain": [
       "   Record Date  FEI Number                Firm Name Record Type  \\\n",
       "31  2017-03-08  3006549835  Dr. Reddys Laboratories         EIR   \n",
       "48  2017-06-02  3005241015           Celltrion Inc.         EIR   \n",
       "\n",
       "              Country Date Posted Days between  \n",
       "31              India  2018-01-03     301 days  \n",
       "48  Republic of Korea  2018-03-30     301 days  "
      ]
     },
     "execution_count": 31,
     "metadata": {},
     "output_type": "execute_result"
    }
   ],
   "source": [
    "eir=df['Record Type'] == 'EIR'\n",
    "df[eir]"
   ]
  },
  {
   "cell_type": "markdown",
   "metadata": {},
   "source": [
    "## Time elapsed between Record date and Posting date"
   ]
  },
  {
   "cell_type": "code",
   "execution_count": 32,
   "metadata": {},
   "outputs": [
    {
     "name": "stdout",
     "output_type": "stream",
     "text": [
      "3.0.2\n"
     ]
    },
    {
     "data": {
      "text/plain": [
       "[<matplotlib.lines.Line2D at 0x1f28497978>]"
      ]
     },
     "execution_count": 32,
     "metadata": {},
     "output_type": "execute_result"
    },
    {
     "data": {
      "image/png": "[encoded data removed]",
      "text/plain": [
       "<Figure size 2160x1440 with 1 Axes>"
      ]
     },
     "metadata": {
      "needs_background": "light"
     },
     "output_type": "display_data"
    }
   ],
   "source": [
    "import matplotlib\n",
    "import matplotlib.pyplot as plt\n",
    "import matplotlib.cm as cm\n",
    "%matplotlib inline\n",
    "print(matplotlib.__version__)\n",
    "x = df['Record Date']\n",
    "y = df['Days between']\n",
    "plt.rcParams['figure.figsize'] = (30, 20)\n",
    "plt.rcParams['font.size'] = '20'\n",
    "plt.title('Time elapsed between Record date and Posting date')\n",
    "plt.xlabel('Record date')\n",
    "plt.xticks(rotation = '75')\n",
    "plt.ylabel('Number of days (in hundred days)')\n",
    "plt.plot(x, y, linewidth = 4)"
   ]
  },
  {
   "cell_type": "code",
   "execution_count": null,
   "metadata": {},
   "outputs": [],
   "source": []
  }
 ],
 "metadata": {
  "kernelspec": {
   "display_name": "Python 3",
   "language": "python",
   "name": "python3"
  },
  "language_info": {
   "codemirror_mode": {
    "name": "ipython",
    "version": 3
   },
   "file_extension": ".py",
   "mimetype": "text/x-python",
   "name": "python",
   "nbconvert_exporter": "python",
   "pygments_lexer": "ipython3",
   "version": "3.7.1"
  }
 },
 "nbformat": 4,
 "nbformat_minor": 2
}
