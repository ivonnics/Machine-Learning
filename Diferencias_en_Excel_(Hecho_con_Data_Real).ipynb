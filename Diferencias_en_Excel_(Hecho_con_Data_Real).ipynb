{
  "nbformat": 4,
  "nbformat_minor": 0,
  "metadata": {
    "kernelspec": {
      "display_name": "Python 3",
      "language": "python",
      "name": "python3"
    },
    "language_info": {
      "codemirror_mode": {
        "name": "ipython",
        "version": 3
      },
      "file_extension": ".py",
      "mimetype": "text/x-python",
      "name": "python",
      "nbconvert_exporter": "python",
      "pygments_lexer": "ipython3",
      "version": "3.6.5"
    },
    "colab": {
      "name": "Diferencias en Excel (Hecho con Data Real).ipynb",
      "provenance": [],
      "collapsed_sections": [],
      "include_colab_link": true
    }
  },
  "cells": [
    {
      "cell_type": "markdown",
      "metadata": {
        "id": "view-in-github",
        "colab_type": "text"
      },
      "source": [
        "<a href=\"https://colab.research.google.com/github/ivonnics/Machine-Learning/blob/master/Diferencias_en_Excel_(Hecho_con_Data_Real).ipynb\" target=\"_parent\"><img src=\"https://colab.research.google.com/assets/colab-badge.svg\" alt=\"Open In Colab\"/></a>"
      ]
    },
    {
      "cell_type": "markdown",
      "metadata": {
        "id": "Aq8TKvXVx5hg",
        "colab_type": "text"
      },
      "source": [
        "### Updated: Using Pandas to Create and Excel Diff\n",
        "\n",
        "Taken from: https://pbpython.com/excel-diff-pandas-update.html\n",
        "\n",
        "Data from: https://github.com/chris1610/pbpython/tree/master/data\n",
        "\n",
        "and\n",
        "\n",
        "https://github.com/chris1610/pbpython/blob/master/notebooks/Excel_Diff_Update.ipynb\n",
        "\n",
        "The [original article](http://pbpython.com/excel-diff-pandas.html) contains some Updating the Excel diff article to work with more recent versions of pandas that no longer use panel.\n",
        "\n"
      ]
    },
    {
      "cell_type": "code",
      "metadata": {
        "id": "1MsIx1dwx5hn",
        "colab_type": "code",
        "colab": {}
      },
      "source": [
        "import pandas as pd"
      ],
      "execution_count": 0,
      "outputs": []
    },
    {
      "cell_type": "code",
      "metadata": {
        "id": "BV2AGqdhx5hx",
        "colab_type": "code",
        "colab": {}
      },
      "source": [
        "# Define the diff function to show the changes in each field\n",
        "def report_diff(x):\n",
        "    return x[0] if x[0] == x[1] else '{} ---> {}'.format(*x)"
      ],
      "execution_count": 0,
      "outputs": []
    },
    {
      "cell_type": "markdown",
      "metadata": {
        "id": "P5wEFR71CWah",
        "colab_type": "text"
      },
      "source": [
        "## Datasets TestCompA.xlsx & TestCompB.xlsx en: https://github.com/ivonnics/Data-sets"
      ]
    },
    {
      "cell_type": "code",
      "metadata": {
        "id": "fV_9YIM1x5h4",
        "colab_type": "code",
        "colab": {}
      },
      "source": [
        "# Read in the two files but call the data old and new and create columns to track\n",
        "#old = pd.read_excel('sample-address-1.xlsx', 'Sheet1', na_values=['NA'])\n",
        "old = pd.read_excel('TestCompA.xlsx', 'Sheet2', na_values=['NA'])\n",
        "#new = pd.read_excel('sample-address-2.xlsx', 'Sheet1', na_values=['NA'])\n",
        "new = pd.read_excel('TestCompB.xlsx', 'Sheet2', na_values=['NA'])\n",
        "old.drop(old.index[0],inplace=True)\n",
        "new.drop(new.index[0],inplace=True)\n",
        "old['version'] = \"old\"\n",
        "new['version'] = \"new\""
      ],
      "execution_count": 0,
      "outputs": []
    },
    {
      "cell_type": "code",
      "metadata": {
        "id": "8Zl0-XWVx5iA",
        "colab_type": "code",
        "colab": {}
      },
      "source": [
        "old.head()"
      ],
      "execution_count": 0,
      "outputs": []
    },
    {
      "cell_type": "code",
      "metadata": {
        "id": "QFrELialx5iK",
        "colab_type": "code",
        "colab": {}
      },
      "source": [
        "new.head()"
      ],
      "execution_count": 0,
      "outputs": []
    },
    {
      "cell_type": "code",
      "metadata": {
        "id": "TOfcUHMK3x8h",
        "colab_type": "code",
        "colab": {}
      },
      "source": [
        "old['index1'] = old.index\n",
        "new['index1'] = new.index\n",
        "old.rename(columns={'Column1': 'Date', 'Column2': 'Desc', 'Column3':'Debit','Column4':'Credit','Column5':'Category'\t},inplace=True)\n",
        "new.rename(columns={'Column1': 'Date', 'Column2': 'Desc', 'Column3':'Debit','Column4':'Credit','Column5':'Category'\t},inplace=True)"
      ],
      "execution_count": 0,
      "outputs": []
    },
    {
      "cell_type": "code",
      "metadata": {
        "id": "DHDdHlMT4GKs",
        "colab_type": "code",
        "colab": {}
      },
      "source": [
        "old.head()"
      ],
      "execution_count": 0,
      "outputs": []
    },
    {
      "cell_type": "code",
      "metadata": {
        "id": "dXhZzhH14H_O",
        "colab_type": "code",
        "colab": {}
      },
      "source": [
        "new.head()"
      ],
      "execution_count": 0,
      "outputs": []
    },
    {
      "cell_type": "code",
      "metadata": {
        "id": "FJFsf0hCx5iU",
        "colab_type": "code",
        "colab": {}
      },
      "source": [
        "# We use the account numbers as the keys to check what is added, dropped and potentially changed\n",
        "# Using sets makes the deduping easy and we can use set operations to figure out groupings\n",
        "old_accts_all = set(old['index1'])\n",
        "new_accts_all = set(new['index1'])\n",
        "\n",
        "dropped_accts = old_accts_all - new_accts_all\n",
        "added_accts = new_accts_all - old_accts_all"
      ],
      "execution_count": 0,
      "outputs": []
    },
    {
      "cell_type": "code",
      "metadata": {
        "id": "wLzeYAGHx5if",
        "colab_type": "code",
        "colab": {}
      },
      "source": [
        "#Join all the data together and ignore indexes so it all gets concatenated\n",
        "all_data = pd.concat([old,new],ignore_index=True)"
      ],
      "execution_count": 0,
      "outputs": []
    },
    {
      "cell_type": "code",
      "metadata": {
        "id": "lnGFX53Qx5in",
        "colab_type": "code",
        "colab": {}
      },
      "source": [
        "all_data.head()"
      ],
      "execution_count": 0,
      "outputs": []
    },
    {
      "cell_type": "code",
      "metadata": {
        "id": "WNZw4ivDx5iz",
        "colab_type": "code",
        "colab": {}
      },
      "source": [
        "# Let's see what changes in the main columns we care about\n",
        "# Change drop_duplicates syntax: keep=last\n",
        "changes = all_data.drop_duplicates(subset=[\"Date\", \n",
        "                                           \"Desc\", \"Debit\", \n",
        "                                           \"Credit\",\"Category\"], keep='last')"
      ],
      "execution_count": 0,
      "outputs": []
    },
    {
      "cell_type": "code",
      "metadata": {
        "id": "L0tPOL8dx5i_",
        "colab_type": "code",
        "colab": {}
      },
      "source": [
        "changes.head()"
      ],
      "execution_count": 0,
      "outputs": []
    },
    {
      "cell_type": "code",
      "metadata": {
        "id": "PDT4kL6jx5jI",
        "colab_type": "code",
        "colab": {}
      },
      "source": [
        "#Get all the duplicate rows\n",
        "dupe_accts = changes[changes['index1'].duplicated() == True]['index1'].tolist()\n",
        "dupes = changes[changes[\"index1\"].isin(dupe_accts)]"
      ],
      "execution_count": 0,
      "outputs": []
    },
    {
      "cell_type": "code",
      "metadata": {
        "id": "wLISouZsx5jQ",
        "colab_type": "code",
        "colab": {}
      },
      "source": [
        "dupes"
      ],
      "execution_count": 0,
      "outputs": []
    },
    {
      "cell_type": "code",
      "metadata": {
        "id": "cjJYRV_Wx5jV",
        "colab_type": "code",
        "colab": {}
      },
      "source": [
        "# Pull out the old and new data into separate dataframes\n",
        "change_new = dupes[(dupes[\"version\"] == \"new\")]\n",
        "change_old = dupes[(dupes[\"version\"] == \"old\")]"
      ],
      "execution_count": 0,
      "outputs": []
    },
    {
      "cell_type": "code",
      "metadata": {
        "id": "5nlud8hmx5ja",
        "colab_type": "code",
        "colab": {}
      },
      "source": [
        "# Drop the temp columns - we don't need them now\n",
        "change_new = change_new.drop(['version'], axis=1)\n",
        "change_old = change_old.drop(['version'], axis=1)"
      ],
      "execution_count": 0,
      "outputs": []
    },
    {
      "cell_type": "code",
      "metadata": {
        "id": "fcmkzNtYx5jh",
        "colab_type": "code",
        "colab": {}
      },
      "source": [
        "# Index on the account numbers\n",
        "change_new.set_index('index1', inplace=True)\n",
        "change_old.set_index('index1', inplace=True)"
      ],
      "execution_count": 0,
      "outputs": []
    },
    {
      "cell_type": "code",
      "metadata": {
        "id": "WNPuU3EPx5jq",
        "colab_type": "code",
        "colab": {}
      },
      "source": [
        "df_all_changes = pd.concat([change_old, change_new],\n",
        "                           axis='columns',\n",
        "                           keys=['old', 'new'],\n",
        "                           join='outer')"
      ],
      "execution_count": 0,
      "outputs": []
    },
    {
      "cell_type": "code",
      "metadata": {
        "id": "znr4PbEYx5jy",
        "colab_type": "code",
        "colab": {}
      },
      "source": [
        "df_all_changes"
      ],
      "execution_count": 0,
      "outputs": []
    },
    {
      "cell_type": "code",
      "metadata": {
        "id": "ydG0mpygx5j5",
        "colab_type": "code",
        "colab": {}
      },
      "source": [
        "df_all_changes = df_all_changes.swaplevel(axis='columns')[change_new.columns[0:]]"
      ],
      "execution_count": 0,
      "outputs": []
    },
    {
      "cell_type": "code",
      "metadata": {
        "id": "i-o4zh_Hx5kD",
        "colab_type": "code",
        "colab": {}
      },
      "source": [
        "df_all_changes"
      ],
      "execution_count": 0,
      "outputs": []
    },
    {
      "cell_type": "code",
      "metadata": {
        "id": "7CznoXXYx5kL",
        "colab_type": "code",
        "colab": {}
      },
      "source": [
        "df_changed = df_all_changes.groupby(level=0, axis=1).apply(lambda frame: frame.apply(report_diff, axis=1))\n",
        "df_changed = df_changed.reset_index()"
      ],
      "execution_count": 0,
      "outputs": []
    },
    {
      "cell_type": "code",
      "metadata": {
        "id": "iDQU5K2Cx5kS",
        "colab_type": "code",
        "colab": {}
      },
      "source": [
        "df_changed"
      ],
      "execution_count": 0,
      "outputs": []
    },
    {
      "cell_type": "code",
      "metadata": {
        "id": "TjRBKKU6x5kf",
        "colab_type": "code",
        "colab": {}
      },
      "source": [
        "# Diff'ing is done, we need to get a list of removed and added items"
      ],
      "execution_count": 0,
      "outputs": []
    },
    {
      "cell_type": "code",
      "metadata": {
        "id": "fwQJsRKHx5kn",
        "colab_type": "code",
        "colab": {}
      },
      "source": [
        "df_removed = changes[changes[\"index1\"].isin(dropped_accts)]\n",
        "df_removed"
      ],
      "execution_count": 0,
      "outputs": []
    },
    {
      "cell_type": "code",
      "metadata": {
        "id": "ZcCMCIJgx5ku",
        "colab_type": "code",
        "colab": {}
      },
      "source": [
        "df_added = changes[changes[\"index1\"].isin(added_accts)]\n",
        "df_added"
      ],
      "execution_count": 0,
      "outputs": []
    },
    {
      "cell_type": "code",
      "metadata": {
        "id": "Y_E80IV0x5k1",
        "colab_type": "code",
        "colab": {}
      },
      "source": [
        "#Save the changes to excel but only include the columns we care about\n",
        "output_columns = ['Date','Desc',\t'Debit',\t'Credit',\t'Category']\n",
        "writer = pd.ExcelWriter(\"my-diff2.xlsx\")\n",
        "df_changed.to_excel(writer,\"changed\", index=False, columns=output_columns)\n",
        "df_removed.to_excel(writer,\"removed\",index=False, columns=output_columns)\n",
        "df_added.to_excel(writer,\"added\",index=False, columns=output_columns)\n",
        "writer.save()"
      ],
      "execution_count": 0,
      "outputs": []
    },
    {
      "cell_type": "code",
      "metadata": {
        "id": "gXf075Tax5k-",
        "colab_type": "code",
        "colab": {}
      },
      "source": [
        ""
      ],
      "execution_count": 0,
      "outputs": []
    }
  ]
}