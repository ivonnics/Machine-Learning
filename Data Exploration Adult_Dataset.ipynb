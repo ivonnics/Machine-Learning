{
 "cells": [
  {
   "cell_type": "markdown",
   "metadata": {},
   "source": [
    "# [Business Understanding](https://medium.com/datadriveninvestor/introduction-to-exploratory-data-analysis-682eb64063ff)\n",
    "\n",
    "The \"Adult Dataset\", also known as the \"Cenus Income\" dataset is from the 1994 Census Database. The Census is a wide-range activity, which takes place once a decade in the entire country. It is a procedure that acquires complete and reliable information such as demographic, social and economic characteristics about people in a given population. The data collected includes age, gender, marital-status, country of origin, employment, education, etc.\n",
    "\n",
    "The census includes over 200 different surveys taken by a lot of enumerators to get reliable measure about demographics of American people. The most important role of Census is to calculate population distribution. The information makes it possible to plan better services, improve the quality of life of people and solve existing problems. The data was extracted by Barry Becker from 1994 Census Database by collecting clean records using a set of conditions. Each row represents all the data about a specific person, and it could be used to analyze a variety of problems including and not limited to demographic status(using finalwgt, age, gender, country of origin), social and economic status(education and employment related data), etc."
   ]
  },
  {
   "cell_type": "markdown",
   "metadata": {},
   "source": [
    "# [Data Understanding](https://github.com/kaushikmani/Adult_Dataset)"
   ]
  },
  {
   "cell_type": "markdown",
   "metadata": {},
   "source": [
    "Age: This attribute tells us about the age of any individual. It is a numerical attribute with continuous values, and since it is an interval variable where zero measurement indicates, there's no/zero age, it is a Ratio attribute.\n",
    "\n",
    "WorkClass: This attribute tells us about the individual work class of any individual. It is a categorical attribute, with different values like private, federal-gov, local-gov, state-gov, etc. It is a Nominal attribute since each value is distinct and has some meaning attached to it.\n",
    "\n",
    "FnlWgt: This attribute is used to independent estimates of civilian noninstitutional population of the US. People with similar demographic features should have similar weights. It is a numerical attribute with continuous values, and since it is an interval variable where zero measurement is not possible and means no final weight, it is a Ratio attribute.\n",
    "\n",
    "Education: This attribute tells us about the highest education level of any individual. It is a categorical attribute, with different values like Bachelors, Preschool, Masters, Doctorate, etc. It is a Nominal attribute since each value is distinct and has some meaning attached to it.\n",
    "\n",
    "Education-num: This attribute is a numerical representation of the education attribute, indicating the highest education level of any individual. The higher the value, the higher the education level. It is an Ordinal attribute since each value is distinct and has some order in it, the higher the value, the higher the education level.\n",
    "\n",
    "Marital-Status: This attribute tells us about the marital status of an individual. It is a categorical attribute, with different values like Married-civ-spouse, Divorced, Never-married, etc. It is a Nominal attribute since each value is distinct and has some meaning attached to it.\n",
    "\n",
    "Occupation: This attribute tells us about the field of occupation of an individual. It is a categorical attribute, with different values like Tech-Support, Craft-repair, Sales, etc. It is a Nominal attribute since each value is distinct and has some meaning attached to it.\n",
    "\n",
    "Relationship: This attribute tells us about individual's relation in a family. It is a categorical attribute, with different values like Wife, Husband, Unmarried, etc. It is a Nominal attribute since each value is distinct and has some meaning attached to it.\n",
    "\n",
    "Race: This attribute tells us about the race of an individual. It is a categorical attribute, with different values like White, Black, Asian-Pac-Islander, etc. It is a Nominal attribute since each value is distinct and has some meaning attached to it.\n",
    "\n",
    "Sex: This attribute tells us about the sex/gender of an individual. It is a categorical attribute, with two values Male, Female. It is a Nominal attribute since each value is distinct and has some meaning attached to it.\n",
    "\n",
    "Capital-Gain: This attribute tells us the gain/income from investment sources other than salary. It is a numerical attribute with continuous values, since it is an interval variable where zero measurement means no capital gain, it is a Ratio attribute.\n",
    "\n",
    "Capital-Loss: This attribute tells us the loss from investment sources other than salary. It is a numerical attribute with continuous values, since it is an interval variable where zero measurement means no capital loss, it is a Ratio attribute.\n",
    "\n",
    "Hours-Per-Week: This attribute tells us number of hours an individual works per week. It is a numerical attribute with continuous values, since it is an interval variable where zero measurement means the person doesn't work, it is a Ratio attribute.\n",
    "\n",
    "Native-Country: This attribute tells us about the native country/country of origin of an individual. It is a categorical attribute with values like United-States, India, England, etc. It is a Nominal attribute since each value is distinct and has some meaning attached to it.\n",
    "\n",
    "Income: This attribute tells us about the income of an individual, whether it is less than 50k or greater than 50k. It is a categorical value, and a nominal attribute.\n",
    "\n",
    "The problem statement is to predict whether the income exceeds 50k a year or not based on the census data\n",
    "\n",
    "\n",
    "## Data Statistics"
   ]
  },
  {
   "cell_type": "code",
   "execution_count": 1,
   "metadata": {},
   "outputs": [],
   "source": [
    "# Provide basic statistics for the attributes - e.g., counts, percentiles, mean, median, standard deviation.\n",
    "# The statistics should be relevant for the type of attribute.\n",
    "\n",
    "#Loading required modules\n",
    "import numpy as np\n",
    "import pandas as pd\n",
    "import seaborn as sns\n",
    "import matplotlib.pyplot as plt\n",
    "%matplotlib inline\n",
    "\n",
    "#Downloading the dataset\n",
    "url = \"https://archive.ics.uci.edu/ml/machine-learning-databases/adult/adult.data\"\n",
    "\n",
    "columns = [\"age\", \"work-class\", \"fnlwgt\", \"education\", \"education-num\",\"marital-status\", \"occupation\", \"relationship\",\n",
    "          \"race\", \"sex\", \"capital-gain\", \"capital-loss\", \"hours-per-week\", \"native-country\", \"income\"]\n",
    "           \n",
    "data = pd.read_csv(url, names=columns, sep=',', na_values='?', skipinitialspace = True)"
   ]
  },
  {
   "cell_type": "code",
   "execution_count": 2,
   "metadata": {},
   "outputs": [
    {
     "name": "stdout",
     "output_type": "stream",
     "text": [
      "(32561, 15)\n"
     ]
    },
    {
     "data": {
      "text/html": [
       "<div>\n",
       "<style scoped>\n",
       "    .dataframe tbody tr th:only-of-type {\n",
       "        vertical-align: middle;\n",
       "    }\n",
       "\n",
       "    .dataframe tbody tr th {\n",
       "        vertical-align: top;\n",
       "    }\n",
       "\n",
       "    .dataframe thead th {\n",
       "        text-align: right;\n",
       "    }\n",
       "</style>\n",
       "<table border=\"1\" class=\"dataframe\">\n",
       "  <thead>\n",
       "    <tr style=\"text-align: right;\">\n",
       "      <th></th>\n",
       "      <th>age</th>\n",
       "      <th>work-class</th>\n",
       "      <th>fnlwgt</th>\n",
       "      <th>education</th>\n",
       "      <th>education-num</th>\n",
       "      <th>marital-status</th>\n",
       "      <th>occupation</th>\n",
       "      <th>relationship</th>\n",
       "      <th>race</th>\n",
       "      <th>sex</th>\n",
       "      <th>capital-gain</th>\n",
       "      <th>capital-loss</th>\n",
       "      <th>hours-per-week</th>\n",
       "      <th>native-country</th>\n",
       "      <th>income</th>\n",
       "    </tr>\n",
       "  </thead>\n",
       "  <tbody>\n",
       "    <tr>\n",
       "      <th>0</th>\n",
       "      <td>39</td>\n",
       "      <td>State-gov</td>\n",
       "      <td>77516</td>\n",
       "      <td>Bachelors</td>\n",
       "      <td>13</td>\n",
       "      <td>Never-married</td>\n",
       "      <td>Adm-clerical</td>\n",
       "      <td>Not-in-family</td>\n",
       "      <td>White</td>\n",
       "      <td>Male</td>\n",
       "      <td>2174</td>\n",
       "      <td>0</td>\n",
       "      <td>40</td>\n",
       "      <td>United-States</td>\n",
       "      <td>&lt;=50K</td>\n",
       "    </tr>\n",
       "    <tr>\n",
       "      <th>1</th>\n",
       "      <td>50</td>\n",
       "      <td>Self-emp-not-inc</td>\n",
       "      <td>83311</td>\n",
       "      <td>Bachelors</td>\n",
       "      <td>13</td>\n",
       "      <td>Married-civ-spouse</td>\n",
       "      <td>Exec-managerial</td>\n",
       "      <td>Husband</td>\n",
       "      <td>White</td>\n",
       "      <td>Male</td>\n",
       "      <td>0</td>\n",
       "      <td>0</td>\n",
       "      <td>13</td>\n",
       "      <td>United-States</td>\n",
       "      <td>&lt;=50K</td>\n",
       "    </tr>\n",
       "    <tr>\n",
       "      <th>2</th>\n",
       "      <td>38</td>\n",
       "      <td>Private</td>\n",
       "      <td>215646</td>\n",
       "      <td>HS-grad</td>\n",
       "      <td>9</td>\n",
       "      <td>Divorced</td>\n",
       "      <td>Handlers-cleaners</td>\n",
       "      <td>Not-in-family</td>\n",
       "      <td>White</td>\n",
       "      <td>Male</td>\n",
       "      <td>0</td>\n",
       "      <td>0</td>\n",
       "      <td>40</td>\n",
       "      <td>United-States</td>\n",
       "      <td>&lt;=50K</td>\n",
       "    </tr>\n",
       "    <tr>\n",
       "      <th>3</th>\n",
       "      <td>53</td>\n",
       "      <td>Private</td>\n",
       "      <td>234721</td>\n",
       "      <td>11th</td>\n",
       "      <td>7</td>\n",
       "      <td>Married-civ-spouse</td>\n",
       "      <td>Handlers-cleaners</td>\n",
       "      <td>Husband</td>\n",
       "      <td>Black</td>\n",
       "      <td>Male</td>\n",
       "      <td>0</td>\n",
       "      <td>0</td>\n",
       "      <td>40</td>\n",
       "      <td>United-States</td>\n",
       "      <td>&lt;=50K</td>\n",
       "    </tr>\n",
       "    <tr>\n",
       "      <th>4</th>\n",
       "      <td>28</td>\n",
       "      <td>Private</td>\n",
       "      <td>338409</td>\n",
       "      <td>Bachelors</td>\n",
       "      <td>13</td>\n",
       "      <td>Married-civ-spouse</td>\n",
       "      <td>Prof-specialty</td>\n",
       "      <td>Wife</td>\n",
       "      <td>Black</td>\n",
       "      <td>Female</td>\n",
       "      <td>0</td>\n",
       "      <td>0</td>\n",
       "      <td>40</td>\n",
       "      <td>Cuba</td>\n",
       "      <td>&lt;=50K</td>\n",
       "    </tr>\n",
       "  </tbody>\n",
       "</table>\n",
       "</div>"
      ],
      "text/plain": [
       "   age        work-class  fnlwgt  education  education-num  \\\n",
       "0   39         State-gov   77516  Bachelors             13   \n",
       "1   50  Self-emp-not-inc   83311  Bachelors             13   \n",
       "2   38           Private  215646    HS-grad              9   \n",
       "3   53           Private  234721       11th              7   \n",
       "4   28           Private  338409  Bachelors             13   \n",
       "\n",
       "       marital-status         occupation   relationship   race     sex  \\\n",
       "0       Never-married       Adm-clerical  Not-in-family  White    Male   \n",
       "1  Married-civ-spouse    Exec-managerial        Husband  White    Male   \n",
       "2            Divorced  Handlers-cleaners  Not-in-family  White    Male   \n",
       "3  Married-civ-spouse  Handlers-cleaners        Husband  Black    Male   \n",
       "4  Married-civ-spouse     Prof-specialty           Wife  Black  Female   \n",
       "\n",
       "   capital-gain  capital-loss  hours-per-week native-country income  \n",
       "0          2174             0              40  United-States  <=50K  \n",
       "1             0             0              13  United-States  <=50K  \n",
       "2             0             0              40  United-States  <=50K  \n",
       "3             0             0              40  United-States  <=50K  \n",
       "4             0             0              40           Cuba  <=50K  "
      ]
     },
     "execution_count": 2,
     "metadata": {},
     "output_type": "execute_result"
    }
   ],
   "source": [
    "#Printing the first few values, to understand about the attributes.\n",
    "\n",
    "#Head data\n",
    "print(data.shape)\n",
    "data.head()"
   ]
  },
  {
   "cell_type": "code",
   "execution_count": null,
   "metadata": {},
   "outputs": [],
   "source": [
    "data['sex'].hist(figsize=(10,12))"
   ]
  },
  {
   "cell_type": "code",
   "execution_count": null,
   "metadata": {},
   "outputs": [],
   "source": [
    "# Age Statistics\n",
    "print(\"Age Statistics\")\n",
    "print(data['age'].describe())\n",
    "print(\"Median Age: \", data['age'].median())\n",
    "data['age'].hist(figsize=(10,12))"
   ]
  },
  {
   "cell_type": "markdown",
   "metadata": {},
   "source": [
    "Here, we use the describe() function to describe the basic statistics.\n",
    "1. Count: Number of values of age in the data.\n",
    "2. Mean: Mean of all the ages.\n",
    "3. Std: Standard deviation of all the ages.\n",
    "4. Min: Minimum age in data.\n",
    "5. 25%: 25th percentile value in data.\n",
    "6. 50%: 50th percentile value in data.\n",
    "7. 75%: 75th percentile value in data.\n",
    "8. Max: Maximum age in data.\n",
    "\n",
    "Apart from these, we also calculate the median value of age. We are now going to calculate these values for all numerical attributes.\n"
   ]
  },
  {
   "cell_type": "code",
   "execution_count": null,
   "metadata": {},
   "outputs": [],
   "source": [
    "# Final weight Statistics\n",
    "print(\"Final weight Statistics\")\n",
    "print(data['fnlwgt'].describe())\n",
    "print(\"Median Final Weight: \", data['fnlwgt'].median())\n",
    "data['fnlwgt'].hist(figsize=(10,12))"
   ]
  },
  {
   "cell_type": "code",
   "execution_count": null,
   "metadata": {},
   "outputs": [],
   "source": [
    "# Education number Statistics\n",
    "print(\"Education Number Statistics\")\n",
    "print(data['education-num'].describe())\n",
    "print(\"Education Num Age: \", data['education-num'].median())\n",
    "data['education-num'].hist(figsize=(10,12))"
   ]
  },
  {
   "cell_type": "code",
   "execution_count": null,
   "metadata": {},
   "outputs": [],
   "source": [
    "# Capital Gain Statistics\n",
    "print(\"Capital Gain Statistics\")\n",
    "print(data['capital-gain'].describe())\n",
    "print(\"Median Capital Gain: \", data['capital-gain'].median())\n",
    "data['capital-gain'].hist(figsize=(10,12))"
   ]
  },
  {
   "cell_type": "code",
   "execution_count": null,
   "metadata": {},
   "outputs": [],
   "source": [
    "# Capital Loss Statistics\n",
    "print(\"Capital Loss Statistics\")\n",
    "print(data['capital-loss'].describe())\n",
    "print(\"Median Capital Loss: \", data['capital-loss'].median())\n",
    "data['capital-loss'].hist(figsize=(10,12))"
   ]
  },
  {
   "cell_type": "code",
   "execution_count": null,
   "metadata": {},
   "outputs": [],
   "source": [
    "# Hours per week Statistics\n",
    "print(\"Hours per week Statistics\")\n",
    "print(data['hours-per-week'].describe())\n",
    "print(\"Median hours-per-week: \", data['hours-per-week'].median())\n",
    "data['hours-per-week'].hist(figsize=(10,12))"
   ]
  },
  {
   "cell_type": "markdown",
   "metadata": {},
   "source": [
    "# Data Visualization"
   ]
  },
  {
   "cell_type": "code",
   "execution_count": null,
   "metadata": {},
   "outputs": [],
   "source": [
    "'''\n",
    "# Visualize the most important or interesting attributes using appropriate techniques. \n",
    "# For each visualization, provide an interpretation explaining why it is appropriate or interesting. \n",
    "# What does each visualization tell us?\n",
    "\n",
    "# Plotting histogram for numerical values\n",
    "\n",
    "numerical_attributes = data.select_dtypes(include=['int'])\n",
    "numerical_attributes = numerical_attributes.astype(np.float)\n",
    "numerical_attributes.hist(figsize=(10,12))\n",
    "'''"
   ]
  },
  {
   "cell_type": "markdown",
   "metadata": {},
   "source": [
    "The visualization of the numerical attributes give us a few interesting insights on the distribution of values.\n",
    "\n",
    "1. Most of the individuals have an age < 50 while the maximum age is around 90.\n",
    "2. In general, people do not have investments other than their regular income. However, there are very few people who invest, and there are also a small number of outliers who earn more than 90000 via capital gains. However, among the people who had a, capital loss the average loss looks to be around 2000. \n",
    "3. On average, most of the people have studied till education number 9 or 10 in the areas where the census was taken. \n",
    "4. Most of the people work around 40 hrs per week. However there are a few who don't work and a few who work for almost 100 hours a week.\n",
    "\n",
    "For categorical attributes, we can view the count plot to see their frequency distributions."
   ]
  },
  {
   "cell_type": "code",
   "execution_count": null,
   "metadata": {},
   "outputs": [],
   "source": [
    "# Plotting count plot for categorical values\n",
    "categorical_attributes = data.select_dtypes(include=['object'])\n",
    "\n",
    "# Work-class Count plot\n",
    "plt.figure(figsize=(12,6))\n",
    "sns.countplot(data = categorical_attributes, x = \"work-class\")"
   ]
  },
  {
   "cell_type": "markdown",
   "metadata": {},
   "source": [
    "We can see that most of the people work in private sectors, and the rest are evenly distributed among state-gov, federal-gov, local-gov, self-emp-inc and self-emp-not-inc."
   ]
  },
  {
   "cell_type": "code",
   "execution_count": null,
   "metadata": {},
   "outputs": [],
   "source": [
    "plt.figure(figsize=(20,6))\n",
    "sns.countplot(data = categorical_attributes, x = \"education\")"
   ]
  },
  {
   "cell_type": "markdown",
   "metadata": {},
   "source": [
    "Most of the people are high-school grads or have studied in some college. This is same as the education-num attribute, just that each of these values have been assigned a number there. We can use one of the two columns for our model, and ignore the other"
   ]
  },
  {
   "cell_type": "code",
   "execution_count": null,
   "metadata": {},
   "outputs": [],
   "source": [
    "# Marital-Status Count plot\n",
    "plt.figure(figsize=(12,6))\n",
    "sns.countplot(data = categorical_attributes, x = \"marital-status\")"
   ]
  },
  {
   "cell_type": "markdown",
   "metadata": {},
   "source": [
    "Most of the people are either married civilians or are never married. "
   ]
  },
  {
   "cell_type": "code",
   "execution_count": null,
   "metadata": {},
   "outputs": [],
   "source": [
    "# Occupation Count plot\n",
    "plt.figure(figsize=(24,6))\n",
    "sns.countplot(data = categorical_attributes, x = \"occupation\")"
   ]
  },
  {
   "cell_type": "markdown",
   "metadata": {},
   "source": [
    "The jobs/occupation of the individuals are evenly distributed among a lot of values, like clerical administrator, executive managerial posts, professional speciality, sales, craft-repair and other-services."
   ]
  },
  {
   "cell_type": "code",
   "execution_count": null,
   "metadata": {},
   "outputs": [],
   "source": [
    "# Relationship Count plot\n",
    "plt.figure(figsize=(24,6))\n",
    "sns.countplot(data = categorical_attributes, x = \"relationship\")"
   ]
  },
  {
   "cell_type": "markdown",
   "metadata": {},
   "source": [
    "Most of the people in the survey are husbands, while a few are people who are not in family."
   ]
  },
  {
   "cell_type": "code",
   "execution_count": null,
   "metadata": {},
   "outputs": [],
   "source": [
    "# Race Count plot\n",
    "plt.figure(figsize=(10,6))\n",
    "sns.countplot(data = categorical_attributes, x = \"race\")"
   ]
  },
  {
   "cell_type": "markdown",
   "metadata": {},
   "source": [
    "There's a huge number of white people in the data, while there are considerable amount of black people. The others are in very few numbers."
   ]
  },
  {
   "cell_type": "code",
   "execution_count": null,
   "metadata": {},
   "outputs": [],
   "source": [
    "# Sex Count plot\n",
    "plt.figure(figsize=(4,6))\n",
    "sns.countplot(data = categorical_attributes, x = \"sex\")"
   ]
  },
  {
   "cell_type": "markdown",
   "metadata": {},
   "source": [
    "Majority of the population in the data are husbands, which is true according to the column relationship also, as the majority were husbands."
   ]
  },
  {
   "cell_type": "code",
   "execution_count": null,
   "metadata": {},
   "outputs": [],
   "source": [
    "# Native-Country Count plot\n",
    "plt.figure(figsize=(40,6))\n",
    "sns.countplot(data = categorical_attributes, x = \"native-country\")"
   ]
  },
  {
   "cell_type": "markdown",
   "metadata": {},
   "source": [
    "Majority of the people are from United States, however there are a few from Mexico, and very few from India, Jamaica, Cuba, Germany, etc."
   ]
  },
  {
   "cell_type": "code",
   "execution_count": null,
   "metadata": {},
   "outputs": [],
   "source": [
    "# Income Count plot\n",
    "plt.figure(figsize=(4,6))\n",
    "sns.countplot(data = categorical_attributes, x = \"income\")"
   ]
  },
  {
   "cell_type": "markdown",
   "metadata": {},
   "source": [
    "Majority of the people have an income of less than 50k according to the data given, indicating that the data is somewhat skewed."
   ]
  },
  {
   "cell_type": "markdown",
   "metadata": {},
   "source": [
    "# Data Quality"
   ]
  },
  {
   "cell_type": "code",
   "execution_count": null,
   "metadata": {},
   "outputs": [],
   "source": [
    "#Verify data quality: explain any missing values, duplicate data, or outliers. \n",
    "#What, if anything, do you need to do about these? Be specific. \n",
    "\n",
    "#Check missing values\n",
    "data.info()"
   ]
  },
  {
   "cell_type": "code",
   "execution_count": null,
   "metadata": {},
   "outputs": [],
   "source": [
    "print(\"Missing value count occupation: \", data['occupation'].isnull().sum())\n",
    "print(\"Missing value count work-class: \", data['work-class'].isnull().sum())\n",
    "print(\"Missing value count native-country: \", data['native-country'].isnull().sum())"
   ]
  },
  {
   "cell_type": "markdown",
   "metadata": {},
   "source": [
    "From the above table, we can see that there are 32561 entries in the dataframe. Only 3 attributes, namely work-class, occupation, native-country have some missing/null values as there is no data regarding them or people refused to give that specific information.\n",
    "\n",
    "There are a lot of ways in which we can handle missing data. As all the three are categorical data, we would be talking only about handling categorical data here.\n",
    "1. Drop these rows, so that we don't have any missing values in our data.\n",
    "2. Choose the median of values once we have transformed categorical values into corresponding numerical representations, as median is not affected by the range/spread of data unlike mean.\n",
    "3. We could also use a classifier with non-missing values to predict the missing values, and then use them to build our final model.\n",
    "3. There are certain classifiers like XGBoost which automatically handle missing data, but we won't assume that here.\n",
    "\n",
    "We could drop these values as there are not in a huge number here(~10% of the data). However, if our dataset is really small, we could consider the option 2, like incase of native-country, we could consider USA as the native country as more than 90% of the people in the dataset are from USA.  \n",
    "\n",
    "We will also drop any duplicates present in the data, as these could lead to overfitting."
   ]
  },
  {
   "cell_type": "markdown",
   "metadata": {},
   "source": [
    "The histogram plots shown above indicate there are outliers in the attribute Capital-Gain. We can ignore/drop these outliers in order to get good results.\n",
    "\n",
    "# Data Relationships\n",
    "\n",
    "To explore the relationships among various attributes, we can look at scatter plots and correlation heatmaps among the different attributes. \n",
    "\n",
    "We will plot pair plot to explore the pairwise relationship among attributes. Also, since we have already we have already seen histograms, we will use kde(Kernel density estimation) plot which shows the shape of the distribution as the diagonal plots."
   ]
  },
  {
   "cell_type": "code",
   "execution_count": null,
   "metadata": {},
   "outputs": [],
   "source": [
    "# Explore the relationships among the attributes, excluding the class attribute. \n",
    "# Use scatter plots, correlation matrices, cross-tabulations, group-wise averages, or other appropriate techniques. \n",
    "# Explain and interpret any interesting relationships\n",
    "\n",
    "sns.pairplot(data, height=3, diag_kind = 'kde', hue='income')"
   ]
  },
  {
   "cell_type": "markdown",
   "metadata": {},
   "source": [
    "We will also plot the correlation heatmap to better understand the relationship among attributes."
   ]
  },
  {
   "cell_type": "code",
   "execution_count": null,
   "metadata": {},
   "outputs": [],
   "source": [
    "# Compute the correlation matrix\n",
    "corr = data.corr()\n",
    "\n",
    "# Set up the matplotlib figure\n",
    "f, ax = plt.subplots(figsize=(16, 12))\n",
    "\n",
    "# Generate a custom diverging colormap\n",
    "cmap = sns.diverging_palette(220, 10, as_cmap=True)\n",
    "\n",
    "# Draw the heatmap\n",
    "_ = sns.heatmap(corr, cmap=\"YlGn\", square=True, ax = ax, annot=True, linewidth = 0.1)\n",
    "\n",
    "plt.title('Pearson Correlation of Features', y=1.05, size=15)"
   ]
  },
  {
   "cell_type": "markdown",
   "metadata": {},
   "source": [
    "There isn't a great correlation between the numerical features.\n",
    "\n",
    "1. The fnlwgt feature looks useless.\n",
    "2. There is some correlation between age, hours per week and education-num according to both pair plot and correlation heatmap.\n",
    "3. Capital gain and Capital loss don't anticorrelate a lot, which says people can invest only if they have money.\n",
    "\n",
    "Let's look at a few relationships among categorical attributes."
   ]
  },
  {
   "cell_type": "code",
   "execution_count": null,
   "metadata": {},
   "outputs": [],
   "source": [
    "# Cross tabulation between work-class and sex\n",
    "\n",
    "pd.crosstab(data['work-class'],data['sex'], margins=True)"
   ]
  },
  {
   "cell_type": "code",
   "execution_count": null,
   "metadata": {},
   "outputs": [],
   "source": [
    "# Box plot between work-class and age for different sex\n",
    "\n",
    "plt.figure(figsize=(12,6))\n",
    "sns.boxplot(x=\"work-class\",y=\"age\", hue=\"sex\", data=data)"
   ]
  },
  {
   "cell_type": "markdown",
   "metadata": {},
   "source": [
    "The cross tabulation values show that more number of men are self employed rather than women. The box plot gives a few interesting observations:\n",
    "1. People who have never worked have a very young age. Women have a slightly higher median age than men for this working-class.\n",
    "2. Men who work without pay have a median age of around 20-30, whereas women who work without pay have a median age of around 60-65.\n",
    "3. Most of the working class have a median age of around 40-50."
   ]
  },
  {
   "cell_type": "code",
   "execution_count": null,
   "metadata": {},
   "outputs": [],
   "source": [
    "# Box plot between race and age for different sex\n",
    "\n",
    "plt.figure(figsize=(20,6))\n",
    "sns.boxplot(x=\"race\",y=\"age\", hue=\"sex\", data=data)"
   ]
  },
  {
   "cell_type": "markdown",
   "metadata": {},
   "source": [
    "People from \"other\" race have a younger median age than the rest of the races."
   ]
  },
  {
   "cell_type": "code",
   "execution_count": null,
   "metadata": {},
   "outputs": [],
   "source": [
    "# Cross tabulation between race and sex\n",
    "\n",
    "pd.crosstab(data['race'],data['sex'], margins=True)"
   ]
  },
  {
   "cell_type": "markdown",
   "metadata": {},
   "source": [
    "This above cross-tabulation gives a distribution of various races and sex. The number of males and females are very similar in all races except whites."
   ]
  },
  {
   "cell_type": "code",
   "execution_count": null,
   "metadata": {},
   "outputs": [],
   "source": [
    "# Cross tabulation between native-country and sex\n",
    "\n",
    "pd.crosstab(data['native-country'],data['sex'], margins=True)"
   ]
  },
  {
   "cell_type": "markdown",
   "metadata": {},
   "source": [
    "We can see that the cross tabulation values don't give much interesting results when the number of categories are huge. We could reduce/combine the categories, like native-country to Non-USA, USA, group ages to specific ranges, etc. "
   ]
  },
  {
   "cell_type": "code",
   "execution_count": null,
   "metadata": {},
   "outputs": [],
   "source": [
    "#Grouping education\n",
    "data['education'].replace('Preschool', 'Dropout',inplace=True)\n",
    "data['education'].replace('10th', 'Dropout',inplace=True)\n",
    "data['education'].replace('11th', 'Dropout',inplace=True)\n",
    "data['education'].replace('12th', 'Dropout',inplace=True)\n",
    "data['education'].replace('1st-4th', 'Dropout',inplace=True)\n",
    "data['education'].replace('5th-6th', 'Dropout',inplace=True)\n",
    "data['education'].replace('7th-8th', 'Dropout',inplace=True)\n",
    "data['education'].replace('9th', 'Dropout',inplace=True)\n",
    "data['education'].replace('HS-Grad', 'HighSchoolGrad',inplace=True)\n",
    "data['education'].replace('HS-grad', 'HighSchoolGrad',inplace=True)\n",
    "data['education'].replace('Some-college', 'CommunityCollege',inplace=True)\n",
    "data['education'].replace('Assoc-acdm', 'CommunityCollege',inplace=True)\n",
    "data['education'].replace('Assoc-voc', 'CommunityCollege',inplace=True)\n",
    "data['education'].replace('Prof-school', 'Masters',inplace=True)\n",
    "\n",
    "fig = plt.figure(figsize=(20,3))\n",
    "sns.countplot(x=\"education\", data=data)"
   ]
  },
  {
   "cell_type": "code",
   "execution_count": null,
   "metadata": {},
   "outputs": [],
   "source": [
    "# Cross tabulation between education and sex\n",
    "\n",
    "pd.crosstab(data['education'],data['sex'], margins=True)"
   ]
  },
  {
   "cell_type": "markdown",
   "metadata": {},
   "source": [
    "This gives a better idea about the relation between sex and education level. More men do Masters and Doctorate compared to women.\n",
    "\n",
    "Let's try a similar combination for native-country as well."
   ]
  },
  {
   "cell_type": "code",
   "execution_count": null,
   "metadata": {},
   "outputs": [],
   "source": [
    "# Grouping native-country\n",
    "data['native-country'] = data['native-country'].apply(lambda el: \"United-States\" if el == \"United-States\" else \"Others\")\n",
    "\n",
    "# Plotting count plot for native-country\n",
    "fig = plt.figure(figsize=(4,5))\n",
    "sns.countplot(x=\"native-country\", data=data)\n"
   ]
  },
  {
   "cell_type": "code",
   "execution_count": null,
   "metadata": {},
   "outputs": [],
   "source": [
    "# Plotting cross tabulation values for native-country and sex\n",
    "pd.crosstab(data['native-country'],data['sex'], margins=True)"
   ]
  },
  {
   "cell_type": "markdown",
   "metadata": {},
   "source": [
    "The ratio of men and women from US as well as other natives are more or less similar, however, the number of US natioanls are considerably more in the dataset."
   ]
  },
  {
   "cell_type": "code",
   "execution_count": null,
   "metadata": {},
   "outputs": [],
   "source": [
    "# Grouping marital status\n",
    "data['marital-status'].replace('Never-married', 'NotMarried',inplace=True)\n",
    "data['marital-status'].replace(['Married-AF-spouse'], 'Married',inplace=True)\n",
    "data['marital-status'].replace(['Married-civ-spouse'], 'Married',inplace=True)\n",
    "data['marital-status'].replace(['Married-spouse-absent'], 'NotMarried',inplace=True)\n",
    "data['marital-status'].replace(['Separated'], 'Separated',inplace=True)\n",
    "data['marital-status'].replace(['Divorced'], 'Separated',inplace=True)\n",
    "data['marital-status'].replace(['Widowed'], 'Widowed',inplace=True)\n",
    "\n",
    "#Plotting count plot for marital status\n",
    "fig = plt.figure(figsize=(8,5))\n",
    "sns.countplot(x=\"marital-status\", data=data)"
   ]
  },
  {
   "cell_type": "code",
   "execution_count": null,
   "metadata": {},
   "outputs": [],
   "source": [
    "# Plotting cross tabulation values for marital status and sex\n",
    "pd.crosstab(data['marital-status'],data['sex'], margins=True)"
   ]
  },
  {
   "cell_type": "code",
   "execution_count": null,
   "metadata": {},
   "outputs": [],
   "source": [
    "#Identify and explain any interesting relationships between the class attribute and\n",
    "#the other attributes. You may refer to earlier visualizations or create new ones. \n",
    "\n",
    "# Dividing age into ranges\n",
    "data['age_bin'] = pd.cut(data['age'], 10)\n",
    "\n",
    "# Plotting count plot for age and income\n",
    "fig = plt.figure(figsize=(20,5))\n",
    "sns.countplot(x=\"age_bin\", hue=\"income\", data=data)"
   ]
  },
  {
   "cell_type": "markdown",
   "metadata": {},
   "source": [
    "The above plot shows that experience matters to earn more income. More experienced people earn more than less experience people."
   ]
  },
  {
   "cell_type": "code",
   "execution_count": null,
   "metadata": {},
   "outputs": [],
   "source": [
    "#Grouping working class\n",
    "data['work-class'].replace('State-gov', 'Government',inplace=True)\n",
    "data['work-class'].replace('Self-emp-not-inc', 'Self-Employed',inplace=True)\n",
    "data['work-class'].replace('Private', 'Private',inplace=True)\n",
    "data['work-class'].replace('Federal-gov', 'Government',inplace=True)\n",
    "data['work-class'].replace('Local-gov', 'Government',inplace=True)\n",
    "data['work-class'].replace('Self-emp-inc', 'Self-Employed',inplace=True)\n",
    "data['work-class'].replace('Without-pay', 'Others',inplace=True)\n",
    "data['work-class'].replace('Never-worked', 'Others',inplace=True)\n",
    "\n",
    "# Plotting count plot for working-class and income\n",
    "fig = plt.figure(figsize=(20,5))\n",
    "sns.countplot(x=\"work-class\", hue=\"income\", data=data)"
   ]
  },
  {
   "cell_type": "markdown",
   "metadata": {},
   "source": [
    "The above plot shows that there's a better chance to earn more than 50k if the employee were self-employed."
   ]
  },
  {
   "cell_type": "code",
   "execution_count": null,
   "metadata": {},
   "outputs": [],
   "source": [
    "# Plotting count plot for education and income\n",
    "fig = plt.figure(figsize=(20,5))\n",
    "sns.countplot(x=\"education\", hue=\"income\", data=data)"
   ]
  },
  {
   "cell_type": "markdown",
   "metadata": {},
   "source": [
    "This result is more expected. Higher the education level, higher you earn. The above plot justifies that."
   ]
  },
  {
   "cell_type": "code",
   "execution_count": null,
   "metadata": {},
   "outputs": [],
   "source": [
    "# Grouping occupation\n",
    "data['occupation'].replace('Adm-clerical', 'White-Collar',inplace=True)\n",
    "data['occupation'].replace('Exec-managerial', 'White-Collar',inplace=True)\n",
    "data['occupation'].replace('Handlers-cleaners', 'Blue-Collar',inplace=True)\n",
    "data['occupation'].replace('Prof-speciality', 'Professional',inplace=True)\n",
    "data['occupation'].replace('Other-service', 'Service',inplace=True)\n",
    "data['occupation'].replace('Sales', 'Service',inplace=True)\n",
    "data['occupation'].replace('Craft-repair', 'Blue-Collar',inplace=True)\n",
    "data['occupation'].replace('Transport-moving', 'Blue-Collar',inplace=True)\n",
    "data['occupation'].replace('Farming-fishing', 'Blue-Collar',inplace=True)\n",
    "data['occupation'].replace('Machine-op-inspct', 'Blue-Collar',inplace=True)\n",
    "data['occupation'].replace('Tech-support', 'Service',inplace=True)\n",
    "data['occupation'].replace('Protective-serv', 'Service',inplace=True)\n",
    "data['occupation'].replace('Armed-Forces', 'Other',inplace=True)\n",
    "data['occupation'].replace('Priv-house-serv', 'Blue-Collar',inplace=True)\n",
    "\n",
    "# Plotting count plot for occupation and income\n",
    "fig = plt.figure(figsize=(30,5))\n",
    "sns.countplot(x=\"occupation\", hue=\"income\", data=data)"
   ]
  },
  {
   "cell_type": "markdown",
   "metadata": {},
   "source": [
    "People working White Collar and Prof-Specialtity positions earn more than other people."
   ]
  },
  {
   "cell_type": "code",
   "execution_count": null,
   "metadata": {},
   "outputs": [],
   "source": [
    "# Plotting count plot for native-country and income\n",
    "fig = plt.figure(figsize=(5,5))\n",
    "sns.countplot(x=\"native-country\", hue=\"income\", data=data)"
   ]
  },
  {
   "cell_type": "markdown",
   "metadata": {},
   "source": [
    "The ratio of people with native-country as US earning more than 50k is lesser than the ratio for people with other native-origins. This result is kind of surprising."
   ]
  },
  {
   "cell_type": "code",
   "execution_count": null,
   "metadata": {},
   "outputs": [],
   "source": [
    "#Dividing hours per week into range values\n",
    "data['hours_bin'] = pd.cut(data['hours-per-week'], 10)\n",
    "\n",
    "# Plotting count plot for hours per week range and income\n",
    "fig = plt.figure(figsize=(20,5))\n",
    "sns.countplot(x=\"hours_bin\", hue=\"income\", data=data)"
   ]
  },
  {
   "cell_type": "markdown",
   "metadata": {},
   "source": [
    "People on average work 30-40 hours a week, but if the person works more, the probability of the person getting paid >50k increases."
   ]
  },
  {
   "cell_type": "code",
   "execution_count": null,
   "metadata": {},
   "outputs": [],
   "source": [
    "# Plotting count plot for Sex and income\n",
    "fig = plt.figure(figsize=(4,5))\n",
    "sns.countplot(x=\"sex\", hue=\"income\", data=data)"
   ]
  },
  {
   "cell_type": "markdown",
   "metadata": {},
   "source": [
    "The ratio of males earning more than 50k is greater than the ratio of females earning more than 50k."
   ]
  },
  {
   "cell_type": "code",
   "execution_count": null,
   "metadata": {},
   "outputs": [],
   "source": [
    "# Plotting count plot for relationship and income\n",
    "fig = plt.figure(figsize=(10,5))\n",
    "sns.countplot(x=\"relationship\", hue=\"income\", data=data)"
   ]
  },
  {
   "cell_type": "markdown",
   "metadata": {},
   "source": [
    "Husbands and Wives have more probability to earn money >50k than others."
   ]
  },
  {
   "cell_type": "markdown",
   "metadata": {},
   "source": [
    "# Data Processing\n",
    "\n",
    "What attributes do you decide to keep or remove? Please justify. \n",
    "\n",
    "1. education-num - This attribute is same as education column, so we can use just one of those two.\n",
    "2. fnlwgt - This attribute is useless, as it doesn't have any correlation with any attribute. We will remove this attribute.\n",
    "3. capital-gain and capital-loss - We can sum up capital gain and loss to have a column \"Net-Capital-Gain\" rather than having two columns representing different values.\n",
    "4. education - We could divide this into different classes like described above(Dropout, HighSchoolGrad, Community college, Bachelors, Masters, Doctorate). This gives us more solid categories, which could have more impact on prediction of the income.\n",
    "5. marital-status - Similar to education, we could just have 4 classes like NotMarried, Married, Seperated and Widowed to categorize this attribute.\n",
    "6. race - Remain as it is.\n",
    "7. occupation - Similar to education, we could just have 5 classes like Blue-Collar jobs, White-Collar jobs, service jobs, professional-speciality jobs, others.\n",
    "8. working-class -  Similar to education, we could just have 4 classes like Government, Private, Self-employed, others.\n",
    "9. Sex - Remain as it is.\n",
    "10. Hours-per-week - Remain as it is.\n",
    "11. Income - Remain as it is.\n",
    "12. Native-Country - Similar to education, we could just have 2 classes namely USA and others.\n",
    "\n",
    "We will drop the missing values, and the outliers."
   ]
  },
  {
   "cell_type": "code",
   "execution_count": null,
   "metadata": {},
   "outputs": [],
   "source": [
    "# Dropping missing values\n",
    "data = data.dropna()\n",
    "# Dropping duplicate values\n",
    "data = data.drop_duplicates()\n",
    "# Dropping outlier\n",
    "i = data[data['capital-gain'] > 80000].index\n",
    "data = data.drop(i)\n",
    "# Dropping the column fnlwgt\n",
    "data = data.drop(columns='fnlwgt')\n",
    "# Combining capital-gain and capital-loss into 1 column\n",
    "data['netcapitalgain'] = data.apply(lambda x: x['capital-gain'] + x['capital-loss'], axis=1)\n",
    "data = data.drop(columns='capital-gain')\n",
    "data = data.drop(columns='capital-loss')\n",
    "\n",
    "data.info()"
   ]
  },
  {
   "cell_type": "code",
   "execution_count": null,
   "metadata": {},
   "outputs": [],
   "source": [
    "data.describe()"
   ]
  },
  {
   "cell_type": "code",
   "execution_count": null,
   "metadata": {},
   "outputs": [],
   "source": [
    "# Compute the correlation matrix\n",
    "corr = data.corr()\n",
    "\n",
    "# Set up the matplotlib figure\n",
    "f, ax = plt.subplots(figsize=(16, 12))\n",
    "\n",
    "# Generate a custom diverging colormap\n",
    "cmap = sns.diverging_palette(220, 10, as_cmap=True)\n",
    "\n",
    "# Draw the heatmap\n",
    "_ = sns.heatmap(corr, cmap=\"YlGn\", square=True, ax = ax, annot=True, linewidth = 0.1)\n",
    "\n",
    "plt.title('Pearson Correlation of Features', y=1.05, size=15)"
   ]
  },
  {
   "cell_type": "markdown",
   "metadata": {},
   "source": [
    "We can see that the attributes have better correlation than before now. The visualizations and interpretations of the changed categorical attributes have already been shown for the previous part."
   ]
  },
  {
   "cell_type": "code",
   "execution_count": null,
   "metadata": {},
   "outputs": [],
   "source": []
  }
 ],
 "metadata": {
  "kernelspec": {
   "display_name": "Python 3",
   "language": "python",
   "name": "python3"
  },
  "language_info": {
   "codemirror_mode": {
    "name": "ipython",
    "version": 3
   },
   "file_extension": ".py",
   "mimetype": "text/x-python",
   "name": "python",
   "nbconvert_exporter": "python",
   "pygments_lexer": "ipython3",
   "version": "3.7.1"
  }
 },
 "nbformat": 4,
 "nbformat_minor": 2
}
