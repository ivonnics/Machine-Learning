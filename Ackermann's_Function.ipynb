{
  "nbformat": 4,
  "nbformat_minor": 0,
  "metadata": {
    "colab": {
      "name": "Ackermann's Function.ipynb",
      "provenance": [],
      "collapsed_sections": [],
      "authorship_tag": "ABX9TyO/S8JmpsqXpRgSIq0r3oLz",
      "include_colab_link": true
    },
    "kernelspec": {
      "name": "python3",
      "display_name": "Python 3"
    }
  },
  "cells": [
    {
      "cell_type": "markdown",
      "metadata": {
        "id": "view-in-github",
        "colab_type": "text"
      },
      "source": [
        "<a href=\"https://colab.research.google.com/github/ivonnics/Machine-Learning/blob/master/Ackermann's_Function.ipynb\" target=\"_parent\"><img src=\"https://colab.research.google.com/assets/colab-badge.svg\" alt=\"Open In Colab\"/></a>"
      ]
    },
    {
      "cell_type": "markdown",
      "metadata": {
        "id": "0032Vfu0DOjH",
        "colab_type": "text"
      },
      "source": [
        "Taken from:\n",
        "\n",
        "http://pythonfiddle.com/ackermanns-function/\n",
        "\n",
        "and\n",
        "\n",
        "https://en.wikipedia.org/wiki/Ackermann_function\n",
        "\n"
      ]
    },
    {
      "cell_type": "code",
      "metadata": {
        "id": "meOdvDlVAv6G",
        "colab_type": "code",
        "colab": {}
      },
      "source": [
        "#Robert Nool III\n",
        "#Ackermann's Function\n",
        "\n",
        "##                   ******FALLA con (1,971),(2,485),(3,7),(4,1),(5,0)******* \n",
        "#Start\n",
        "\n",
        "def ackermann(m,n):\n",
        "     if m == 0:\n",
        "          return (n + 1)\n",
        "     elif n == 0:\n",
        "          return ackermann(m - 1, 1)\n",
        "     else:\n",
        "          return ackermann(m - 1, ackermann(m, n - 1)) \n",
        "          \n",
        "x=int(input(\"What is the value for m? \"))\n",
        "print (x)\n",
        "\n",
        "y=int(input(\"What is the value for n? \"))\n",
        "print (y)\n",
        "\n",
        "print (\"\\nThe result of your inputs according to the Ackermann Function is:\")\n",
        "print (ackermann(x, y)) \n",
        "\n",
        "#End\n"
      ],
      "execution_count": 0,
      "outputs": []
    }
  ]
}