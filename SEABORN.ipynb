{
  "nbformat": 4,
  "nbformat_minor": 0,
  "metadata": {
    "colab": {
      "name": "SEABORN.ipynb",
      "version": "0.3.2",
      "provenance": [],
      "collapsed_sections": [],
      "include_colab_link": true
    },
    "kernelspec": {
      "name": "python3",
      "display_name": "Python 3"
    }
  },
  "cells": [
    {
      "cell_type": "markdown",
      "metadata": {
        "id": "view-in-github",
        "colab_type": "text"
      },
      "source": [
        "<a href=\"https://colab.research.google.com/github/ivonnics/Machine-Learning/blob/master/SEABORN.ipynb\" target=\"_parent\"><img src=\"https://colab.research.google.com/assets/colab-badge.svg\" alt=\"Open In Colab\"/></a>"
      ]
    },
    {
      "cell_type": "code",
      "metadata": {
        "id": "EGK5iNqDFh59",
        "colab_type": "code",
        "colab": {}
      },
      "source": [
        "# IMPORTING REQUIRED LIBRARIES & ASSIGNING ALIASES:\n",
        "import seaborn as sns\n",
        "import pandas as pd\n",
        "import matplotlib.pyplot as plt"
      ],
      "execution_count": 0,
      "outputs": []
    },
    {
      "cell_type": "markdown",
      "metadata": {
        "id": "ByV4I4-3FtB7",
        "colab_type": "text"
      },
      "source": [
        "# Tomado de: https://medium.com/@neuralnets/data-visualization-with-python-and-seaborn-part-1-29c9478a8700"
      ]
    },
    {
      "cell_type": "code",
      "metadata": {
        "id": "6oOX-aLoFy37",
        "colab_type": "code",
        "colab": {}
      },
      "source": [
        "# Loading built-in Datasets:\n",
        "iris = sns.load_dataset(\"iris\")\n",
        "iris.head(10)"
      ],
      "execution_count": 0,
      "outputs": []
    },
    {
      "cell_type": "code",
      "metadata": {
        "id": "VbBxMc4gF95B",
        "colab_type": "code",
        "colab": {}
      },
      "source": [
        "iris.describe()"
      ],
      "execution_count": 0,
      "outputs": []
    },
    {
      "cell_type": "code",
      "metadata": {
        "id": "Q9tj4kpYGlR1",
        "colab_type": "code",
        "colab": {}
      },
      "source": [
        "sns.set()\n",
        "%matplotlib inline\n",
        "sns.swarmplot(x='species', y=\"petal_length\", data=iris)"
      ],
      "execution_count": 0,
      "outputs": []
    },
    {
      "cell_type": "code",
      "metadata": {
        "id": "BZjhjbJgHKt2",
        "colab_type": "code",
        "colab": {}
      },
      "source": [
        "tips=sns.load_dataset('tips')\n",
        "sns.barplot(x='day', y='total_bill', data=tips)\n"
      ],
      "execution_count": 0,
      "outputs": []
    },
    {
      "cell_type": "code",
      "metadata": {
        "id": "jqA5y4WqH3cB",
        "colab_type": "code",
        "colab": {}
      },
      "source": [
        "sns.set_style('whitegrid')\n",
        "sns.boxplot(x='day',y='total_bill',data=tips)"
      ],
      "execution_count": 0,
      "outputs": []
    },
    {
      "cell_type": "code",
      "metadata": {
        "id": "_vpv5sXgIM6b",
        "colab_type": "code",
        "colab": {}
      },
      "source": [
        "sns.set_style('ticks')\n",
        "sns.boxplot(x='day',y='total_bill',data=tips)"
      ],
      "execution_count": 0,
      "outputs": []
    },
    {
      "cell_type": "code",
      "metadata": {
        "id": "eeFDoeslIXQ1",
        "colab_type": "code",
        "colab": {}
      },
      "source": [
        "sns.set_style('ticks')\n",
        "sns.boxplot(x='day',y='total_bill',data=tips)\n",
        "sns.despine()"
      ],
      "execution_count": 0,
      "outputs": []
    },
    {
      "cell_type": "code",
      "metadata": {
        "id": "4KN_-du8IkvN",
        "colab_type": "code",
        "colab": {}
      },
      "source": [
        "sns.set_style('ticks')\n",
        "sns.boxplot(x='day',y='total_bill',data=tips)\n",
        "sns.despine(left=True)"
      ],
      "execution_count": 0,
      "outputs": []
    },
    {
      "cell_type": "code",
      "metadata": {
        "id": "kLvn1Zn4Izly",
        "colab_type": "code",
        "colab": {}
      },
      "source": [
        "sns.set()\n",
        "sns.set_context('paper')\n",
        "sns.set_style('whitegrid')\n",
        "sns.boxplot(x='day',y='total_bill',data=tips)"
      ],
      "execution_count": 0,
      "outputs": []
    },
    {
      "cell_type": "markdown",
      "metadata": {
        "id": "40kxZ51eWSfo",
        "colab_type": "text"
      },
      "source": [
        "# Tomado de: https://seaborn.pydata.org/introduction.html"
      ]
    },
    {
      "cell_type": "code",
      "metadata": {
        "id": "8mjJeflLR3Ze",
        "colab_type": "code",
        "colab": {}
      },
      "source": [
        "sns.relplot(x=\"total_bill\", y=\"tip\", col=\"time\",\n",
        "            hue=\"smoker\", style=\"smoker\", size=\"size\",\n",
        "            data=tips);\n"
      ],
      "execution_count": 0,
      "outputs": []
    },
    {
      "cell_type": "code",
      "metadata": {
        "id": "dUNdxESiSDdW",
        "colab_type": "code",
        "colab": {}
      },
      "source": [
        "dots = sns.load_dataset(\"dots\")\n",
        "print(dots.shape)\n",
        "print(dots.describe())\n",
        "print(dots.head())\n",
        "sns.relplot(x=\"time\", y=\"firing_rate\", col=\"align\",\n",
        "            hue=\"choice\", size=\"coherence\", style=\"choice\",\n",
        "            facet_kws=dict(sharex=False),\n",
        "            kind=\"line\", legend=\"full\", data=dots);"
      ],
      "execution_count": 0,
      "outputs": []
    },
    {
      "cell_type": "code",
      "metadata": {
        "id": "51jF3LisUGx9",
        "colab_type": "code",
        "colab": {}
      },
      "source": [
        "fmri = sns.load_dataset(\"fmri\")\n",
        "print(fmri.shape)\n",
        "print(fmri.describe())\n",
        "print(fmri.head())\n",
        "sns.relplot(x=\"timepoint\", y=\"signal\", col=\"region\",\n",
        "            hue=\"event\", style=\"event\",\n",
        "            kind=\"line\", data=fmri);"
      ],
      "execution_count": 0,
      "outputs": []
    },
    {
      "cell_type": "code",
      "metadata": {
        "id": "wPrcN7pYUvN8",
        "colab_type": "code",
        "colab": {}
      },
      "source": [
        "sns.lmplot(x=\"total_bill\", y=\"tip\", col=\"time\", hue=\"smoker\",\n",
        "           data=tips);"
      ],
      "execution_count": 0,
      "outputs": []
    },
    {
      "cell_type": "code",
      "metadata": {
        "id": "CQgmUoUjU792",
        "colab_type": "code",
        "colab": {}
      },
      "source": [
        "sns.catplot(x=\"day\", y=\"total_bill\", hue=\"smoker\",\n",
        "            kind=\"swarm\", data=tips);"
      ],
      "execution_count": 0,
      "outputs": []
    },
    {
      "cell_type": "code",
      "metadata": {
        "id": "s6HOBpatVEbS",
        "colab_type": "code",
        "colab": {}
      },
      "source": [
        "sns.catplot(x=\"day\", y=\"total_bill\", hue=\"smoker\",\n",
        "            kind=\"violin\", split=True, data=tips);"
      ],
      "execution_count": 0,
      "outputs": []
    },
    {
      "cell_type": "code",
      "metadata": {
        "id": "9rvPhmK2VKT-",
        "colab_type": "code",
        "colab": {}
      },
      "source": [
        "sns.catplot(x=\"day\", y=\"total_bill\", hue=\"smoker\",\n",
        "            kind=\"bar\", data=tips);"
      ],
      "execution_count": 0,
      "outputs": []
    },
    {
      "cell_type": "code",
      "metadata": {
        "id": "cPPqxeBYVc6z",
        "colab_type": "code",
        "colab": {}
      },
      "source": [
        "import matplotlib.pyplot as plt\n",
        "f, axes = plt.subplots(1, 2, sharey=True, figsize=(6, 4))\n",
        "sns.boxplot(x=\"day\", y=\"tip\", data=tips, ax=axes[0])\n",
        "sns.scatterplot(x=\"total_bill\", y=\"tip\", hue=\"day\", data=tips, ax=axes[1]);"
      ],
      "execution_count": 0,
      "outputs": []
    },
    {
      "cell_type": "code",
      "metadata": {
        "id": "Hkrg1UZpVhcc",
        "colab_type": "code",
        "colab": {}
      },
      "source": [
        "sns.relplot(x=\"time\", y=\"firing_rate\", col=\"align\",\n",
        "            hue=\"choice\", size=\"coherence\", style=\"choice\",\n",
        "            height=4.5, aspect=2 / 3,\n",
        "            facet_kws=dict(sharex=False),\n",
        "            kind=\"line\", legend=\"full\", data=dots);"
      ],
      "execution_count": 0,
      "outputs": []
    },
    {
      "cell_type": "code",
      "metadata": {
        "id": "fkANQp6hVphK",
        "colab_type": "code",
        "colab": {}
      },
      "source": [
        "sns.jointplot(x=\"sepal_length\", y=\"petal_length\", data=iris);"
      ],
      "execution_count": 0,
      "outputs": []
    },
    {
      "cell_type": "code",
      "metadata": {
        "id": "EtcqTLiUVt0u",
        "colab_type": "code",
        "colab": {}
      },
      "source": [
        "sns.pairplot(data=iris, hue=\"species\");"
      ],
      "execution_count": 0,
      "outputs": []
    },
    {
      "cell_type": "code",
      "metadata": {
        "id": "He7hji4iVw1k",
        "colab_type": "code",
        "colab": {}
      },
      "source": [
        "sns.set(style=\"ticks\", palette=\"muted\")\n",
        "sns.relplot(x=\"total_bill\", y=\"tip\", col=\"time\",\n",
        "            hue=\"smoker\", style=\"smoker\", size=\"size\",\n",
        "            data=tips);"
      ],
      "execution_count": 0,
      "outputs": []
    },
    {
      "cell_type": "code",
      "metadata": {
        "id": "OmNITBDrWHjN",
        "colab_type": "code",
        "colab": {}
      },
      "source": [
        "sns.relplot(x=\"total_bill\", y=\"tip\", col=\"time\",\n",
        "            hue=\"size\", style=\"smoker\", size=\"size\",\n",
        "            palette=\"YlGnBu\", markers=[\"D\", \"o\"], sizes=(10, 125),\n",
        "            edgecolor=\".2\", linewidth=.5, alpha=.75,\n",
        "            data=tips);"
      ],
      "execution_count": 0,
      "outputs": []
    },
    {
      "cell_type": "code",
      "metadata": {
        "id": "FfxOMQU4WOKK",
        "colab_type": "code",
        "colab": {}
      },
      "source": [
        "g = sns.catplot(x=\"total_bill\", y=\"day\", hue=\"time\",\n",
        "                height=3.5, aspect=1.5,\n",
        "                kind=\"box\", legend=False, data=tips);\n",
        "g.add_legend(title=\"Meal\")\n",
        "g.set_axis_labels(\"Total bill ($)\", \"\")\n",
        "g.set(xlim=(0, 60), yticklabels=[\"Thursday\", \"Friday\", \"Saturday\", \"Sunday\"])\n",
        "g.despine(trim=True)\n",
        "g.fig.set_size_inches(6.5, 3.5)\n",
        "g.ax.set_xticks([5, 15, 25, 35, 45, 55], minor=True);\n",
        "plt.setp(g.ax.get_yticklabels(), rotation=30);"
      ],
      "execution_count": 0,
      "outputs": []
    }
  ]
}