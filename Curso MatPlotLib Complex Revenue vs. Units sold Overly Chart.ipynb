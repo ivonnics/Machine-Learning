{
 "cells": [
  {
   "cell_type": "code",
   "execution_count": 1,
   "metadata": {},
   "outputs": [
    {
     "data": {
      "text/plain": [
       "(72, 3)"
      ]
     },
     "execution_count": 1,
     "metadata": {},
     "output_type": "execute_result"
    }
   ],
   "source": [
    "import numpy as np\n",
    "import pandas as pd\n",
    "import matplotlib.pyplot as plt\n",
    "%matplotlib inline\n",
    "# needed for jupyter notebooks\n",
    "plt.rcParams['figure.figsize']=(20,10) # set the figure size\n",
    "plt.style.use('fivethirtyeight') # using the fivethirtyeight matplotlib theme\n",
    "url = \"C:\\\\Users\\\\ivonnics\\\\Documents\\\\JOSE LUIS\\\\Cursos Cursera\\\\Machine Learning\\\\sales.csv\"\n",
    "sales = pd.read_csv(url)\n",
    "sales.shape"
   ]
  },
  {
   "cell_type": "code",
   "execution_count": 2,
   "metadata": {},
   "outputs": [
    {
     "data": {
      "text/plain": [
       "['Date', 'Sales_Dollars', 'Quantity']"
      ]
     },
     "execution_count": 2,
     "metadata": {},
     "output_type": "execute_result"
    }
   ],
   "source": [
    "list(sales)"
   ]
  },
  {
   "cell_type": "code",
   "execution_count": 3,
   "metadata": {},
   "outputs": [
    {
     "data": {
      "text/html": [
       "<div>\n",
       "<style scoped>\n",
       "    .dataframe tbody tr th:only-of-type {\n",
       "        vertical-align: middle;\n",
       "    }\n",
       "\n",
       "    .dataframe tbody tr th {\n",
       "        vertical-align: top;\n",
       "    }\n",
       "\n",
       "    .dataframe thead th {\n",
       "        text-align: right;\n",
       "    }\n",
       "</style>\n",
       "<table border=\"1\" class=\"dataframe\">\n",
       "  <thead>\n",
       "    <tr style=\"text-align: right;\">\n",
       "      <th></th>\n",
       "      <th>Date</th>\n",
       "      <th>Sales_Dollars</th>\n",
       "      <th>Quantity</th>\n",
       "    </tr>\n",
       "  </thead>\n",
       "  <tbody>\n",
       "    <tr>\n",
       "      <th>0</th>\n",
       "      <td>2009-10-01</td>\n",
       "      <td>338630</td>\n",
       "      <td>2160</td>\n",
       "    </tr>\n",
       "    <tr>\n",
       "      <th>1</th>\n",
       "      <td>2009-11-01</td>\n",
       "      <td>339386</td>\n",
       "      <td>785</td>\n",
       "    </tr>\n",
       "    <tr>\n",
       "      <th>2</th>\n",
       "      <td>2009-12-01</td>\n",
       "      <td>400264</td>\n",
       "      <td>2118</td>\n",
       "    </tr>\n",
       "    <tr>\n",
       "      <th>3</th>\n",
       "      <td>2010-01-01</td>\n",
       "      <td>314640</td>\n",
       "      <td>2544</td>\n",
       "    </tr>\n",
       "    <tr>\n",
       "      <th>4</th>\n",
       "      <td>2010-02-01</td>\n",
       "      <td>311022</td>\n",
       "      <td>1288</td>\n",
       "    </tr>\n",
       "  </tbody>\n",
       "</table>\n",
       "</div>"
      ],
      "text/plain": [
       "         Date  Sales_Dollars  Quantity\n",
       "0  2009-10-01         338630      2160\n",
       "1  2009-11-01         339386       785\n",
       "2  2009-12-01         400264      2118\n",
       "3  2010-01-01         314640      2544\n",
       "4  2010-02-01         311022      1288"
      ]
     },
     "execution_count": 3,
     "metadata": {},
     "output_type": "execute_result"
    }
   ],
   "source": [
    "sales.head()"
   ]
  },
  {
   "cell_type": "code",
   "execution_count": 7,
   "metadata": {},
   "outputs": [
    {
     "data": {
      "text/plain": [
       "Date             0\n",
       "Sales_Dollars    0\n",
       "Quantity         0\n",
       "dtype: int64"
      ]
     },
     "execution_count": 7,
     "metadata": {},
     "output_type": "execute_result"
    }
   ],
   "source": [
    "sales.isnull().sum()"
   ]
  },
  {
   "cell_type": "code",
   "execution_count": 8,
   "metadata": {},
   "outputs": [
    {
     "name": "stdout",
     "output_type": "stream",
     "text": [
      "<class 'pandas.core.frame.DataFrame'>\n",
      "RangeIndex: 72 entries, 0 to 71\n",
      "Data columns (total 3 columns):\n",
      "Date             72 non-null object\n",
      "Sales_Dollars    72 non-null int64\n",
      "Quantity         72 non-null int64\n",
      "dtypes: int64(2), object(1)\n",
      "memory usage: 1.8+ KB\n"
     ]
    }
   ],
   "source": [
    "sales.info()"
   ]
  },
  {
   "cell_type": "code",
   "execution_count": 11,
   "metadata": {},
   "outputs": [
    {
     "data": {
      "text/plain": [
       "-0.18905274250248955"
      ]
     },
     "execution_count": 11,
     "metadata": {},
     "output_type": "execute_result"
    }
   ],
   "source": [
    "sales['Sales_Dollars'].corr(sales['Quantity'])"
   ]
  },
  {
   "cell_type": "code",
   "execution_count": 12,
   "metadata": {},
   "outputs": [
    {
     "data": {
      "text/plain": [
       "-0.18905274250248957"
      ]
     },
     "execution_count": 12,
     "metadata": {},
     "output_type": "execute_result"
    }
   ],
   "source": [
    "sales['Quantity'].corr(sales['Sales_Dollars'])"
   ]
  },
  {
   "cell_type": "code",
   "execution_count": 9,
   "metadata": {},
   "outputs": [
    {
     "data": {
      "text/plain": [
       "[Text(0, 0, 'FY 2010'),\n",
       " Text(0, 0, 'FY 2011'),\n",
       " Text(0, 0, 'FY 2012'),\n",
       " Text(0, 0, 'FY 2013'),\n",
       " Text(0, 0, 'FY 2014'),\n",
       " Text(0, 0, 'FY 2015')]"
      ]
     },
     "execution_count": 9,
     "metadata": {},
     "output_type": "execute_result"
    },
    {
     "data": {
      "image/png": "[encoded data removed]",
      "text/plain": [
       "<Figure size 432x288 with 2 Axes>"
      ]
     },
     "metadata": {
      "needs_background": "light"
     },
     "output_type": "display_data"
    }
   ],
   "source": [
    "sales.Date = pd.to_datetime(sales.Date) #set the date column to datetime\n",
    "sales.set_index('Date', inplace=True) #set the index to the date column\n",
    "# now the hack for the multi-colored bar chart: \n",
    "# create fiscal year dataframes covering the timeframes you are looking for. In this case,\n",
    "# the fiscal year covered October - September.\n",
    "# --------------------------------------------------------------------------------\n",
    "# Note: This should be set up as a function, but for this small amount of data,\n",
    "# I just manually built each fiscal year. This is not very pythonic and would\n",
    "# suck to do if you have many years of data, but it isn't bad for a few years of data. \n",
    "# --------------------------------------------------------------------------------\n",
    "fy10_all = sales[(sales.index >= '2009-10-01') & (sales.index < '2010-10-01')]\n",
    "fy11_all = sales[(sales.index >= '2010-10-01') & (sales.index < '2011-10-01')]\n",
    "fy12_all = sales[(sales.index >= '2011-10-01') & (sales.index < '2012-10-01')]\n",
    "fy13_all = sales[(sales.index >= '2012-10-01') & (sales.index < '2013-10-01')]\n",
    "fy14_all = sales[(sales.index >= '2013-10-01') & (sales.index < '2014-10-01')]\n",
    "fy15_all = sales[(sales.index >= '2014-10-01') & (sales.index < '2015-10-01')]\n",
    "# Let's build our plot\n",
    "fig, ax1 = plt.subplots()\n",
    "ax2 = ax1.twinx()  # set up the 2nd axis\n",
    "ax1.plot(sales.Sales_Dollars) #plot the Revenue on axis #1\n",
    "# the next few lines plot the fiscal year data as bar plots and changes the color for each.\n",
    "ax2.bar(fy10_all.index, fy10_all.Quantity,width=20, alpha=0.2, color='orange')\n",
    "ax2.bar(fy11_all.index, fy11_all.Quantity,width=20, alpha=0.2, color='gray')\n",
    "ax2.bar(fy12_all.index, fy12_all.Quantity,width=20, alpha=0.2, color='orange')\n",
    "ax2.bar(fy13_all.index, fy13_all.Quantity,width=20, alpha=0.2, color='gray')\n",
    "ax2.bar(fy14_all.index, fy14_all.Quantity,width=20, alpha=0.2, color='orange')\n",
    "ax2.bar(fy15_all.index, fy15_all.Quantity,width=20, alpha=0.2, color='gray')\n",
    "ax2.grid(b=False) # turn off grid #2\n",
    "ax1.set_title('Monthly Sales Revenue vs Number of Items Sold Per Month')\n",
    "ax1.set_ylabel('Monthly Sales Revenue')\n",
    "ax2.set_ylabel('Number of Items Sold')\n",
    "# Set the x-axis labels to be more meaningful than just some random dates.\n",
    "labels = ['FY 2010', 'FY 2011','FY 2012', 'FY 2013','FY 2014', 'FY 2015']\n",
    "ax1.axes.set_xticklabels(labels)"
   ]
  },
  {
   "cell_type": "code",
   "execution_count": 10,
   "metadata": {},
   "outputs": [
    {
     "data": {
      "text/plain": [
       "\"\\n\\nfrom: https://towardsdatascience.com/customizing-plots-with-python-matplotlib-bcf02691931f\\n\\nimport matplotlib.cm as cm\\n#loading dataset\\n#df = pd.read_csv(‘workout_log.csv’)\\n#df.columns = [‘date’, ‘distance_km’, ‘duration_min’, ‘delta_last_workout’, ‘day_category’]\\ndef scatterplot(df, x_dim, y_dim, category):\\n   x = df[x_dim]\\n   y = df[y_dim]\\n   #converting original (numerical) labels into categorical labels\\n   categories = df[category].apply(lambda x: 'weekday' if x == 0 else 'weekend')\\n   fig, ax = plt.subplots(figsize=(10, 5))\\n   #assigns a color to each data point\\n   colors = ['#2300A8', '#00A658']\\n   #iterates through the dataset plotting each data point and assigning it its corresponding color and label\\n   for i in range(len(df)):\\n     ax.scatter(x.ix[i], y.ix[i], alpha=0.70, color = colors[i%len(colors)], label=categories.ix[i])\\n   #adds title and axes labels\\n   ax.set_title('Distance vs Workout Duration')\\n   ax.set_xlabel('Distance (Km)')\\n   ax.set_ylabel('Workout Duration (min)')\\n   #removing top and right borders\\n   ax.spines['top'].set_visible(False)\\n   ax.spines['right'].set_visible(False)\\n   #adds major gridlines\\n   ax.grid(color='grey', linestyle='-', linewidth=0.25, alpha=0.5)\\n   #adds legend\\n   ax.legend(categories.unique())\\n   plt.show()\\nscatterplot(df, 'distance_km', 'duration_min', 'day_category')\\n\""
      ]
     },
     "execution_count": 10,
     "metadata": {},
     "output_type": "execute_result"
    }
   ],
   "source": [
    "\"\"\"\n",
    "\n",
    "from: https://towardsdatascience.com/customizing-plots-with-python-matplotlib-bcf02691931f\n",
    "\n",
    "import matplotlib.cm as cm\n",
    "#loading dataset\n",
    "#df = pd.read_csv(‘workout_log.csv’)\n",
    "#df.columns = [‘date’, ‘distance_km’, ‘duration_min’, ‘delta_last_workout’, ‘day_category’]\n",
    "def scatterplot(df, x_dim, y_dim, category):\n",
    "   x = df[x_dim]\n",
    "   y = df[y_dim]\n",
    "   #converting original (numerical) labels into categorical labels\n",
    "   categories = df[category].apply(lambda x: 'weekday' if x == 0 else 'weekend')\n",
    "   fig, ax = plt.subplots(figsize=(10, 5))\n",
    "   #assigns a color to each data point\n",
    "   colors = ['#2300A8', '#00A658']\n",
    "   #iterates through the dataset plotting each data point and assigning it its corresponding color and label\n",
    "   for i in range(len(df)):\n",
    "     ax.scatter(x.ix[i], y.ix[i], alpha=0.70, color = colors[i%len(colors)], label=categories.ix[i])\n",
    "   #adds title and axes labels\n",
    "   ax.set_title('Distance vs Workout Duration')\n",
    "   ax.set_xlabel('Distance (Km)')\n",
    "   ax.set_ylabel('Workout Duration (min)')\n",
    "   #removing top and right borders\n",
    "   ax.spines['top'].set_visible(False)\n",
    "   ax.spines['right'].set_visible(False)\n",
    "   #adds major gridlines\n",
    "   ax.grid(color='grey', linestyle='-', linewidth=0.25, alpha=0.5)\n",
    "   #adds legend\n",
    "   ax.legend(categories.unique())\n",
    "   plt.show()\n",
    "scatterplot(df, 'distance_km', 'duration_min', 'day_category')\n",
    "\"\"\""
   ]
  },
  {
   "cell_type": "code",
   "execution_count": null,
   "metadata": {},
   "outputs": [],
   "source": []
  },
  {
   "cell_type": "code",
   "execution_count": null,
   "metadata": {},
   "outputs": [],
   "source": []
  }
 ],
 "metadata": {
  "kernelspec": {
   "display_name": "Python 3",
   "language": "python",
   "name": "python3"
  },
  "language_info": {
   "codemirror_mode": {
    "name": "ipython",
    "version": 3
   },
   "file_extension": ".py",
   "mimetype": "text/x-python",
   "name": "python",
   "nbconvert_exporter": "python",
   "pygments_lexer": "ipython3",
   "version": "3.7.1"
  }
 },
 "nbformat": 4,
 "nbformat_minor": 2
}
